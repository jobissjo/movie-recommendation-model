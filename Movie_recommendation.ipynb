{
  "nbformat": 4,
  "nbformat_minor": 0,
  "metadata": {
    "colab": {
      "provenance": [],
      "authorship_tag": "ABX9TyP3aNqH3M1+D24jGZ8u6qNm",
      "include_colab_link": true
    },
    "kernelspec": {
      "name": "python3",
      "display_name": "Python 3"
    },
    "language_info": {
      "name": "python"
    }
  },
  "cells": [
    {
      "cell_type": "markdown",
      "metadata": {
        "id": "view-in-github",
        "colab_type": "text"
      },
      "source": [
        "<a href=\"https://colab.research.google.com/github/jobissjo/movie-recommendation-model/blob/main/Movie_recommendation.ipynb\" target=\"_parent\"><img src=\"https://colab.research.google.com/assets/colab-badge.svg\" alt=\"Open In Colab\"/></a>"
      ]
    },
    {
      "cell_type": "code",
      "source": [
        "# import kagglehub\n",
        "\n",
        "# # Download latest version\n",
        "# path = kagglehub.dataset_download(\"alanvourch/tmdb-movies-daily-updates\")\n",
        "\n",
        "# print(\"Path to dataset files:\", path)"
      ],
      "metadata": {
        "id": "YDY_0l0rkjXC"
      },
      "execution_count": 24,
      "outputs": []
    },
    {
      "cell_type": "code",
      "source": [
        "from google.colab import drive\n",
        "drive.mount('/content/drive')"
      ],
      "metadata": {
        "colab": {
          "base_uri": "https://localhost:8080/"
        },
        "id": "vLJolt_AklG_",
        "outputId": "cc2b96ee-b578-47d3-d3dd-59d2b3d9a83c"
      },
      "execution_count": 25,
      "outputs": [
        {
          "output_type": "stream",
          "name": "stdout",
          "text": [
            "Drive already mounted at /content/drive; to attempt to forcibly remount, call drive.mount(\"/content/drive\", force_remount=True).\n"
          ]
        }
      ]
    },
    {
      "cell_type": "markdown",
      "source": [
        "# Movie Recommendation"
      ],
      "metadata": {
        "id": "3VKl8hlojtlS"
      }
    },
    {
      "cell_type": "code",
      "execution_count": 26,
      "metadata": {
        "id": "klODJljIjizh",
        "colab": {
          "base_uri": "https://localhost:8080/",
          "height": 36
        },
        "outputId": "313b4c59-90b8-40ca-b3c4-6fb6510b6430"
      },
      "outputs": [
        {
          "output_type": "execute_result",
          "data": {
            "text/plain": [
              "'/content/drive/MyDrive/Datasets/'"
            ],
            "application/vnd.google.colaboratory.intrinsic+json": {
              "type": "string"
            }
          },
          "metadata": {},
          "execution_count": 26
        }
      ],
      "source": [
        "'/content/drive/MyDrive/Datasets/'"
      ]
    },
    {
      "cell_type": "code",
      "source": [
        "import polars as pl\n",
        "import cupy as cp\n",
        "import plotly.express as px\n",
        "import plotly.graph_objects as go"
      ],
      "metadata": {
        "id": "sq-tEWpd4mp0"
      },
      "execution_count": 27,
      "outputs": []
    },
    {
      "cell_type": "code",
      "source": [
        "dataset_path = \"/content/drive/MyDrive/Datasets/TMDB_all_movies.csv\""
      ],
      "metadata": {
        "id": "w00ZVJEI4ok4"
      },
      "execution_count": 28,
      "outputs": []
    },
    {
      "cell_type": "code",
      "source": [
        "df = pl.read_csv(dataset_path)"
      ],
      "metadata": {
        "id": "DyPY4xqq41SF"
      },
      "execution_count": 29,
      "outputs": []
    },
    {
      "cell_type": "code",
      "source": [
        "df"
      ],
      "metadata": {
        "colab": {
          "base_uri": "https://localhost:8080/",
          "height": 983
        },
        "id": "l0HMTCxu4-t1",
        "outputId": "640572bb-1369-4ce7-c9bc-83bcf288a288"
      },
      "execution_count": 30,
      "outputs": [
        {
          "output_type": "execute_result",
          "data": {
            "text/plain": [
              "shape: (1_047_578, 28)\n",
              "┌─────────┬────────────┬───────────┬───────────┬───┬───────────┬───────────┬───────────┬───────────┐\n",
              "│ id      ┆ title      ┆ vote_aver ┆ vote_coun ┆ … ┆ music_com ┆ imdb_rati ┆ imdb_vote ┆ poster_pa │\n",
              "│ ---     ┆ ---        ┆ age       ┆ t         ┆   ┆ poser     ┆ ng        ┆ s         ┆ th        │\n",
              "│ i64     ┆ str        ┆ ---       ┆ ---       ┆   ┆ ---       ┆ ---       ┆ ---       ┆ ---       │\n",
              "│         ┆            ┆ f64       ┆ f64       ┆   ┆ str       ┆ f64       ┆ f64       ┆ str       │\n",
              "╞═════════╪════════════╪═══════════╪═══════════╪═══╪═══════════╪═══════════╪═══════════╪═══════════╡\n",
              "│ 2       ┆ Ariel      ┆ 7.1       ┆ 339.0     ┆ … ┆           ┆ 7.4       ┆ 8924.0    ┆ /ojDg0PGv │\n",
              "│         ┆            ┆           ┆           ┆   ┆           ┆           ┆           ┆ s6R9xYFod │\n",
              "│         ┆            ┆           ┆           ┆   ┆           ┆           ┆           ┆ Rct2kdI6w │\n",
              "│         ┆            ┆           ┆           ┆   ┆           ┆           ┆           ┆ C.j…      │\n",
              "│ 3       ┆ Shadows in ┆ 7.3       ┆ 402.0     ┆ … ┆           ┆ 7.5       ┆ 7704.0    ┆ /nj01hspa │\n",
              "│         ┆ Paradise   ┆           ┆           ┆   ┆           ┆           ┆           ┆ wPof0mJml │\n",
              "│         ┆            ┆           ┆           ┆   ┆           ┆           ┆           ┆ gfjuLyJuR │\n",
              "│         ┆            ┆           ┆           ┆   ┆           ┆           ┆           ┆ N.j…      │\n",
              "│ 5       ┆ Four Rooms ┆ 5.9       ┆ 2656.0    ┆ … ┆ Combustib ┆ 6.7       ┆ 113283.0  ┆ /pyCk5Jgt │\n",
              "│         ┆            ┆           ┆           ┆   ┆ le Edison ┆           ┆           ┆ RZwRxnXwf │\n",
              "│         ┆            ┆           ┆           ┆   ┆           ┆           ┆           ┆ rvyzukaKu │\n",
              "│         ┆            ┆           ┆           ┆   ┆           ┆           ┆           ┆ e.j…      │\n",
              "│ 6       ┆ Judgment   ┆ 6.5       ┆ 333.0     ┆ … ┆ Alan      ┆ 6.6       ┆ 19556.0   ┆ /3rvvpS9Y │\n",
              "│         ┆ Night      ┆           ┆           ┆   ┆ Silvestri ┆           ┆           ┆ PM5HB2f4H │\n",
              "│         ┆            ┆           ┆           ┆   ┆           ┆           ┆           ┆ YiNiJVtda │\n",
              "│         ┆            ┆           ┆           ┆   ┆           ┆           ┆           ┆ m.j…      │\n",
              "│ 8       ┆ Life in    ┆ 7.5       ┆ 27.0      ┆ … ┆           ┆ 8.2       ┆ 284.0     ┆ /7ln81BRn │\n",
              "│         ┆ Loops (A   ┆           ┆           ┆   ┆           ┆           ┆           ┆ PR2wqxuIT │\n",
              "│         ┆ Megacities ┆           ┆           ┆   ┆           ┆           ┆           ┆ ZxEciCe1l │\n",
              "│         ┆ RM…        ┆           ┆           ┆   ┆           ┆           ┆           ┆ c.j…      │\n",
              "│ …       ┆ …          ┆ …         ┆ …         ┆ … ┆ …         ┆ …         ┆ …         ┆ …         │\n",
              "│ 1424495 ┆ Sven       ┆ 0.0       ┆ 0.0       ┆ … ┆           ┆ null      ┆ null      ┆           │\n",
              "│ 1424496 ┆ Un fil à   ┆ 0.0       ┆ 0.0       ┆ … ┆           ┆ null      ┆ null      ┆           │\n",
              "│         ┆ la patte   ┆           ┆           ┆   ┆           ┆           ┆           ┆           │\n",
              "│ 1424497 ┆ Keine Spur ┆ 0.0       ┆ 0.0       ┆ … ┆           ┆ null      ┆ null      ┆           │\n",
              "│         ┆ von        ┆           ┆           ┆   ┆           ┆           ┆           ┆           │\n",
              "│         ┆ jemandem,  ┆           ┆           ┆   ┆           ┆           ┆           ┆           │\n",
              "│         ┆ der f…     ┆           ┆           ┆   ┆           ┆           ┆           ┆           │\n",
              "│ 2662126 ┆            ┆ null      ┆ null      ┆ … ┆           ┆ null      ┆ null      ┆           │\n",
              "│ 5180730 ┆            ┆ null      ┆ null      ┆ … ┆ Dario Mar ┆ null      ┆ null      ┆           │\n",
              "│         ┆            ┆           ┆           ┆   ┆ ianelli   ┆           ┆           ┆           │\n",
              "└─────────┴────────────┴───────────┴───────────┴───┴───────────┴───────────┴───────────┴───────────┘"
            ],
            "text/html": [
              "<div><style>\n",
              ".dataframe > thead > tr,\n",
              ".dataframe > tbody > tr {\n",
              "  text-align: right;\n",
              "  white-space: pre-wrap;\n",
              "}\n",
              "</style>\n",
              "<small>shape: (1_047_578, 28)</small><table border=\"1\" class=\"dataframe\"><thead><tr><th>id</th><th>title</th><th>vote_average</th><th>vote_count</th><th>status</th><th>release_date</th><th>revenue</th><th>runtime</th><th>budget</th><th>imdb_id</th><th>original_language</th><th>original_title</th><th>overview</th><th>popularity</th><th>tagline</th><th>genres</th><th>production_companies</th><th>production_countries</th><th>spoken_languages</th><th>cast</th><th>director</th><th>director_of_photography</th><th>writers</th><th>producers</th><th>music_composer</th><th>imdb_rating</th><th>imdb_votes</th><th>poster_path</th></tr><tr><td>i64</td><td>str</td><td>f64</td><td>f64</td><td>str</td><td>str</td><td>f64</td><td>f64</td><td>f64</td><td>str</td><td>str</td><td>str</td><td>str</td><td>f64</td><td>str</td><td>str</td><td>str</td><td>str</td><td>str</td><td>str</td><td>str</td><td>str</td><td>str</td><td>str</td><td>str</td><td>f64</td><td>f64</td><td>str</td></tr></thead><tbody><tr><td>2</td><td>&quot;Ariel&quot;</td><td>7.1</td><td>339.0</td><td>&quot;Released&quot;</td><td>&quot;1988-10-21&quot;</td><td>0.0</td><td>73.0</td><td>0.0</td><td>&quot;tt0094675&quot;</td><td>&quot;fi&quot;</td><td>&quot;Ariel&quot;</td><td>&quot;A Finnish man goes to the city…</td><td>10.454</td><td>&quot;&quot;</td><td>&quot;Comedy, Drama, Romance, Crime&quot;</td><td>&quot;Villealfa Filmproductions&quot;</td><td>&quot;Finland&quot;</td><td>&quot;suomi&quot;</td><td>&quot;Jyrki Olsonen, Pentti Auer, Es…</td><td>&quot;Aki Kaurismäki&quot;</td><td>&quot;Timo Salminen&quot;</td><td>&quot;Aki Kaurismäki&quot;</td><td>&quot;Aki Kaurismäki&quot;</td><td>&quot;&quot;</td><td>7.4</td><td>8924.0</td><td>&quot;/ojDg0PGvs6R9xYFodRct2kdI6wC.j…</td></tr><tr><td>3</td><td>&quot;Shadows in Paradise&quot;</td><td>7.3</td><td>402.0</td><td>&quot;Released&quot;</td><td>&quot;1986-10-17&quot;</td><td>0.0</td><td>74.0</td><td>0.0</td><td>&quot;tt0092149&quot;</td><td>&quot;fi&quot;</td><td>&quot;Varjoja paratiisissa&quot;</td><td>&quot;Nikander, a rubbish collector …</td><td>16.411</td><td>&quot;&quot;</td><td>&quot;Comedy, Drama, Romance&quot;</td><td>&quot;Villealfa Filmproductions&quot;</td><td>&quot;Finland&quot;</td><td>&quot;suomi, English, svenska&quot;</td><td>&quot;Sirkka Silin, Helmeri Pellonpä…</td><td>&quot;Aki Kaurismäki&quot;</td><td>&quot;Timo Salminen&quot;</td><td>&quot;Aki Kaurismäki&quot;</td><td>&quot;Mika Kaurismäki&quot;</td><td>&quot;&quot;</td><td>7.5</td><td>7704.0</td><td>&quot;/nj01hspawPof0mJmlgfjuLyJuRN.j…</td></tr><tr><td>5</td><td>&quot;Four Rooms&quot;</td><td>5.9</td><td>2656.0</td><td>&quot;Released&quot;</td><td>&quot;1995-12-09&quot;</td><td>4.257354e6</td><td>98.0</td><td>4e6</td><td>&quot;tt0113101&quot;</td><td>&quot;en&quot;</td><td>&quot;Four Rooms&quot;</td><td>&quot;It&#x27;s Ted the Bellhop&#x27;s first n…</td><td>18.777</td><td>&quot;Twelve outrageous guests. Four…</td><td>&quot;Comedy&quot;</td><td>&quot;Miramax, A Band Apart&quot;</td><td>&quot;United States of America&quot;</td><td>&quot;English&quot;</td><td>&quot;Salma Hayek Pinault, Unruly Ju…</td><td>&quot;Quentin Tarantino, Robert Rodr…</td><td>&quot;Andrzej Sekula, Phil Parmet, G…</td><td>&quot;Quentin Tarantino, Robert Rodr…</td><td>&quot;Quentin Tarantino, Alexandre R…</td><td>&quot;Combustible Edison&quot;</td><td>6.7</td><td>113283.0</td><td>&quot;/pyCk5JgtRZwRxnXwfrvyzukaKue.j…</td></tr><tr><td>6</td><td>&quot;Judgment Night&quot;</td><td>6.5</td><td>333.0</td><td>&quot;Released&quot;</td><td>&quot;1993-10-15&quot;</td><td>1.2136938e7</td><td>109.0</td><td>2.1e7</td><td>&quot;tt0107286&quot;</td><td>&quot;en&quot;</td><td>&quot;Judgment Night&quot;</td><td>&quot;Four young friends, while taki…</td><td>12.11</td><td>&quot;Don&#x27;t move. Don&#x27;t whisper. Don…</td><td>&quot;Action, Crime, Thriller&quot;</td><td>&quot;Largo Entertainment, JVC, Univ…</td><td>&quot;United States of America&quot;</td><td>&quot;English&quot;</td><td>&quot;Stephen Dorff, Everlast, Will …</td><td>&quot;Stephen Hopkins&quot;</td><td>&quot;Peter Levy&quot;</td><td>&quot;Jere Cunningham, Lewis Colick&quot;</td><td>&quot;Gene Levy, Marilyn Vance, Lloy…</td><td>&quot;Alan Silvestri&quot;</td><td>6.6</td><td>19556.0</td><td>&quot;/3rvvpS9YPM5HB2f4HYiNiJVtdam.j…</td></tr><tr><td>8</td><td>&quot;Life in Loops (A Megacities RM…</td><td>7.5</td><td>27.0</td><td>&quot;Released&quot;</td><td>&quot;2006-01-01&quot;</td><td>0.0</td><td>80.0</td><td>42000.0</td><td>&quot;tt0825671&quot;</td><td>&quot;en&quot;</td><td>&quot;Life in Loops (A Megacities RM…</td><td>&quot;Timo Novotny labels his new pr…</td><td>3.203</td><td>&quot;A Megacities remix.&quot;</td><td>&quot;Documentary&quot;</td><td>&quot;inLoops&quot;</td><td>&quot;Austria&quot;</td><td>&quot;English, हिन्दी, 日本語, Pусский,…</td><td>&quot;&quot;</td><td>&quot;Timo Novotny&quot;</td><td>&quot;Wolfgang Thaler&quot;</td><td>&quot;Michael Glawogger, Timo Novotn…</td><td>&quot;Ulrich Gehmacher, Timo Novotny&quot;</td><td>&quot;&quot;</td><td>8.2</td><td>284.0</td><td>&quot;/7ln81BRnPR2wqxuITZxEciCe1lc.j…</td></tr><tr><td>&hellip;</td><td>&hellip;</td><td>&hellip;</td><td>&hellip;</td><td>&hellip;</td><td>&hellip;</td><td>&hellip;</td><td>&hellip;</td><td>&hellip;</td><td>&hellip;</td><td>&hellip;</td><td>&hellip;</td><td>&hellip;</td><td>&hellip;</td><td>&hellip;</td><td>&hellip;</td><td>&hellip;</td><td>&hellip;</td><td>&hellip;</td><td>&hellip;</td><td>&hellip;</td><td>&hellip;</td><td>&hellip;</td><td>&hellip;</td><td>&hellip;</td><td>&hellip;</td><td>&hellip;</td><td>&hellip;</td></tr><tr><td>1424495</td><td>&quot;Sven&quot;</td><td>0.0</td><td>0.0</td><td>&quot;Released&quot;</td><td>&quot;&quot;</td><td>0.0</td><td>16.0</td><td>0.0</td><td>&quot;&quot;</td><td>&quot;en&quot;</td><td>&quot;Sven&quot;</td><td>&quot;Sven is just a simple, small t…</td><td>0.0</td><td>&quot;A story about a simple, small …</td><td>&quot;&quot;</td><td>&quot;&quot;</td><td>&quot;&quot;</td><td>&quot;&quot;</td><td>&quot;&quot;</td><td>&quot;&quot;</td><td>&quot;&quot;</td><td>&quot;&quot;</td><td>&quot;&quot;</td><td>&quot;&quot;</td><td>null</td><td>null</td><td>&quot;&quot;</td></tr><tr><td>1424496</td><td>&quot;Un fil à la patte&quot;</td><td>0.0</td><td>0.0</td><td>&quot;Released&quot;</td><td>&quot;&quot;</td><td>0.0</td><td>0.0</td><td>0.0</td><td>&quot;tt0207808&quot;</td><td>&quot;pl&quot;</td><td>&quot;Un fil à la patte&quot;</td><td>&quot;&quot;</td><td>0.0</td><td>&quot;&quot;</td><td>&quot;&quot;</td><td>&quot;&quot;</td><td>&quot;&quot;</td><td>&quot;&quot;</td><td>&quot;&quot;</td><td>&quot;&quot;</td><td>&quot;&quot;</td><td>&quot;&quot;</td><td>&quot;&quot;</td><td>&quot;&quot;</td><td>null</td><td>null</td><td>&quot;&quot;</td></tr><tr><td>1424497</td><td>&quot;Keine Spur von jemandem, der f…</td><td>0.0</td><td>0.0</td><td>&quot;Released&quot;</td><td>&quot;&quot;</td><td>0.0</td><td>0.0</td><td>0.0</td><td>&quot;tt35198826&quot;</td><td>&quot;de&quot;</td><td>&quot;Keine Spur von jemandem, der f…</td><td>&quot;&quot;</td><td>0.0</td><td>&quot;&quot;</td><td>&quot;&quot;</td><td>&quot;&quot;</td><td>&quot;&quot;</td><td>&quot;&quot;</td><td>&quot;&quot;</td><td>&quot;&quot;</td><td>&quot;&quot;</td><td>&quot;&quot;</td><td>&quot;&quot;</td><td>&quot;&quot;</td><td>null</td><td>null</td><td>&quot;&quot;</td></tr><tr><td>2662126</td><td>&quot;&quot;</td><td>null</td><td>null</td><td>&quot;&quot;</td><td>&quot;&quot;</td><td>null</td><td>null</td><td>null</td><td>&quot;&quot;</td><td>&quot;&quot;</td><td>&quot;&quot;</td><td>&quot;&quot;</td><td>null</td><td>&quot;&quot;</td><td>&quot;&quot;</td><td>&quot;&quot;</td><td>&quot;&quot;</td><td>&quot;&quot;</td><td>&quot;Johannes Allmayer, Jules Warin…</td><td>&quot;Florian Gallenberger&quot;</td><td>&quot;Kolja Brandt&quot;</td><td>&quot;Florian Gallenberger, Torsten …</td><td>&quot;Nicolas Steil, Benjamin Herrma…</td><td>&quot;&quot;</td><td>null</td><td>null</td><td>&quot;&quot;</td></tr><tr><td>5180730</td><td>&quot;&quot;</td><td>null</td><td>null</td><td>&quot;&quot;</td><td>&quot;&quot;</td><td>null</td><td>null</td><td>null</td><td>&quot;&quot;</td><td>&quot;&quot;</td><td>&quot;&quot;</td><td>&quot;&quot;</td><td>null</td><td>&quot;&quot;</td><td>&quot;&quot;</td><td>&quot;&quot;</td><td>&quot;&quot;</td><td>&quot;&quot;</td><td>&quot;Hailee Steinfeld, Tim Martin G…</td><td>&quot;Travis Knight&quot;</td><td>&quot;Enrique Chediak&quot;</td><td>&quot;Christina Hodson, Shoji Kawamo…</td><td>&quot;Chris Brigham, Stephen Davis, …</td><td>&quot;Dario Marianelli&quot;</td><td>null</td><td>null</td><td>&quot;&quot;</td></tr></tbody></table></div>"
            ]
          },
          "metadata": {},
          "execution_count": 30
        }
      ]
    },
    {
      "cell_type": "code",
      "source": [
        "df.columns"
      ],
      "metadata": {
        "colab": {
          "base_uri": "https://localhost:8080/"
        },
        "id": "whST43nh5A9l",
        "outputId": "af21f34b-d553-4477-9d9d-c0f0dc3b82d0"
      },
      "execution_count": 31,
      "outputs": [
        {
          "output_type": "execute_result",
          "data": {
            "text/plain": [
              "['id',\n",
              " 'title',\n",
              " 'vote_average',\n",
              " 'vote_count',\n",
              " 'status',\n",
              " 'release_date',\n",
              " 'revenue',\n",
              " 'runtime',\n",
              " 'budget',\n",
              " 'imdb_id',\n",
              " 'original_language',\n",
              " 'original_title',\n",
              " 'overview',\n",
              " 'popularity',\n",
              " 'tagline',\n",
              " 'genres',\n",
              " 'production_companies',\n",
              " 'production_countries',\n",
              " 'spoken_languages',\n",
              " 'cast',\n",
              " 'director',\n",
              " 'director_of_photography',\n",
              " 'writers',\n",
              " 'producers',\n",
              " 'music_composer',\n",
              " 'imdb_rating',\n",
              " 'imdb_votes',\n",
              " 'poster_path']"
            ]
          },
          "metadata": {},
          "execution_count": 31
        }
      ]
    },
    {
      "cell_type": "code",
      "source": [
        "# not required fields -- production_companies, budget, revenue, overview"
      ],
      "metadata": {
        "id": "BRZp9l1M5R6R"
      },
      "execution_count": 32,
      "outputs": []
    },
    {
      "cell_type": "code",
      "source": [
        "df = df.drop([\"production_companies\", \"budget\", \"revenue\", \"overview\"])"
      ],
      "metadata": {
        "id": "YqA0VEgc6H_1"
      },
      "execution_count": 33,
      "outputs": []
    },
    {
      "cell_type": "code",
      "source": [
        "df = df.filter(pl.col(\"status\") == \"Released\")"
      ],
      "metadata": {
        "id": "VOXUjgCq6KVe"
      },
      "execution_count": 34,
      "outputs": []
    },
    {
      "cell_type": "code",
      "source": [
        "df = df.drop(\"status\")"
      ],
      "metadata": {
        "id": "1l52cWAj6uR5"
      },
      "execution_count": 35,
      "outputs": []
    },
    {
      "cell_type": "code",
      "source": [
        "df = df.drop_nulls(\"genres\")\n",
        "df"
      ],
      "metadata": {
        "colab": {
          "base_uri": "https://localhost:8080/",
          "height": 931
        },
        "id": "jMnt_FrP6djL",
        "outputId": "ea479430-88b4-4d39-b617-284ba44e1a4b"
      },
      "execution_count": 36,
      "outputs": [
        {
          "output_type": "execute_result",
          "data": {
            "text/plain": [
              "shape: (1_029_875, 23)\n",
              "┌─────────┬────────────┬───────────┬───────────┬───┬───────────┬───────────┬───────────┬───────────┐\n",
              "│ id      ┆ title      ┆ vote_aver ┆ vote_coun ┆ … ┆ music_com ┆ imdb_rati ┆ imdb_vote ┆ poster_pa │\n",
              "│ ---     ┆ ---        ┆ age       ┆ t         ┆   ┆ poser     ┆ ng        ┆ s         ┆ th        │\n",
              "│ i64     ┆ str        ┆ ---       ┆ ---       ┆   ┆ ---       ┆ ---       ┆ ---       ┆ ---       │\n",
              "│         ┆            ┆ f64       ┆ f64       ┆   ┆ str       ┆ f64       ┆ f64       ┆ str       │\n",
              "╞═════════╪════════════╪═══════════╪═══════════╪═══╪═══════════╪═══════════╪═══════════╪═══════════╡\n",
              "│ 2       ┆ Ariel      ┆ 7.1       ┆ 339.0     ┆ … ┆           ┆ 7.4       ┆ 8924.0    ┆ /ojDg0PGv │\n",
              "│         ┆            ┆           ┆           ┆   ┆           ┆           ┆           ┆ s6R9xYFod │\n",
              "│         ┆            ┆           ┆           ┆   ┆           ┆           ┆           ┆ Rct2kdI6w │\n",
              "│         ┆            ┆           ┆           ┆   ┆           ┆           ┆           ┆ C.j…      │\n",
              "│ 3       ┆ Shadows in ┆ 7.3       ┆ 402.0     ┆ … ┆           ┆ 7.5       ┆ 7704.0    ┆ /nj01hspa │\n",
              "│         ┆ Paradise   ┆           ┆           ┆   ┆           ┆           ┆           ┆ wPof0mJml │\n",
              "│         ┆            ┆           ┆           ┆   ┆           ┆           ┆           ┆ gfjuLyJuR │\n",
              "│         ┆            ┆           ┆           ┆   ┆           ┆           ┆           ┆ N.j…      │\n",
              "│ 5       ┆ Four Rooms ┆ 5.9       ┆ 2656.0    ┆ … ┆ Combustib ┆ 6.7       ┆ 113283.0  ┆ /pyCk5Jgt │\n",
              "│         ┆            ┆           ┆           ┆   ┆ le Edison ┆           ┆           ┆ RZwRxnXwf │\n",
              "│         ┆            ┆           ┆           ┆   ┆           ┆           ┆           ┆ rvyzukaKu │\n",
              "│         ┆            ┆           ┆           ┆   ┆           ┆           ┆           ┆ e.j…      │\n",
              "│ 6       ┆ Judgment   ┆ 6.5       ┆ 333.0     ┆ … ┆ Alan      ┆ 6.6       ┆ 19556.0   ┆ /3rvvpS9Y │\n",
              "│         ┆ Night      ┆           ┆           ┆   ┆ Silvestri ┆           ┆           ┆ PM5HB2f4H │\n",
              "│         ┆            ┆           ┆           ┆   ┆           ┆           ┆           ┆ YiNiJVtda │\n",
              "│         ┆            ┆           ┆           ┆   ┆           ┆           ┆           ┆ m.j…      │\n",
              "│ 8       ┆ Life in    ┆ 7.5       ┆ 27.0      ┆ … ┆           ┆ 8.2       ┆ 284.0     ┆ /7ln81BRn │\n",
              "│         ┆ Loops (A   ┆           ┆           ┆   ┆           ┆           ┆           ┆ PR2wqxuIT │\n",
              "│         ┆ Megacities ┆           ┆           ┆   ┆           ┆           ┆           ┆ ZxEciCe1l │\n",
              "│         ┆ RM…        ┆           ┆           ┆   ┆           ┆           ┆           ┆ c.j…      │\n",
              "│ …       ┆ …          ┆ …         ┆ …         ┆ … ┆ …         ┆ …         ┆ …         ┆ …         │\n",
              "│ 1424492 ┆ NERDESIN   ┆ 0.0       ┆ 0.0       ┆ … ┆           ┆ null      ┆ null      ┆           │\n",
              "│         ┆ PEDRO      ┆           ┆           ┆   ┆           ┆           ┆           ┆           │\n",
              "│         ┆ PASCAL     ┆           ┆           ┆   ┆           ┆           ┆           ┆           │\n",
              "│ 1424493 ┆ First Day  ┆ 0.0       ┆ 0.0       ┆ … ┆           ┆ null      ┆ null      ┆           │\n",
              "│         ┆ of School  ┆           ┆           ┆   ┆           ┆           ┆           ┆           │\n",
              "│ 1424495 ┆ Sven       ┆ 0.0       ┆ 0.0       ┆ … ┆           ┆ null      ┆ null      ┆           │\n",
              "│ 1424496 ┆ Un fil à   ┆ 0.0       ┆ 0.0       ┆ … ┆           ┆ null      ┆ null      ┆           │\n",
              "│         ┆ la patte   ┆           ┆           ┆   ┆           ┆           ┆           ┆           │\n",
              "│ 1424497 ┆ Keine Spur ┆ 0.0       ┆ 0.0       ┆ … ┆           ┆ null      ┆ null      ┆           │\n",
              "│         ┆ von        ┆           ┆           ┆   ┆           ┆           ┆           ┆           │\n",
              "│         ┆ jemandem,  ┆           ┆           ┆   ┆           ┆           ┆           ┆           │\n",
              "│         ┆ der f…     ┆           ┆           ┆   ┆           ┆           ┆           ┆           │\n",
              "└─────────┴────────────┴───────────┴───────────┴───┴───────────┴───────────┴───────────┴───────────┘"
            ],
            "text/html": [
              "<div><style>\n",
              ".dataframe > thead > tr,\n",
              ".dataframe > tbody > tr {\n",
              "  text-align: right;\n",
              "  white-space: pre-wrap;\n",
              "}\n",
              "</style>\n",
              "<small>shape: (1_029_875, 23)</small><table border=\"1\" class=\"dataframe\"><thead><tr><th>id</th><th>title</th><th>vote_average</th><th>vote_count</th><th>release_date</th><th>runtime</th><th>imdb_id</th><th>original_language</th><th>original_title</th><th>popularity</th><th>tagline</th><th>genres</th><th>production_countries</th><th>spoken_languages</th><th>cast</th><th>director</th><th>director_of_photography</th><th>writers</th><th>producers</th><th>music_composer</th><th>imdb_rating</th><th>imdb_votes</th><th>poster_path</th></tr><tr><td>i64</td><td>str</td><td>f64</td><td>f64</td><td>str</td><td>f64</td><td>str</td><td>str</td><td>str</td><td>f64</td><td>str</td><td>str</td><td>str</td><td>str</td><td>str</td><td>str</td><td>str</td><td>str</td><td>str</td><td>str</td><td>f64</td><td>f64</td><td>str</td></tr></thead><tbody><tr><td>2</td><td>&quot;Ariel&quot;</td><td>7.1</td><td>339.0</td><td>&quot;1988-10-21&quot;</td><td>73.0</td><td>&quot;tt0094675&quot;</td><td>&quot;fi&quot;</td><td>&quot;Ariel&quot;</td><td>10.454</td><td>&quot;&quot;</td><td>&quot;Comedy, Drama, Romance, Crime&quot;</td><td>&quot;Finland&quot;</td><td>&quot;suomi&quot;</td><td>&quot;Jyrki Olsonen, Pentti Auer, Es…</td><td>&quot;Aki Kaurismäki&quot;</td><td>&quot;Timo Salminen&quot;</td><td>&quot;Aki Kaurismäki&quot;</td><td>&quot;Aki Kaurismäki&quot;</td><td>&quot;&quot;</td><td>7.4</td><td>8924.0</td><td>&quot;/ojDg0PGvs6R9xYFodRct2kdI6wC.j…</td></tr><tr><td>3</td><td>&quot;Shadows in Paradise&quot;</td><td>7.3</td><td>402.0</td><td>&quot;1986-10-17&quot;</td><td>74.0</td><td>&quot;tt0092149&quot;</td><td>&quot;fi&quot;</td><td>&quot;Varjoja paratiisissa&quot;</td><td>16.411</td><td>&quot;&quot;</td><td>&quot;Comedy, Drama, Romance&quot;</td><td>&quot;Finland&quot;</td><td>&quot;suomi, English, svenska&quot;</td><td>&quot;Sirkka Silin, Helmeri Pellonpä…</td><td>&quot;Aki Kaurismäki&quot;</td><td>&quot;Timo Salminen&quot;</td><td>&quot;Aki Kaurismäki&quot;</td><td>&quot;Mika Kaurismäki&quot;</td><td>&quot;&quot;</td><td>7.5</td><td>7704.0</td><td>&quot;/nj01hspawPof0mJmlgfjuLyJuRN.j…</td></tr><tr><td>5</td><td>&quot;Four Rooms&quot;</td><td>5.9</td><td>2656.0</td><td>&quot;1995-12-09&quot;</td><td>98.0</td><td>&quot;tt0113101&quot;</td><td>&quot;en&quot;</td><td>&quot;Four Rooms&quot;</td><td>18.777</td><td>&quot;Twelve outrageous guests. Four…</td><td>&quot;Comedy&quot;</td><td>&quot;United States of America&quot;</td><td>&quot;English&quot;</td><td>&quot;Salma Hayek Pinault, Unruly Ju…</td><td>&quot;Quentin Tarantino, Robert Rodr…</td><td>&quot;Andrzej Sekula, Phil Parmet, G…</td><td>&quot;Quentin Tarantino, Robert Rodr…</td><td>&quot;Quentin Tarantino, Alexandre R…</td><td>&quot;Combustible Edison&quot;</td><td>6.7</td><td>113283.0</td><td>&quot;/pyCk5JgtRZwRxnXwfrvyzukaKue.j…</td></tr><tr><td>6</td><td>&quot;Judgment Night&quot;</td><td>6.5</td><td>333.0</td><td>&quot;1993-10-15&quot;</td><td>109.0</td><td>&quot;tt0107286&quot;</td><td>&quot;en&quot;</td><td>&quot;Judgment Night&quot;</td><td>12.11</td><td>&quot;Don&#x27;t move. Don&#x27;t whisper. Don…</td><td>&quot;Action, Crime, Thriller&quot;</td><td>&quot;United States of America&quot;</td><td>&quot;English&quot;</td><td>&quot;Stephen Dorff, Everlast, Will …</td><td>&quot;Stephen Hopkins&quot;</td><td>&quot;Peter Levy&quot;</td><td>&quot;Jere Cunningham, Lewis Colick&quot;</td><td>&quot;Gene Levy, Marilyn Vance, Lloy…</td><td>&quot;Alan Silvestri&quot;</td><td>6.6</td><td>19556.0</td><td>&quot;/3rvvpS9YPM5HB2f4HYiNiJVtdam.j…</td></tr><tr><td>8</td><td>&quot;Life in Loops (A Megacities RM…</td><td>7.5</td><td>27.0</td><td>&quot;2006-01-01&quot;</td><td>80.0</td><td>&quot;tt0825671&quot;</td><td>&quot;en&quot;</td><td>&quot;Life in Loops (A Megacities RM…</td><td>3.203</td><td>&quot;A Megacities remix.&quot;</td><td>&quot;Documentary&quot;</td><td>&quot;Austria&quot;</td><td>&quot;English, हिन्दी, 日本語, Pусский,…</td><td>&quot;&quot;</td><td>&quot;Timo Novotny&quot;</td><td>&quot;Wolfgang Thaler&quot;</td><td>&quot;Michael Glawogger, Timo Novotn…</td><td>&quot;Ulrich Gehmacher, Timo Novotny&quot;</td><td>&quot;&quot;</td><td>8.2</td><td>284.0</td><td>&quot;/7ln81BRnPR2wqxuITZxEciCe1lc.j…</td></tr><tr><td>&hellip;</td><td>&hellip;</td><td>&hellip;</td><td>&hellip;</td><td>&hellip;</td><td>&hellip;</td><td>&hellip;</td><td>&hellip;</td><td>&hellip;</td><td>&hellip;</td><td>&hellip;</td><td>&hellip;</td><td>&hellip;</td><td>&hellip;</td><td>&hellip;</td><td>&hellip;</td><td>&hellip;</td><td>&hellip;</td><td>&hellip;</td><td>&hellip;</td><td>&hellip;</td><td>&hellip;</td><td>&hellip;</td></tr><tr><td>1424492</td><td>&quot;NERDESIN PEDRO PASCAL&quot;</td><td>0.0</td><td>0.0</td><td>&quot;&quot;</td><td>0.0</td><td>&quot;&quot;</td><td>&quot;tr&quot;</td><td>&quot;NERDESIN PEDRO PASCAL&quot;</td><td>0.0</td><td>&quot;&quot;</td><td>&quot;&quot;</td><td>&quot;&quot;</td><td>&quot;&quot;</td><td>&quot;&quot;</td><td>&quot;&quot;</td><td>&quot;&quot;</td><td>&quot;&quot;</td><td>&quot;&quot;</td><td>&quot;&quot;</td><td>null</td><td>null</td><td>&quot;&quot;</td></tr><tr><td>1424493</td><td>&quot;First Day of School&quot;</td><td>0.0</td><td>0.0</td><td>&quot;&quot;</td><td>14.0</td><td>&quot;&quot;</td><td>&quot;en&quot;</td><td>&quot;First Day of School&quot;</td><td>0.0</td><td>&quot;&quot;</td><td>&quot;&quot;</td><td>&quot;&quot;</td><td>&quot;&quot;</td><td>&quot;&quot;</td><td>&quot;&quot;</td><td>&quot;&quot;</td><td>&quot;&quot;</td><td>&quot;&quot;</td><td>&quot;&quot;</td><td>null</td><td>null</td><td>&quot;&quot;</td></tr><tr><td>1424495</td><td>&quot;Sven&quot;</td><td>0.0</td><td>0.0</td><td>&quot;&quot;</td><td>16.0</td><td>&quot;&quot;</td><td>&quot;en&quot;</td><td>&quot;Sven&quot;</td><td>0.0</td><td>&quot;A story about a simple, small …</td><td>&quot;&quot;</td><td>&quot;&quot;</td><td>&quot;&quot;</td><td>&quot;&quot;</td><td>&quot;&quot;</td><td>&quot;&quot;</td><td>&quot;&quot;</td><td>&quot;&quot;</td><td>&quot;&quot;</td><td>null</td><td>null</td><td>&quot;&quot;</td></tr><tr><td>1424496</td><td>&quot;Un fil à la patte&quot;</td><td>0.0</td><td>0.0</td><td>&quot;&quot;</td><td>0.0</td><td>&quot;tt0207808&quot;</td><td>&quot;pl&quot;</td><td>&quot;Un fil à la patte&quot;</td><td>0.0</td><td>&quot;&quot;</td><td>&quot;&quot;</td><td>&quot;&quot;</td><td>&quot;&quot;</td><td>&quot;&quot;</td><td>&quot;&quot;</td><td>&quot;&quot;</td><td>&quot;&quot;</td><td>&quot;&quot;</td><td>&quot;&quot;</td><td>null</td><td>null</td><td>&quot;&quot;</td></tr><tr><td>1424497</td><td>&quot;Keine Spur von jemandem, der f…</td><td>0.0</td><td>0.0</td><td>&quot;&quot;</td><td>0.0</td><td>&quot;tt35198826&quot;</td><td>&quot;de&quot;</td><td>&quot;Keine Spur von jemandem, der f…</td><td>0.0</td><td>&quot;&quot;</td><td>&quot;&quot;</td><td>&quot;&quot;</td><td>&quot;&quot;</td><td>&quot;&quot;</td><td>&quot;&quot;</td><td>&quot;&quot;</td><td>&quot;&quot;</td><td>&quot;&quot;</td><td>&quot;&quot;</td><td>null</td><td>null</td><td>&quot;&quot;</td></tr></tbody></table></div>"
            ]
          },
          "metadata": {},
          "execution_count": 36
        }
      ]
    },
    {
      "cell_type": "code",
      "source": [
        "df = df.filter(pl.col(\"genres\") != \"\")\n",
        "df"
      ],
      "metadata": {
        "colab": {
          "base_uri": "https://localhost:8080/",
          "height": 949
        },
        "id": "HbrfNtf88GY6",
        "outputId": "cf3e4744-f945-477e-82ea-ac368e0cd20c"
      },
      "execution_count": 37,
      "outputs": [
        {
          "output_type": "execute_result",
          "data": {
            "text/plain": [
              "shape: (732_041, 23)\n",
              "┌─────────┬────────────┬───────────┬───────────┬───┬───────────┬───────────┬───────────┬───────────┐\n",
              "│ id      ┆ title      ┆ vote_aver ┆ vote_coun ┆ … ┆ music_com ┆ imdb_rati ┆ imdb_vote ┆ poster_pa │\n",
              "│ ---     ┆ ---        ┆ age       ┆ t         ┆   ┆ poser     ┆ ng        ┆ s         ┆ th        │\n",
              "│ i64     ┆ str        ┆ ---       ┆ ---       ┆   ┆ ---       ┆ ---       ┆ ---       ┆ ---       │\n",
              "│         ┆            ┆ f64       ┆ f64       ┆   ┆ str       ┆ f64       ┆ f64       ┆ str       │\n",
              "╞═════════╪════════════╪═══════════╪═══════════╪═══╪═══════════╪═══════════╪═══════════╪═══════════╡\n",
              "│ 2       ┆ Ariel      ┆ 7.1       ┆ 339.0     ┆ … ┆           ┆ 7.4       ┆ 8924.0    ┆ /ojDg0PGv │\n",
              "│         ┆            ┆           ┆           ┆   ┆           ┆           ┆           ┆ s6R9xYFod │\n",
              "│         ┆            ┆           ┆           ┆   ┆           ┆           ┆           ┆ Rct2kdI6w │\n",
              "│         ┆            ┆           ┆           ┆   ┆           ┆           ┆           ┆ C.j…      │\n",
              "│ 3       ┆ Shadows in ┆ 7.3       ┆ 402.0     ┆ … ┆           ┆ 7.5       ┆ 7704.0    ┆ /nj01hspa │\n",
              "│         ┆ Paradise   ┆           ┆           ┆   ┆           ┆           ┆           ┆ wPof0mJml │\n",
              "│         ┆            ┆           ┆           ┆   ┆           ┆           ┆           ┆ gfjuLyJuR │\n",
              "│         ┆            ┆           ┆           ┆   ┆           ┆           ┆           ┆ N.j…      │\n",
              "│ 5       ┆ Four Rooms ┆ 5.9       ┆ 2656.0    ┆ … ┆ Combustib ┆ 6.7       ┆ 113283.0  ┆ /pyCk5Jgt │\n",
              "│         ┆            ┆           ┆           ┆   ┆ le Edison ┆           ┆           ┆ RZwRxnXwf │\n",
              "│         ┆            ┆           ┆           ┆   ┆           ┆           ┆           ┆ rvyzukaKu │\n",
              "│         ┆            ┆           ┆           ┆   ┆           ┆           ┆           ┆ e.j…      │\n",
              "│ 6       ┆ Judgment   ┆ 6.5       ┆ 333.0     ┆ … ┆ Alan      ┆ 6.6       ┆ 19556.0   ┆ /3rvvpS9Y │\n",
              "│         ┆ Night      ┆           ┆           ┆   ┆ Silvestri ┆           ┆           ┆ PM5HB2f4H │\n",
              "│         ┆            ┆           ┆           ┆   ┆           ┆           ┆           ┆ YiNiJVtda │\n",
              "│         ┆            ┆           ┆           ┆   ┆           ┆           ┆           ┆ m.j…      │\n",
              "│ 8       ┆ Life in    ┆ 7.5       ┆ 27.0      ┆ … ┆           ┆ 8.2       ┆ 284.0     ┆ /7ln81BRn │\n",
              "│         ┆ Loops (A   ┆           ┆           ┆   ┆           ┆           ┆           ┆ PR2wqxuIT │\n",
              "│         ┆ Megacities ┆           ┆           ┆   ┆           ┆           ┆           ┆ ZxEciCe1l │\n",
              "│         ┆ RM…        ┆           ┆           ┆   ┆           ┆           ┆           ┆ c.j…      │\n",
              "│ …       ┆ …          ┆ …         ┆ …         ┆ … ┆ …         ┆ …         ┆ …         ┆ …         │\n",
              "│ 1424425 ┆ All or     ┆ 0.0       ┆ 0.0       ┆ … ┆           ┆ null      ┆ null      ┆ /xVC0DpiB │\n",
              "│         ┆ Nothing    ┆           ┆           ┆   ┆           ┆           ┆           ┆ uyTNzVD56 │\n",
              "│         ┆            ┆           ┆           ┆   ┆           ┆           ┆           ┆ IXCvxuany │\n",
              "│         ┆            ┆           ┆           ┆   ┆           ┆           ┆           ┆ C.j…      │\n",
              "│ 1424426 ┆ Ring       ┆ 0.0       ┆ 0.0       ┆ … ┆           ┆ null      ┆ null      ┆ /lMkolCsW │\n",
              "│         ┆ Around The ┆           ┆           ┆   ┆           ┆           ┆           ┆ tkMlaLw8C │\n",
              "│         ┆ New Year   ┆           ┆           ┆   ┆           ┆           ┆           ┆ LKxEKFZc9 │\n",
              "│         ┆            ┆           ┆           ┆   ┆           ┆           ┆           ┆ A.j…      │\n",
              "│ 1424428 ┆ Narvas     ┆ 0.0       ┆ 0.0       ┆ … ┆           ┆ null      ┆ null      ┆ /qgE4GjD4 │\n",
              "│         ┆ kinni      ┆           ┆           ┆   ┆           ┆           ┆           ┆ ILI6hAEla │\n",
              "│         ┆            ┆           ┆           ┆   ┆           ┆           ┆           ┆ yJDlFvx25 │\n",
              "│         ┆            ┆           ┆           ┆   ┆           ┆           ┆           ┆ X.j…      │\n",
              "│ 1424431 ┆ Bestiari,  ┆ 0.0       ┆ 0.0       ┆ … ┆           ┆ null      ┆ null      ┆           │\n",
              "│         ┆ Erbari,    ┆           ┆           ┆   ┆           ┆           ┆           ┆           │\n",
              "│         ┆ Lapidari / ┆           ┆           ┆   ┆           ┆           ┆           ┆           │\n",
              "│         ┆ D…         ┆           ┆           ┆   ┆           ┆           ┆           ┆           │\n",
              "│ 1424476 ┆ What’s In  ┆ 0.0       ┆ 0.0       ┆ … ┆           ┆ null      ┆ null      ┆           │\n",
              "│         ┆ Store?     ┆           ┆           ┆   ┆           ┆           ┆           ┆           │\n",
              "└─────────┴────────────┴───────────┴───────────┴───┴───────────┴───────────┴───────────┴───────────┘"
            ],
            "text/html": [
              "<div><style>\n",
              ".dataframe > thead > tr,\n",
              ".dataframe > tbody > tr {\n",
              "  text-align: right;\n",
              "  white-space: pre-wrap;\n",
              "}\n",
              "</style>\n",
              "<small>shape: (732_041, 23)</small><table border=\"1\" class=\"dataframe\"><thead><tr><th>id</th><th>title</th><th>vote_average</th><th>vote_count</th><th>release_date</th><th>runtime</th><th>imdb_id</th><th>original_language</th><th>original_title</th><th>popularity</th><th>tagline</th><th>genres</th><th>production_countries</th><th>spoken_languages</th><th>cast</th><th>director</th><th>director_of_photography</th><th>writers</th><th>producers</th><th>music_composer</th><th>imdb_rating</th><th>imdb_votes</th><th>poster_path</th></tr><tr><td>i64</td><td>str</td><td>f64</td><td>f64</td><td>str</td><td>f64</td><td>str</td><td>str</td><td>str</td><td>f64</td><td>str</td><td>str</td><td>str</td><td>str</td><td>str</td><td>str</td><td>str</td><td>str</td><td>str</td><td>str</td><td>f64</td><td>f64</td><td>str</td></tr></thead><tbody><tr><td>2</td><td>&quot;Ariel&quot;</td><td>7.1</td><td>339.0</td><td>&quot;1988-10-21&quot;</td><td>73.0</td><td>&quot;tt0094675&quot;</td><td>&quot;fi&quot;</td><td>&quot;Ariel&quot;</td><td>10.454</td><td>&quot;&quot;</td><td>&quot;Comedy, Drama, Romance, Crime&quot;</td><td>&quot;Finland&quot;</td><td>&quot;suomi&quot;</td><td>&quot;Jyrki Olsonen, Pentti Auer, Es…</td><td>&quot;Aki Kaurismäki&quot;</td><td>&quot;Timo Salminen&quot;</td><td>&quot;Aki Kaurismäki&quot;</td><td>&quot;Aki Kaurismäki&quot;</td><td>&quot;&quot;</td><td>7.4</td><td>8924.0</td><td>&quot;/ojDg0PGvs6R9xYFodRct2kdI6wC.j…</td></tr><tr><td>3</td><td>&quot;Shadows in Paradise&quot;</td><td>7.3</td><td>402.0</td><td>&quot;1986-10-17&quot;</td><td>74.0</td><td>&quot;tt0092149&quot;</td><td>&quot;fi&quot;</td><td>&quot;Varjoja paratiisissa&quot;</td><td>16.411</td><td>&quot;&quot;</td><td>&quot;Comedy, Drama, Romance&quot;</td><td>&quot;Finland&quot;</td><td>&quot;suomi, English, svenska&quot;</td><td>&quot;Sirkka Silin, Helmeri Pellonpä…</td><td>&quot;Aki Kaurismäki&quot;</td><td>&quot;Timo Salminen&quot;</td><td>&quot;Aki Kaurismäki&quot;</td><td>&quot;Mika Kaurismäki&quot;</td><td>&quot;&quot;</td><td>7.5</td><td>7704.0</td><td>&quot;/nj01hspawPof0mJmlgfjuLyJuRN.j…</td></tr><tr><td>5</td><td>&quot;Four Rooms&quot;</td><td>5.9</td><td>2656.0</td><td>&quot;1995-12-09&quot;</td><td>98.0</td><td>&quot;tt0113101&quot;</td><td>&quot;en&quot;</td><td>&quot;Four Rooms&quot;</td><td>18.777</td><td>&quot;Twelve outrageous guests. Four…</td><td>&quot;Comedy&quot;</td><td>&quot;United States of America&quot;</td><td>&quot;English&quot;</td><td>&quot;Salma Hayek Pinault, Unruly Ju…</td><td>&quot;Quentin Tarantino, Robert Rodr…</td><td>&quot;Andrzej Sekula, Phil Parmet, G…</td><td>&quot;Quentin Tarantino, Robert Rodr…</td><td>&quot;Quentin Tarantino, Alexandre R…</td><td>&quot;Combustible Edison&quot;</td><td>6.7</td><td>113283.0</td><td>&quot;/pyCk5JgtRZwRxnXwfrvyzukaKue.j…</td></tr><tr><td>6</td><td>&quot;Judgment Night&quot;</td><td>6.5</td><td>333.0</td><td>&quot;1993-10-15&quot;</td><td>109.0</td><td>&quot;tt0107286&quot;</td><td>&quot;en&quot;</td><td>&quot;Judgment Night&quot;</td><td>12.11</td><td>&quot;Don&#x27;t move. Don&#x27;t whisper. Don…</td><td>&quot;Action, Crime, Thriller&quot;</td><td>&quot;United States of America&quot;</td><td>&quot;English&quot;</td><td>&quot;Stephen Dorff, Everlast, Will …</td><td>&quot;Stephen Hopkins&quot;</td><td>&quot;Peter Levy&quot;</td><td>&quot;Jere Cunningham, Lewis Colick&quot;</td><td>&quot;Gene Levy, Marilyn Vance, Lloy…</td><td>&quot;Alan Silvestri&quot;</td><td>6.6</td><td>19556.0</td><td>&quot;/3rvvpS9YPM5HB2f4HYiNiJVtdam.j…</td></tr><tr><td>8</td><td>&quot;Life in Loops (A Megacities RM…</td><td>7.5</td><td>27.0</td><td>&quot;2006-01-01&quot;</td><td>80.0</td><td>&quot;tt0825671&quot;</td><td>&quot;en&quot;</td><td>&quot;Life in Loops (A Megacities RM…</td><td>3.203</td><td>&quot;A Megacities remix.&quot;</td><td>&quot;Documentary&quot;</td><td>&quot;Austria&quot;</td><td>&quot;English, हिन्दी, 日本語, Pусский,…</td><td>&quot;&quot;</td><td>&quot;Timo Novotny&quot;</td><td>&quot;Wolfgang Thaler&quot;</td><td>&quot;Michael Glawogger, Timo Novotn…</td><td>&quot;Ulrich Gehmacher, Timo Novotny&quot;</td><td>&quot;&quot;</td><td>8.2</td><td>284.0</td><td>&quot;/7ln81BRnPR2wqxuITZxEciCe1lc.j…</td></tr><tr><td>&hellip;</td><td>&hellip;</td><td>&hellip;</td><td>&hellip;</td><td>&hellip;</td><td>&hellip;</td><td>&hellip;</td><td>&hellip;</td><td>&hellip;</td><td>&hellip;</td><td>&hellip;</td><td>&hellip;</td><td>&hellip;</td><td>&hellip;</td><td>&hellip;</td><td>&hellip;</td><td>&hellip;</td><td>&hellip;</td><td>&hellip;</td><td>&hellip;</td><td>&hellip;</td><td>&hellip;</td><td>&hellip;</td></tr><tr><td>1424425</td><td>&quot;All or Nothing&quot;</td><td>0.0</td><td>0.0</td><td>&quot;2023-09-02&quot;</td><td>9.0</td><td>&quot;tt29324641&quot;</td><td>&quot;en&quot;</td><td>&quot;All or Nothing&quot;</td><td>0.0</td><td>&quot;&quot;</td><td>&quot;Drama, Romance&quot;</td><td>&quot;&quot;</td><td>&quot;&quot;</td><td>&quot;Kayla Lynette Miller, La-Teish…</td><td>&quot;Alex R. Wagner&quot;</td><td>&quot;&quot;</td><td>&quot;Alex R. Wagner&quot;</td><td>&quot;Chelsea Roach, Alex R. Wagner&quot;</td><td>&quot;&quot;</td><td>null</td><td>null</td><td>&quot;/xVC0DpiBuyTNzVD56IXCvxuanyC.j…</td></tr><tr><td>1424426</td><td>&quot;Ring Around The New Year&quot;</td><td>0.0</td><td>0.0</td><td>&quot;2024-03-16&quot;</td><td>9.0</td><td>&quot;tt31949124&quot;</td><td>&quot;en&quot;</td><td>&quot;Ring Around The New Year&quot;</td><td>0.0</td><td>&quot;&quot;</td><td>&quot;Comedy&quot;</td><td>&quot;&quot;</td><td>&quot;&quot;</td><td>&quot;&quot;</td><td>&quot;&quot;</td><td>&quot;&quot;</td><td>&quot;&quot;</td><td>&quot;&quot;</td><td>&quot;&quot;</td><td>null</td><td>null</td><td>&quot;/lMkolCsWtkMlaLw8CLKxEKFZc9A.j…</td></tr><tr><td>1424428</td><td>&quot;Narvas kinni&quot;</td><td>0.0</td><td>0.0</td><td>&quot;2025-01-26&quot;</td><td>27.0</td><td>&quot;tt35292535&quot;</td><td>&quot;et&quot;</td><td>&quot;Narvas kinni&quot;</td><td>0.0</td><td>&quot;&quot;</td><td>&quot;Documentary&quot;</td><td>&quot;Estonia&quot;</td><td>&quot;Eesti, Pусский&quot;</td><td>&quot;&quot;</td><td>&quot;&quot;</td><td>&quot;&quot;</td><td>&quot;&quot;</td><td>&quot;&quot;</td><td>&quot;&quot;</td><td>null</td><td>null</td><td>&quot;/qgE4GjD4ILI6hAElayJDlFvx25X.j…</td></tr><tr><td>1424431</td><td>&quot;Bestiari, Erbari, Lapidari / D…</td><td>0.0</td><td>0.0</td><td>&quot;2025-01-27&quot;</td><td>81.0</td><td>&quot;&quot;</td><td>&quot;it&quot;</td><td>&quot;Bestiari, Erbari, Lapidari / D…</td><td>0.0</td><td>&quot;&quot;</td><td>&quot;Documentary&quot;</td><td>&quot;&quot;</td><td>&quot;Italiano&quot;</td><td>&quot;&quot;</td><td>&quot;&quot;</td><td>&quot;&quot;</td><td>&quot;&quot;</td><td>&quot;&quot;</td><td>&quot;&quot;</td><td>null</td><td>null</td><td>&quot;&quot;</td></tr><tr><td>1424476</td><td>&quot;What’s In Store?&quot;</td><td>0.0</td><td>0.0</td><td>&quot;&quot;</td><td>23.0</td><td>&quot;&quot;</td><td>&quot;en&quot;</td><td>&quot;What’s In Store?&quot;</td><td>0.0</td><td>&quot;&quot;</td><td>&quot;Documentary&quot;</td><td>&quot;&quot;</td><td>&quot;English&quot;</td><td>&quot;&quot;</td><td>&quot;&quot;</td><td>&quot;&quot;</td><td>&quot;&quot;</td><td>&quot;&quot;</td><td>&quot;&quot;</td><td>null</td><td>null</td><td>&quot;&quot;</td></tr></tbody></table></div>"
            ]
          },
          "metadata": {},
          "execution_count": 37
        }
      ]
    },
    {
      "cell_type": "code",
      "source": [
        "unique_genres = (\n",
        "    df.select(pl.col(\"genres\").str.split(\",\"))\n",
        "    .explode(\"genres\")\n",
        "    .unique()\n",
        ")\n",
        "unique_genres"
      ],
      "metadata": {
        "colab": {
          "base_uri": "https://localhost:8080/",
          "height": 443
        },
        "id": "QtGmH3cf9Ic5",
        "outputId": "bd260a45-3375-4aba-c708-61474833dd55"
      },
      "execution_count": 38,
      "outputs": [
        {
          "output_type": "execute_result",
          "data": {
            "text/plain": [
              "shape: (38, 1)\n",
              "┌─────────────────┐\n",
              "│ genres          │\n",
              "│ ---             │\n",
              "│ str             │\n",
              "╞═════════════════╡\n",
              "│ Romance         │\n",
              "│ History         │\n",
              "│  Romance        │\n",
              "│  War            │\n",
              "│ Documentary     │\n",
              "│ …               │\n",
              "│  History        │\n",
              "│  Adventure      │\n",
              "│ Adventure       │\n",
              "│  Crime          │\n",
              "│ Science Fiction │\n",
              "└─────────────────┘"
            ],
            "text/html": [
              "<div><style>\n",
              ".dataframe > thead > tr,\n",
              ".dataframe > tbody > tr {\n",
              "  text-align: right;\n",
              "  white-space: pre-wrap;\n",
              "}\n",
              "</style>\n",
              "<small>shape: (38, 1)</small><table border=\"1\" class=\"dataframe\"><thead><tr><th>genres</th></tr><tr><td>str</td></tr></thead><tbody><tr><td>&quot;Romance&quot;</td></tr><tr><td>&quot;History&quot;</td></tr><tr><td>&quot; Romance&quot;</td></tr><tr><td>&quot; War&quot;</td></tr><tr><td>&quot;Documentary&quot;</td></tr><tr><td>&hellip;</td></tr><tr><td>&quot; History&quot;</td></tr><tr><td>&quot; Adventure&quot;</td></tr><tr><td>&quot;Adventure&quot;</td></tr><tr><td>&quot; Crime&quot;</td></tr><tr><td>&quot;Science Fiction&quot;</td></tr></tbody></table></div>"
            ]
          },
          "metadata": {},
          "execution_count": 38
        }
      ]
    },
    {
      "cell_type": "code",
      "source": [
        "unique_genres_list = unique_genres['genres'].to_list()\n",
        "unique_genres_list = [ genre.strip() for genre in unique_genres_list]\n",
        "print(\"Unique Genres:\", unique_genres_list)"
      ],
      "metadata": {
        "colab": {
          "base_uri": "https://localhost:8080/"
        },
        "id": "jCjYeNyu_I2i",
        "outputId": "877af54f-0f4a-4356-a33b-a4d02f09f1f1"
      },
      "execution_count": 39,
      "outputs": [
        {
          "output_type": "stream",
          "name": "stdout",
          "text": [
            "Unique Genres: ['Romance', 'History', 'Romance', 'War', 'Documentary', 'Drama', 'Family', 'Animation', 'Horror', 'Thriller', 'Family', 'Music', 'Mystery', 'Horror', 'Animation', 'Comedy', 'Action', 'Drama', 'Fantasy', 'Music', 'Science Fiction', 'Western', 'Fantasy', 'Crime', 'Thriller', 'Western', 'Action', 'Documentary', 'TV Movie', 'TV Movie', 'Comedy', 'Mystery', 'War', 'History', 'Adventure', 'Adventure', 'Crime', 'Science Fiction']\n"
          ]
        }
      ]
    },
    {
      "cell_type": "code",
      "source": [
        "genre_df = pl.DataFrame({\"Genre\": unique_genres_list})"
      ],
      "metadata": {
        "id": "FMw5PoyooQbA"
      },
      "execution_count": 40,
      "outputs": []
    },
    {
      "cell_type": "code",
      "source": [
        "genre_df.write_csv(\"genre_df.csv\")"
      ],
      "metadata": {
        "id": "HGndTqtGpEU0"
      },
      "execution_count": 41,
      "outputs": []
    },
    {
      "cell_type": "code",
      "source": [
        "unique_genres = (\n",
        "    df.select(pl.col(\"spoken_languages\").str.split(\",\"))\n",
        "    .explode(\"spoken_languages\")\n",
        "    .unique()\n",
        ")\n",
        "unique_genres.write_csv(\"spoken_language.csv\")"
      ],
      "metadata": {
        "id": "N6QDimObSqZc"
      },
      "execution_count": 42,
      "outputs": []
    },
    {
      "cell_type": "code",
      "source": [
        "unique_genres"
      ],
      "metadata": {
        "colab": {
          "base_uri": "https://localhost:8080/",
          "height": 443
        },
        "id": "K9MADLI_TP2u",
        "outputId": "20de20c6-9853-4c75-d9da-3b4ef00624dc"
      },
      "execution_count": 43,
      "outputs": [
        {
          "output_type": "execute_result",
          "data": {
            "text/plain": [
              "shape: (159, 1)\n",
              "┌──────────────────┐\n",
              "│ spoken_languages │\n",
              "│ ---              │\n",
              "│ str              │\n",
              "╞══════════════════╡\n",
              "│  Somali          │\n",
              "│ Lietuvių         │\n",
              "│ Slovenščina      │\n",
              "│ සිංහල             │\n",
              "│  беларуская мова │\n",
              "│ …                │\n",
              "│ isiZulu          │\n",
              "│ Hrvatski         │\n",
              "│  हिन्दी           │\n",
              "│  Tiếng Việt      │\n",
              "│ Kiswahili        │\n",
              "└──────────────────┘"
            ],
            "text/html": [
              "<div><style>\n",
              ".dataframe > thead > tr,\n",
              ".dataframe > tbody > tr {\n",
              "  text-align: right;\n",
              "  white-space: pre-wrap;\n",
              "}\n",
              "</style>\n",
              "<small>shape: (159, 1)</small><table border=\"1\" class=\"dataframe\"><thead><tr><th>spoken_languages</th></tr><tr><td>str</td></tr></thead><tbody><tr><td>&quot; Somali&quot;</td></tr><tr><td>&quot;Lietuvių&quot;</td></tr><tr><td>&quot;Slovenščina&quot;</td></tr><tr><td>&quot;සිංහල&quot;</td></tr><tr><td>&quot; беларуская мова&quot;</td></tr><tr><td>&hellip;</td></tr><tr><td>&quot;isiZulu&quot;</td></tr><tr><td>&quot;Hrvatski&quot;</td></tr><tr><td>&quot; हिन्दी&quot;</td></tr><tr><td>&quot; Tiếng Việt&quot;</td></tr><tr><td>&quot;Kiswahili&quot;</td></tr></tbody></table></div>"
            ]
          },
          "metadata": {},
          "execution_count": 43
        }
      ]
    },
    {
      "cell_type": "code",
      "source": [
        "\n",
        "unique_production_countries = (\n",
        "    df.select(pl.col(\"production_countries\").str.split(\",\"))\n",
        "    .explode(\"production_countries\")\n",
        "    .unique()\n",
        ")\n",
        "unique_production_countries.write_csv(\"spoken_production_countries.csv\")"
      ],
      "metadata": {
        "id": "7zAn_LMBTdCc"
      },
      "execution_count": 44,
      "outputs": []
    },
    {
      "cell_type": "code",
      "source": [
        "unique_production_countries"
      ],
      "metadata": {
        "id": "-V2vh4M7Tsud",
        "outputId": "5cf54118-0350-4669-885a-08968044179d",
        "colab": {
          "base_uri": "https://localhost:8080/",
          "height": 443
        }
      },
      "execution_count": 45,
      "outputs": [
        {
          "output_type": "execute_result",
          "data": {
            "text/plain": [
              "shape: (475, 1)\n",
              "┌──────────────────────┐\n",
              "│ production_countries │\n",
              "│ ---                  │\n",
              "│ str                  │\n",
              "╞══════════════════════╡\n",
              "│ Eritrea              │\n",
              "│  Greenland           │\n",
              "│ Armenia              │\n",
              "│  San Marino          │\n",
              "│ Macedonia            │\n",
              "│ …                    │\n",
              "│ Equatorial Guinea    │\n",
              "│  Macedonia           │\n",
              "│  Antarctica          │\n",
              "│  Germany             │\n",
              "│ Kosovo               │\n",
              "└──────────────────────┘"
            ],
            "text/html": [
              "<div><style>\n",
              ".dataframe > thead > tr,\n",
              ".dataframe > tbody > tr {\n",
              "  text-align: right;\n",
              "  white-space: pre-wrap;\n",
              "}\n",
              "</style>\n",
              "<small>shape: (475, 1)</small><table border=\"1\" class=\"dataframe\"><thead><tr><th>production_countries</th></tr><tr><td>str</td></tr></thead><tbody><tr><td>&quot;Eritrea&quot;</td></tr><tr><td>&quot; Greenland&quot;</td></tr><tr><td>&quot;Armenia&quot;</td></tr><tr><td>&quot; San Marino&quot;</td></tr><tr><td>&quot;Macedonia&quot;</td></tr><tr><td>&hellip;</td></tr><tr><td>&quot;Equatorial Guinea&quot;</td></tr><tr><td>&quot; Macedonia&quot;</td></tr><tr><td>&quot; Antarctica&quot;</td></tr><tr><td>&quot; Germany&quot;</td></tr><tr><td>&quot;Kosovo&quot;</td></tr></tbody></table></div>"
            ]
          },
          "metadata": {},
          "execution_count": 45
        }
      ]
    }
  ]
}