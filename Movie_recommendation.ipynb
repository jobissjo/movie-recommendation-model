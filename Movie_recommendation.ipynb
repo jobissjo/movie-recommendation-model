{
  "nbformat": 4,
  "nbformat_minor": 0,
  "metadata": {
    "colab": {
      "provenance": [],
      "authorship_tag": "ABX9TyMptPG2D1Ub8K45FHDIh9WR",
      "include_colab_link": true
    },
    "kernelspec": {
      "name": "python3",
      "display_name": "Python 3"
    },
    "language_info": {
      "name": "python"
    }
  },
  "cells": [
    {
      "cell_type": "markdown",
      "metadata": {
        "id": "view-in-github",
        "colab_type": "text"
      },
      "source": [
        "<a href=\"https://colab.research.google.com/github/jobissjo/movie-recommendation-model/blob/main/Movie_recommendation.ipynb\" target=\"_parent\"><img src=\"https://colab.research.google.com/assets/colab-badge.svg\" alt=\"Open In Colab\"/></a>"
      ]
    },
    {
      "cell_type": "code",
      "source": [
        "# import kagglehub\n",
        "\n",
        "# # Download latest version\n",
        "# path = kagglehub.dataset_download(\"alanvourch/tmdb-movies-daily-updates\")\n",
        "\n",
        "# print(\"Path to dataset files:\", path)"
      ],
      "metadata": {
        "id": "YDY_0l0rkjXC"
      },
      "execution_count": 46,
      "outputs": []
    },
    {
      "cell_type": "code",
      "source": [
        "from google.colab import drive\n",
        "drive.mount('/content/drive')"
      ],
      "metadata": {
        "colab": {
          "base_uri": "https://localhost:8080/"
        },
        "id": "vLJolt_AklG_",
        "outputId": "a1d556ab-793c-46cb-9697-3675a2ec1c27"
      },
      "execution_count": 47,
      "outputs": [
        {
          "output_type": "stream",
          "name": "stdout",
          "text": [
            "Drive already mounted at /content/drive; to attempt to forcibly remount, call drive.mount(\"/content/drive\", force_remount=True).\n"
          ]
        }
      ]
    },
    {
      "cell_type": "markdown",
      "source": [
        "# Movie Recommendation"
      ],
      "metadata": {
        "id": "3VKl8hlojtlS"
      }
    },
    {
      "cell_type": "code",
      "execution_count": 48,
      "metadata": {
        "id": "klODJljIjizh",
        "colab": {
          "base_uri": "https://localhost:8080/",
          "height": 36
        },
        "outputId": "08e5be63-4445-4942-93f9-1839d21ce251"
      },
      "outputs": [
        {
          "output_type": "execute_result",
          "data": {
            "text/plain": [
              "'/content/drive/MyDrive/Datasets/'"
            ],
            "application/vnd.google.colaboratory.intrinsic+json": {
              "type": "string"
            }
          },
          "metadata": {},
          "execution_count": 48
        }
      ],
      "source": [
        "'/content/drive/MyDrive/Datasets/'"
      ]
    },
    {
      "cell_type": "code",
      "source": [
        "import polars as pl\n",
        "import cupy as cp\n",
        "import plotly.express as px\n",
        "import plotly.graph_objects as go"
      ],
      "metadata": {
        "id": "sq-tEWpd4mp0"
      },
      "execution_count": 49,
      "outputs": []
    },
    {
      "cell_type": "code",
      "source": [
        "dataset_path = \"/content/drive/MyDrive/Datasets/TMDB_all_movies.csv\""
      ],
      "metadata": {
        "id": "w00ZVJEI4ok4"
      },
      "execution_count": 50,
      "outputs": []
    },
    {
      "cell_type": "code",
      "source": [
        "df = pl.read_csv(dataset_path)"
      ],
      "metadata": {
        "id": "DyPY4xqq41SF"
      },
      "execution_count": 51,
      "outputs": []
    },
    {
      "cell_type": "code",
      "source": [
        "df"
      ],
      "metadata": {
        "colab": {
          "base_uri": "https://localhost:8080/",
          "height": 983
        },
        "id": "l0HMTCxu4-t1",
        "outputId": "6b600dca-8d55-461d-e667-2948ca27ee7c"
      },
      "execution_count": 52,
      "outputs": [
        {
          "output_type": "execute_result",
          "data": {
            "text/plain": [
              "shape: (1_047_578, 28)\n",
              "┌─────────┬────────────┬───────────┬───────────┬───┬───────────┬───────────┬───────────┬───────────┐\n",
              "│ id      ┆ title      ┆ vote_aver ┆ vote_coun ┆ … ┆ music_com ┆ imdb_rati ┆ imdb_vote ┆ poster_pa │\n",
              "│ ---     ┆ ---        ┆ age       ┆ t         ┆   ┆ poser     ┆ ng        ┆ s         ┆ th        │\n",
              "│ i64     ┆ str        ┆ ---       ┆ ---       ┆   ┆ ---       ┆ ---       ┆ ---       ┆ ---       │\n",
              "│         ┆            ┆ f64       ┆ f64       ┆   ┆ str       ┆ f64       ┆ f64       ┆ str       │\n",
              "╞═════════╪════════════╪═══════════╪═══════════╪═══╪═══════════╪═══════════╪═══════════╪═══════════╡\n",
              "│ 2       ┆ Ariel      ┆ 7.1       ┆ 339.0     ┆ … ┆           ┆ 7.4       ┆ 8924.0    ┆ /ojDg0PGv │\n",
              "│         ┆            ┆           ┆           ┆   ┆           ┆           ┆           ┆ s6R9xYFod │\n",
              "│         ┆            ┆           ┆           ┆   ┆           ┆           ┆           ┆ Rct2kdI6w │\n",
              "│         ┆            ┆           ┆           ┆   ┆           ┆           ┆           ┆ C.j…      │\n",
              "│ 3       ┆ Shadows in ┆ 7.3       ┆ 402.0     ┆ … ┆           ┆ 7.5       ┆ 7704.0    ┆ /nj01hspa │\n",
              "│         ┆ Paradise   ┆           ┆           ┆   ┆           ┆           ┆           ┆ wPof0mJml │\n",
              "│         ┆            ┆           ┆           ┆   ┆           ┆           ┆           ┆ gfjuLyJuR │\n",
              "│         ┆            ┆           ┆           ┆   ┆           ┆           ┆           ┆ N.j…      │\n",
              "│ 5       ┆ Four Rooms ┆ 5.9       ┆ 2656.0    ┆ … ┆ Combustib ┆ 6.7       ┆ 113283.0  ┆ /pyCk5Jgt │\n",
              "│         ┆            ┆           ┆           ┆   ┆ le Edison ┆           ┆           ┆ RZwRxnXwf │\n",
              "│         ┆            ┆           ┆           ┆   ┆           ┆           ┆           ┆ rvyzukaKu │\n",
              "│         ┆            ┆           ┆           ┆   ┆           ┆           ┆           ┆ e.j…      │\n",
              "│ 6       ┆ Judgment   ┆ 6.5       ┆ 333.0     ┆ … ┆ Alan      ┆ 6.6       ┆ 19556.0   ┆ /3rvvpS9Y │\n",
              "│         ┆ Night      ┆           ┆           ┆   ┆ Silvestri ┆           ┆           ┆ PM5HB2f4H │\n",
              "│         ┆            ┆           ┆           ┆   ┆           ┆           ┆           ┆ YiNiJVtda │\n",
              "│         ┆            ┆           ┆           ┆   ┆           ┆           ┆           ┆ m.j…      │\n",
              "│ 8       ┆ Life in    ┆ 7.5       ┆ 27.0      ┆ … ┆           ┆ 8.2       ┆ 284.0     ┆ /7ln81BRn │\n",
              "│         ┆ Loops (A   ┆           ┆           ┆   ┆           ┆           ┆           ┆ PR2wqxuIT │\n",
              "│         ┆ Megacities ┆           ┆           ┆   ┆           ┆           ┆           ┆ ZxEciCe1l │\n",
              "│         ┆ RM…        ┆           ┆           ┆   ┆           ┆           ┆           ┆ c.j…      │\n",
              "│ …       ┆ …          ┆ …         ┆ …         ┆ … ┆ …         ┆ …         ┆ …         ┆ …         │\n",
              "│ 1424495 ┆ Sven       ┆ 0.0       ┆ 0.0       ┆ … ┆           ┆ null      ┆ null      ┆           │\n",
              "│ 1424496 ┆ Un fil à   ┆ 0.0       ┆ 0.0       ┆ … ┆           ┆ null      ┆ null      ┆           │\n",
              "│         ┆ la patte   ┆           ┆           ┆   ┆           ┆           ┆           ┆           │\n",
              "│ 1424497 ┆ Keine Spur ┆ 0.0       ┆ 0.0       ┆ … ┆           ┆ null      ┆ null      ┆           │\n",
              "│         ┆ von        ┆           ┆           ┆   ┆           ┆           ┆           ┆           │\n",
              "│         ┆ jemandem,  ┆           ┆           ┆   ┆           ┆           ┆           ┆           │\n",
              "│         ┆ der f…     ┆           ┆           ┆   ┆           ┆           ┆           ┆           │\n",
              "│ 2662126 ┆            ┆ null      ┆ null      ┆ … ┆           ┆ null      ┆ null      ┆           │\n",
              "│ 5180730 ┆            ┆ null      ┆ null      ┆ … ┆ Dario Mar ┆ null      ┆ null      ┆           │\n",
              "│         ┆            ┆           ┆           ┆   ┆ ianelli   ┆           ┆           ┆           │\n",
              "└─────────┴────────────┴───────────┴───────────┴───┴───────────┴───────────┴───────────┴───────────┘"
            ],
            "text/html": [
              "<div><style>\n",
              ".dataframe > thead > tr,\n",
              ".dataframe > tbody > tr {\n",
              "  text-align: right;\n",
              "  white-space: pre-wrap;\n",
              "}\n",
              "</style>\n",
              "<small>shape: (1_047_578, 28)</small><table border=\"1\" class=\"dataframe\"><thead><tr><th>id</th><th>title</th><th>vote_average</th><th>vote_count</th><th>status</th><th>release_date</th><th>revenue</th><th>runtime</th><th>budget</th><th>imdb_id</th><th>original_language</th><th>original_title</th><th>overview</th><th>popularity</th><th>tagline</th><th>genres</th><th>production_companies</th><th>production_countries</th><th>spoken_languages</th><th>cast</th><th>director</th><th>director_of_photography</th><th>writers</th><th>producers</th><th>music_composer</th><th>imdb_rating</th><th>imdb_votes</th><th>poster_path</th></tr><tr><td>i64</td><td>str</td><td>f64</td><td>f64</td><td>str</td><td>str</td><td>f64</td><td>f64</td><td>f64</td><td>str</td><td>str</td><td>str</td><td>str</td><td>f64</td><td>str</td><td>str</td><td>str</td><td>str</td><td>str</td><td>str</td><td>str</td><td>str</td><td>str</td><td>str</td><td>str</td><td>f64</td><td>f64</td><td>str</td></tr></thead><tbody><tr><td>2</td><td>&quot;Ariel&quot;</td><td>7.1</td><td>339.0</td><td>&quot;Released&quot;</td><td>&quot;1988-10-21&quot;</td><td>0.0</td><td>73.0</td><td>0.0</td><td>&quot;tt0094675&quot;</td><td>&quot;fi&quot;</td><td>&quot;Ariel&quot;</td><td>&quot;A Finnish man goes to the city…</td><td>10.454</td><td>&quot;&quot;</td><td>&quot;Comedy, Drama, Romance, Crime&quot;</td><td>&quot;Villealfa Filmproductions&quot;</td><td>&quot;Finland&quot;</td><td>&quot;suomi&quot;</td><td>&quot;Jyrki Olsonen, Pentti Auer, Es…</td><td>&quot;Aki Kaurismäki&quot;</td><td>&quot;Timo Salminen&quot;</td><td>&quot;Aki Kaurismäki&quot;</td><td>&quot;Aki Kaurismäki&quot;</td><td>&quot;&quot;</td><td>7.4</td><td>8924.0</td><td>&quot;/ojDg0PGvs6R9xYFodRct2kdI6wC.j…</td></tr><tr><td>3</td><td>&quot;Shadows in Paradise&quot;</td><td>7.3</td><td>402.0</td><td>&quot;Released&quot;</td><td>&quot;1986-10-17&quot;</td><td>0.0</td><td>74.0</td><td>0.0</td><td>&quot;tt0092149&quot;</td><td>&quot;fi&quot;</td><td>&quot;Varjoja paratiisissa&quot;</td><td>&quot;Nikander, a rubbish collector …</td><td>16.411</td><td>&quot;&quot;</td><td>&quot;Comedy, Drama, Romance&quot;</td><td>&quot;Villealfa Filmproductions&quot;</td><td>&quot;Finland&quot;</td><td>&quot;suomi, English, svenska&quot;</td><td>&quot;Sirkka Silin, Helmeri Pellonpä…</td><td>&quot;Aki Kaurismäki&quot;</td><td>&quot;Timo Salminen&quot;</td><td>&quot;Aki Kaurismäki&quot;</td><td>&quot;Mika Kaurismäki&quot;</td><td>&quot;&quot;</td><td>7.5</td><td>7704.0</td><td>&quot;/nj01hspawPof0mJmlgfjuLyJuRN.j…</td></tr><tr><td>5</td><td>&quot;Four Rooms&quot;</td><td>5.9</td><td>2656.0</td><td>&quot;Released&quot;</td><td>&quot;1995-12-09&quot;</td><td>4.257354e6</td><td>98.0</td><td>4e6</td><td>&quot;tt0113101&quot;</td><td>&quot;en&quot;</td><td>&quot;Four Rooms&quot;</td><td>&quot;It&#x27;s Ted the Bellhop&#x27;s first n…</td><td>18.777</td><td>&quot;Twelve outrageous guests. Four…</td><td>&quot;Comedy&quot;</td><td>&quot;Miramax, A Band Apart&quot;</td><td>&quot;United States of America&quot;</td><td>&quot;English&quot;</td><td>&quot;Salma Hayek Pinault, Unruly Ju…</td><td>&quot;Quentin Tarantino, Robert Rodr…</td><td>&quot;Andrzej Sekula, Phil Parmet, G…</td><td>&quot;Quentin Tarantino, Robert Rodr…</td><td>&quot;Quentin Tarantino, Alexandre R…</td><td>&quot;Combustible Edison&quot;</td><td>6.7</td><td>113283.0</td><td>&quot;/pyCk5JgtRZwRxnXwfrvyzukaKue.j…</td></tr><tr><td>6</td><td>&quot;Judgment Night&quot;</td><td>6.5</td><td>333.0</td><td>&quot;Released&quot;</td><td>&quot;1993-10-15&quot;</td><td>1.2136938e7</td><td>109.0</td><td>2.1e7</td><td>&quot;tt0107286&quot;</td><td>&quot;en&quot;</td><td>&quot;Judgment Night&quot;</td><td>&quot;Four young friends, while taki…</td><td>12.11</td><td>&quot;Don&#x27;t move. Don&#x27;t whisper. Don…</td><td>&quot;Action, Crime, Thriller&quot;</td><td>&quot;Largo Entertainment, JVC, Univ…</td><td>&quot;United States of America&quot;</td><td>&quot;English&quot;</td><td>&quot;Stephen Dorff, Everlast, Will …</td><td>&quot;Stephen Hopkins&quot;</td><td>&quot;Peter Levy&quot;</td><td>&quot;Jere Cunningham, Lewis Colick&quot;</td><td>&quot;Gene Levy, Marilyn Vance, Lloy…</td><td>&quot;Alan Silvestri&quot;</td><td>6.6</td><td>19556.0</td><td>&quot;/3rvvpS9YPM5HB2f4HYiNiJVtdam.j…</td></tr><tr><td>8</td><td>&quot;Life in Loops (A Megacities RM…</td><td>7.5</td><td>27.0</td><td>&quot;Released&quot;</td><td>&quot;2006-01-01&quot;</td><td>0.0</td><td>80.0</td><td>42000.0</td><td>&quot;tt0825671&quot;</td><td>&quot;en&quot;</td><td>&quot;Life in Loops (A Megacities RM…</td><td>&quot;Timo Novotny labels his new pr…</td><td>3.203</td><td>&quot;A Megacities remix.&quot;</td><td>&quot;Documentary&quot;</td><td>&quot;inLoops&quot;</td><td>&quot;Austria&quot;</td><td>&quot;English, हिन्दी, 日本語, Pусский,…</td><td>&quot;&quot;</td><td>&quot;Timo Novotny&quot;</td><td>&quot;Wolfgang Thaler&quot;</td><td>&quot;Michael Glawogger, Timo Novotn…</td><td>&quot;Ulrich Gehmacher, Timo Novotny&quot;</td><td>&quot;&quot;</td><td>8.2</td><td>284.0</td><td>&quot;/7ln81BRnPR2wqxuITZxEciCe1lc.j…</td></tr><tr><td>&hellip;</td><td>&hellip;</td><td>&hellip;</td><td>&hellip;</td><td>&hellip;</td><td>&hellip;</td><td>&hellip;</td><td>&hellip;</td><td>&hellip;</td><td>&hellip;</td><td>&hellip;</td><td>&hellip;</td><td>&hellip;</td><td>&hellip;</td><td>&hellip;</td><td>&hellip;</td><td>&hellip;</td><td>&hellip;</td><td>&hellip;</td><td>&hellip;</td><td>&hellip;</td><td>&hellip;</td><td>&hellip;</td><td>&hellip;</td><td>&hellip;</td><td>&hellip;</td><td>&hellip;</td><td>&hellip;</td></tr><tr><td>1424495</td><td>&quot;Sven&quot;</td><td>0.0</td><td>0.0</td><td>&quot;Released&quot;</td><td>&quot;&quot;</td><td>0.0</td><td>16.0</td><td>0.0</td><td>&quot;&quot;</td><td>&quot;en&quot;</td><td>&quot;Sven&quot;</td><td>&quot;Sven is just a simple, small t…</td><td>0.0</td><td>&quot;A story about a simple, small …</td><td>&quot;&quot;</td><td>&quot;&quot;</td><td>&quot;&quot;</td><td>&quot;&quot;</td><td>&quot;&quot;</td><td>&quot;&quot;</td><td>&quot;&quot;</td><td>&quot;&quot;</td><td>&quot;&quot;</td><td>&quot;&quot;</td><td>null</td><td>null</td><td>&quot;&quot;</td></tr><tr><td>1424496</td><td>&quot;Un fil à la patte&quot;</td><td>0.0</td><td>0.0</td><td>&quot;Released&quot;</td><td>&quot;&quot;</td><td>0.0</td><td>0.0</td><td>0.0</td><td>&quot;tt0207808&quot;</td><td>&quot;pl&quot;</td><td>&quot;Un fil à la patte&quot;</td><td>&quot;&quot;</td><td>0.0</td><td>&quot;&quot;</td><td>&quot;&quot;</td><td>&quot;&quot;</td><td>&quot;&quot;</td><td>&quot;&quot;</td><td>&quot;&quot;</td><td>&quot;&quot;</td><td>&quot;&quot;</td><td>&quot;&quot;</td><td>&quot;&quot;</td><td>&quot;&quot;</td><td>null</td><td>null</td><td>&quot;&quot;</td></tr><tr><td>1424497</td><td>&quot;Keine Spur von jemandem, der f…</td><td>0.0</td><td>0.0</td><td>&quot;Released&quot;</td><td>&quot;&quot;</td><td>0.0</td><td>0.0</td><td>0.0</td><td>&quot;tt35198826&quot;</td><td>&quot;de&quot;</td><td>&quot;Keine Spur von jemandem, der f…</td><td>&quot;&quot;</td><td>0.0</td><td>&quot;&quot;</td><td>&quot;&quot;</td><td>&quot;&quot;</td><td>&quot;&quot;</td><td>&quot;&quot;</td><td>&quot;&quot;</td><td>&quot;&quot;</td><td>&quot;&quot;</td><td>&quot;&quot;</td><td>&quot;&quot;</td><td>&quot;&quot;</td><td>null</td><td>null</td><td>&quot;&quot;</td></tr><tr><td>2662126</td><td>&quot;&quot;</td><td>null</td><td>null</td><td>&quot;&quot;</td><td>&quot;&quot;</td><td>null</td><td>null</td><td>null</td><td>&quot;&quot;</td><td>&quot;&quot;</td><td>&quot;&quot;</td><td>&quot;&quot;</td><td>null</td><td>&quot;&quot;</td><td>&quot;&quot;</td><td>&quot;&quot;</td><td>&quot;&quot;</td><td>&quot;&quot;</td><td>&quot;Johannes Allmayer, Jules Warin…</td><td>&quot;Florian Gallenberger&quot;</td><td>&quot;Kolja Brandt&quot;</td><td>&quot;Florian Gallenberger, Torsten …</td><td>&quot;Nicolas Steil, Benjamin Herrma…</td><td>&quot;&quot;</td><td>null</td><td>null</td><td>&quot;&quot;</td></tr><tr><td>5180730</td><td>&quot;&quot;</td><td>null</td><td>null</td><td>&quot;&quot;</td><td>&quot;&quot;</td><td>null</td><td>null</td><td>null</td><td>&quot;&quot;</td><td>&quot;&quot;</td><td>&quot;&quot;</td><td>&quot;&quot;</td><td>null</td><td>&quot;&quot;</td><td>&quot;&quot;</td><td>&quot;&quot;</td><td>&quot;&quot;</td><td>&quot;&quot;</td><td>&quot;Hailee Steinfeld, Tim Martin G…</td><td>&quot;Travis Knight&quot;</td><td>&quot;Enrique Chediak&quot;</td><td>&quot;Christina Hodson, Shoji Kawamo…</td><td>&quot;Chris Brigham, Stephen Davis, …</td><td>&quot;Dario Marianelli&quot;</td><td>null</td><td>null</td><td>&quot;&quot;</td></tr></tbody></table></div>"
            ]
          },
          "metadata": {},
          "execution_count": 52
        }
      ]
    },
    {
      "cell_type": "code",
      "source": [
        "df.columns"
      ],
      "metadata": {
        "colab": {
          "base_uri": "https://localhost:8080/"
        },
        "id": "whST43nh5A9l",
        "outputId": "8ffaeba1-fdcf-4a69-c34a-6bddb6dc034a"
      },
      "execution_count": 53,
      "outputs": [
        {
          "output_type": "execute_result",
          "data": {
            "text/plain": [
              "['id',\n",
              " 'title',\n",
              " 'vote_average',\n",
              " 'vote_count',\n",
              " 'status',\n",
              " 'release_date',\n",
              " 'revenue',\n",
              " 'runtime',\n",
              " 'budget',\n",
              " 'imdb_id',\n",
              " 'original_language',\n",
              " 'original_title',\n",
              " 'overview',\n",
              " 'popularity',\n",
              " 'tagline',\n",
              " 'genres',\n",
              " 'production_companies',\n",
              " 'production_countries',\n",
              " 'spoken_languages',\n",
              " 'cast',\n",
              " 'director',\n",
              " 'director_of_photography',\n",
              " 'writers',\n",
              " 'producers',\n",
              " 'music_composer',\n",
              " 'imdb_rating',\n",
              " 'imdb_votes',\n",
              " 'poster_path']"
            ]
          },
          "metadata": {},
          "execution_count": 53
        }
      ]
    },
    {
      "cell_type": "code",
      "source": [
        "# not required fields -- production_companies, budget, revenue, overview"
      ],
      "metadata": {
        "id": "BRZp9l1M5R6R"
      },
      "execution_count": 54,
      "outputs": []
    },
    {
      "cell_type": "code",
      "source": [
        "df = df.drop([\"production_companies\", \"budget\", \"revenue\", \"overview\"])"
      ],
      "metadata": {
        "id": "YqA0VEgc6H_1"
      },
      "execution_count": 55,
      "outputs": []
    },
    {
      "cell_type": "code",
      "source": [
        "df = df.filter(pl.col(\"status\") == \"Released\")"
      ],
      "metadata": {
        "id": "VOXUjgCq6KVe"
      },
      "execution_count": 56,
      "outputs": []
    },
    {
      "cell_type": "code",
      "source": [
        "df = df.drop(\"status\")"
      ],
      "metadata": {
        "id": "1l52cWAj6uR5"
      },
      "execution_count": 57,
      "outputs": []
    },
    {
      "cell_type": "code",
      "source": [
        "df = df.drop_nulls(\"genres\")\n",
        "df"
      ],
      "metadata": {
        "colab": {
          "base_uri": "https://localhost:8080/",
          "height": 931
        },
        "id": "jMnt_FrP6djL",
        "outputId": "acbb0649-b8d9-4464-bd4b-f62c90b6ef02"
      },
      "execution_count": 58,
      "outputs": [
        {
          "output_type": "execute_result",
          "data": {
            "text/plain": [
              "shape: (1_029_875, 23)\n",
              "┌─────────┬────────────┬───────────┬───────────┬───┬───────────┬───────────┬───────────┬───────────┐\n",
              "│ id      ┆ title      ┆ vote_aver ┆ vote_coun ┆ … ┆ music_com ┆ imdb_rati ┆ imdb_vote ┆ poster_pa │\n",
              "│ ---     ┆ ---        ┆ age       ┆ t         ┆   ┆ poser     ┆ ng        ┆ s         ┆ th        │\n",
              "│ i64     ┆ str        ┆ ---       ┆ ---       ┆   ┆ ---       ┆ ---       ┆ ---       ┆ ---       │\n",
              "│         ┆            ┆ f64       ┆ f64       ┆   ┆ str       ┆ f64       ┆ f64       ┆ str       │\n",
              "╞═════════╪════════════╪═══════════╪═══════════╪═══╪═══════════╪═══════════╪═══════════╪═══════════╡\n",
              "│ 2       ┆ Ariel      ┆ 7.1       ┆ 339.0     ┆ … ┆           ┆ 7.4       ┆ 8924.0    ┆ /ojDg0PGv │\n",
              "│         ┆            ┆           ┆           ┆   ┆           ┆           ┆           ┆ s6R9xYFod │\n",
              "│         ┆            ┆           ┆           ┆   ┆           ┆           ┆           ┆ Rct2kdI6w │\n",
              "│         ┆            ┆           ┆           ┆   ┆           ┆           ┆           ┆ C.j…      │\n",
              "│ 3       ┆ Shadows in ┆ 7.3       ┆ 402.0     ┆ … ┆           ┆ 7.5       ┆ 7704.0    ┆ /nj01hspa │\n",
              "│         ┆ Paradise   ┆           ┆           ┆   ┆           ┆           ┆           ┆ wPof0mJml │\n",
              "│         ┆            ┆           ┆           ┆   ┆           ┆           ┆           ┆ gfjuLyJuR │\n",
              "│         ┆            ┆           ┆           ┆   ┆           ┆           ┆           ┆ N.j…      │\n",
              "│ 5       ┆ Four Rooms ┆ 5.9       ┆ 2656.0    ┆ … ┆ Combustib ┆ 6.7       ┆ 113283.0  ┆ /pyCk5Jgt │\n",
              "│         ┆            ┆           ┆           ┆   ┆ le Edison ┆           ┆           ┆ RZwRxnXwf │\n",
              "│         ┆            ┆           ┆           ┆   ┆           ┆           ┆           ┆ rvyzukaKu │\n",
              "│         ┆            ┆           ┆           ┆   ┆           ┆           ┆           ┆ e.j…      │\n",
              "│ 6       ┆ Judgment   ┆ 6.5       ┆ 333.0     ┆ … ┆ Alan      ┆ 6.6       ┆ 19556.0   ┆ /3rvvpS9Y │\n",
              "│         ┆ Night      ┆           ┆           ┆   ┆ Silvestri ┆           ┆           ┆ PM5HB2f4H │\n",
              "│         ┆            ┆           ┆           ┆   ┆           ┆           ┆           ┆ YiNiJVtda │\n",
              "│         ┆            ┆           ┆           ┆   ┆           ┆           ┆           ┆ m.j…      │\n",
              "│ 8       ┆ Life in    ┆ 7.5       ┆ 27.0      ┆ … ┆           ┆ 8.2       ┆ 284.0     ┆ /7ln81BRn │\n",
              "│         ┆ Loops (A   ┆           ┆           ┆   ┆           ┆           ┆           ┆ PR2wqxuIT │\n",
              "│         ┆ Megacities ┆           ┆           ┆   ┆           ┆           ┆           ┆ ZxEciCe1l │\n",
              "│         ┆ RM…        ┆           ┆           ┆   ┆           ┆           ┆           ┆ c.j…      │\n",
              "│ …       ┆ …          ┆ …         ┆ …         ┆ … ┆ …         ┆ …         ┆ …         ┆ …         │\n",
              "│ 1424492 ┆ NERDESIN   ┆ 0.0       ┆ 0.0       ┆ … ┆           ┆ null      ┆ null      ┆           │\n",
              "│         ┆ PEDRO      ┆           ┆           ┆   ┆           ┆           ┆           ┆           │\n",
              "│         ┆ PASCAL     ┆           ┆           ┆   ┆           ┆           ┆           ┆           │\n",
              "│ 1424493 ┆ First Day  ┆ 0.0       ┆ 0.0       ┆ … ┆           ┆ null      ┆ null      ┆           │\n",
              "│         ┆ of School  ┆           ┆           ┆   ┆           ┆           ┆           ┆           │\n",
              "│ 1424495 ┆ Sven       ┆ 0.0       ┆ 0.0       ┆ … ┆           ┆ null      ┆ null      ┆           │\n",
              "│ 1424496 ┆ Un fil à   ┆ 0.0       ┆ 0.0       ┆ … ┆           ┆ null      ┆ null      ┆           │\n",
              "│         ┆ la patte   ┆           ┆           ┆   ┆           ┆           ┆           ┆           │\n",
              "│ 1424497 ┆ Keine Spur ┆ 0.0       ┆ 0.0       ┆ … ┆           ┆ null      ┆ null      ┆           │\n",
              "│         ┆ von        ┆           ┆           ┆   ┆           ┆           ┆           ┆           │\n",
              "│         ┆ jemandem,  ┆           ┆           ┆   ┆           ┆           ┆           ┆           │\n",
              "│         ┆ der f…     ┆           ┆           ┆   ┆           ┆           ┆           ┆           │\n",
              "└─────────┴────────────┴───────────┴───────────┴───┴───────────┴───────────┴───────────┴───────────┘"
            ],
            "text/html": [
              "<div><style>\n",
              ".dataframe > thead > tr,\n",
              ".dataframe > tbody > tr {\n",
              "  text-align: right;\n",
              "  white-space: pre-wrap;\n",
              "}\n",
              "</style>\n",
              "<small>shape: (1_029_875, 23)</small><table border=\"1\" class=\"dataframe\"><thead><tr><th>id</th><th>title</th><th>vote_average</th><th>vote_count</th><th>release_date</th><th>runtime</th><th>imdb_id</th><th>original_language</th><th>original_title</th><th>popularity</th><th>tagline</th><th>genres</th><th>production_countries</th><th>spoken_languages</th><th>cast</th><th>director</th><th>director_of_photography</th><th>writers</th><th>producers</th><th>music_composer</th><th>imdb_rating</th><th>imdb_votes</th><th>poster_path</th></tr><tr><td>i64</td><td>str</td><td>f64</td><td>f64</td><td>str</td><td>f64</td><td>str</td><td>str</td><td>str</td><td>f64</td><td>str</td><td>str</td><td>str</td><td>str</td><td>str</td><td>str</td><td>str</td><td>str</td><td>str</td><td>str</td><td>f64</td><td>f64</td><td>str</td></tr></thead><tbody><tr><td>2</td><td>&quot;Ariel&quot;</td><td>7.1</td><td>339.0</td><td>&quot;1988-10-21&quot;</td><td>73.0</td><td>&quot;tt0094675&quot;</td><td>&quot;fi&quot;</td><td>&quot;Ariel&quot;</td><td>10.454</td><td>&quot;&quot;</td><td>&quot;Comedy, Drama, Romance, Crime&quot;</td><td>&quot;Finland&quot;</td><td>&quot;suomi&quot;</td><td>&quot;Jyrki Olsonen, Pentti Auer, Es…</td><td>&quot;Aki Kaurismäki&quot;</td><td>&quot;Timo Salminen&quot;</td><td>&quot;Aki Kaurismäki&quot;</td><td>&quot;Aki Kaurismäki&quot;</td><td>&quot;&quot;</td><td>7.4</td><td>8924.0</td><td>&quot;/ojDg0PGvs6R9xYFodRct2kdI6wC.j…</td></tr><tr><td>3</td><td>&quot;Shadows in Paradise&quot;</td><td>7.3</td><td>402.0</td><td>&quot;1986-10-17&quot;</td><td>74.0</td><td>&quot;tt0092149&quot;</td><td>&quot;fi&quot;</td><td>&quot;Varjoja paratiisissa&quot;</td><td>16.411</td><td>&quot;&quot;</td><td>&quot;Comedy, Drama, Romance&quot;</td><td>&quot;Finland&quot;</td><td>&quot;suomi, English, svenska&quot;</td><td>&quot;Sirkka Silin, Helmeri Pellonpä…</td><td>&quot;Aki Kaurismäki&quot;</td><td>&quot;Timo Salminen&quot;</td><td>&quot;Aki Kaurismäki&quot;</td><td>&quot;Mika Kaurismäki&quot;</td><td>&quot;&quot;</td><td>7.5</td><td>7704.0</td><td>&quot;/nj01hspawPof0mJmlgfjuLyJuRN.j…</td></tr><tr><td>5</td><td>&quot;Four Rooms&quot;</td><td>5.9</td><td>2656.0</td><td>&quot;1995-12-09&quot;</td><td>98.0</td><td>&quot;tt0113101&quot;</td><td>&quot;en&quot;</td><td>&quot;Four Rooms&quot;</td><td>18.777</td><td>&quot;Twelve outrageous guests. Four…</td><td>&quot;Comedy&quot;</td><td>&quot;United States of America&quot;</td><td>&quot;English&quot;</td><td>&quot;Salma Hayek Pinault, Unruly Ju…</td><td>&quot;Quentin Tarantino, Robert Rodr…</td><td>&quot;Andrzej Sekula, Phil Parmet, G…</td><td>&quot;Quentin Tarantino, Robert Rodr…</td><td>&quot;Quentin Tarantino, Alexandre R…</td><td>&quot;Combustible Edison&quot;</td><td>6.7</td><td>113283.0</td><td>&quot;/pyCk5JgtRZwRxnXwfrvyzukaKue.j…</td></tr><tr><td>6</td><td>&quot;Judgment Night&quot;</td><td>6.5</td><td>333.0</td><td>&quot;1993-10-15&quot;</td><td>109.0</td><td>&quot;tt0107286&quot;</td><td>&quot;en&quot;</td><td>&quot;Judgment Night&quot;</td><td>12.11</td><td>&quot;Don&#x27;t move. Don&#x27;t whisper. Don…</td><td>&quot;Action, Crime, Thriller&quot;</td><td>&quot;United States of America&quot;</td><td>&quot;English&quot;</td><td>&quot;Stephen Dorff, Everlast, Will …</td><td>&quot;Stephen Hopkins&quot;</td><td>&quot;Peter Levy&quot;</td><td>&quot;Jere Cunningham, Lewis Colick&quot;</td><td>&quot;Gene Levy, Marilyn Vance, Lloy…</td><td>&quot;Alan Silvestri&quot;</td><td>6.6</td><td>19556.0</td><td>&quot;/3rvvpS9YPM5HB2f4HYiNiJVtdam.j…</td></tr><tr><td>8</td><td>&quot;Life in Loops (A Megacities RM…</td><td>7.5</td><td>27.0</td><td>&quot;2006-01-01&quot;</td><td>80.0</td><td>&quot;tt0825671&quot;</td><td>&quot;en&quot;</td><td>&quot;Life in Loops (A Megacities RM…</td><td>3.203</td><td>&quot;A Megacities remix.&quot;</td><td>&quot;Documentary&quot;</td><td>&quot;Austria&quot;</td><td>&quot;English, हिन्दी, 日本語, Pусский,…</td><td>&quot;&quot;</td><td>&quot;Timo Novotny&quot;</td><td>&quot;Wolfgang Thaler&quot;</td><td>&quot;Michael Glawogger, Timo Novotn…</td><td>&quot;Ulrich Gehmacher, Timo Novotny&quot;</td><td>&quot;&quot;</td><td>8.2</td><td>284.0</td><td>&quot;/7ln81BRnPR2wqxuITZxEciCe1lc.j…</td></tr><tr><td>&hellip;</td><td>&hellip;</td><td>&hellip;</td><td>&hellip;</td><td>&hellip;</td><td>&hellip;</td><td>&hellip;</td><td>&hellip;</td><td>&hellip;</td><td>&hellip;</td><td>&hellip;</td><td>&hellip;</td><td>&hellip;</td><td>&hellip;</td><td>&hellip;</td><td>&hellip;</td><td>&hellip;</td><td>&hellip;</td><td>&hellip;</td><td>&hellip;</td><td>&hellip;</td><td>&hellip;</td><td>&hellip;</td></tr><tr><td>1424492</td><td>&quot;NERDESIN PEDRO PASCAL&quot;</td><td>0.0</td><td>0.0</td><td>&quot;&quot;</td><td>0.0</td><td>&quot;&quot;</td><td>&quot;tr&quot;</td><td>&quot;NERDESIN PEDRO PASCAL&quot;</td><td>0.0</td><td>&quot;&quot;</td><td>&quot;&quot;</td><td>&quot;&quot;</td><td>&quot;&quot;</td><td>&quot;&quot;</td><td>&quot;&quot;</td><td>&quot;&quot;</td><td>&quot;&quot;</td><td>&quot;&quot;</td><td>&quot;&quot;</td><td>null</td><td>null</td><td>&quot;&quot;</td></tr><tr><td>1424493</td><td>&quot;First Day of School&quot;</td><td>0.0</td><td>0.0</td><td>&quot;&quot;</td><td>14.0</td><td>&quot;&quot;</td><td>&quot;en&quot;</td><td>&quot;First Day of School&quot;</td><td>0.0</td><td>&quot;&quot;</td><td>&quot;&quot;</td><td>&quot;&quot;</td><td>&quot;&quot;</td><td>&quot;&quot;</td><td>&quot;&quot;</td><td>&quot;&quot;</td><td>&quot;&quot;</td><td>&quot;&quot;</td><td>&quot;&quot;</td><td>null</td><td>null</td><td>&quot;&quot;</td></tr><tr><td>1424495</td><td>&quot;Sven&quot;</td><td>0.0</td><td>0.0</td><td>&quot;&quot;</td><td>16.0</td><td>&quot;&quot;</td><td>&quot;en&quot;</td><td>&quot;Sven&quot;</td><td>0.0</td><td>&quot;A story about a simple, small …</td><td>&quot;&quot;</td><td>&quot;&quot;</td><td>&quot;&quot;</td><td>&quot;&quot;</td><td>&quot;&quot;</td><td>&quot;&quot;</td><td>&quot;&quot;</td><td>&quot;&quot;</td><td>&quot;&quot;</td><td>null</td><td>null</td><td>&quot;&quot;</td></tr><tr><td>1424496</td><td>&quot;Un fil à la patte&quot;</td><td>0.0</td><td>0.0</td><td>&quot;&quot;</td><td>0.0</td><td>&quot;tt0207808&quot;</td><td>&quot;pl&quot;</td><td>&quot;Un fil à la patte&quot;</td><td>0.0</td><td>&quot;&quot;</td><td>&quot;&quot;</td><td>&quot;&quot;</td><td>&quot;&quot;</td><td>&quot;&quot;</td><td>&quot;&quot;</td><td>&quot;&quot;</td><td>&quot;&quot;</td><td>&quot;&quot;</td><td>&quot;&quot;</td><td>null</td><td>null</td><td>&quot;&quot;</td></tr><tr><td>1424497</td><td>&quot;Keine Spur von jemandem, der f…</td><td>0.0</td><td>0.0</td><td>&quot;&quot;</td><td>0.0</td><td>&quot;tt35198826&quot;</td><td>&quot;de&quot;</td><td>&quot;Keine Spur von jemandem, der f…</td><td>0.0</td><td>&quot;&quot;</td><td>&quot;&quot;</td><td>&quot;&quot;</td><td>&quot;&quot;</td><td>&quot;&quot;</td><td>&quot;&quot;</td><td>&quot;&quot;</td><td>&quot;&quot;</td><td>&quot;&quot;</td><td>&quot;&quot;</td><td>null</td><td>null</td><td>&quot;&quot;</td></tr></tbody></table></div>"
            ]
          },
          "metadata": {},
          "execution_count": 58
        }
      ]
    },
    {
      "cell_type": "code",
      "source": [
        "df = df.filter(pl.col(\"genres\") != \"\")\n",
        "df"
      ],
      "metadata": {
        "colab": {
          "base_uri": "https://localhost:8080/",
          "height": 949
        },
        "id": "HbrfNtf88GY6",
        "outputId": "d281789f-09f9-498a-a709-8fdfbcddd5c6"
      },
      "execution_count": 59,
      "outputs": [
        {
          "output_type": "execute_result",
          "data": {
            "text/plain": [
              "shape: (732_041, 23)\n",
              "┌─────────┬────────────┬───────────┬───────────┬───┬───────────┬───────────┬───────────┬───────────┐\n",
              "│ id      ┆ title      ┆ vote_aver ┆ vote_coun ┆ … ┆ music_com ┆ imdb_rati ┆ imdb_vote ┆ poster_pa │\n",
              "│ ---     ┆ ---        ┆ age       ┆ t         ┆   ┆ poser     ┆ ng        ┆ s         ┆ th        │\n",
              "│ i64     ┆ str        ┆ ---       ┆ ---       ┆   ┆ ---       ┆ ---       ┆ ---       ┆ ---       │\n",
              "│         ┆            ┆ f64       ┆ f64       ┆   ┆ str       ┆ f64       ┆ f64       ┆ str       │\n",
              "╞═════════╪════════════╪═══════════╪═══════════╪═══╪═══════════╪═══════════╪═══════════╪═══════════╡\n",
              "│ 2       ┆ Ariel      ┆ 7.1       ┆ 339.0     ┆ … ┆           ┆ 7.4       ┆ 8924.0    ┆ /ojDg0PGv │\n",
              "│         ┆            ┆           ┆           ┆   ┆           ┆           ┆           ┆ s6R9xYFod │\n",
              "│         ┆            ┆           ┆           ┆   ┆           ┆           ┆           ┆ Rct2kdI6w │\n",
              "│         ┆            ┆           ┆           ┆   ┆           ┆           ┆           ┆ C.j…      │\n",
              "│ 3       ┆ Shadows in ┆ 7.3       ┆ 402.0     ┆ … ┆           ┆ 7.5       ┆ 7704.0    ┆ /nj01hspa │\n",
              "│         ┆ Paradise   ┆           ┆           ┆   ┆           ┆           ┆           ┆ wPof0mJml │\n",
              "│         ┆            ┆           ┆           ┆   ┆           ┆           ┆           ┆ gfjuLyJuR │\n",
              "│         ┆            ┆           ┆           ┆   ┆           ┆           ┆           ┆ N.j…      │\n",
              "│ 5       ┆ Four Rooms ┆ 5.9       ┆ 2656.0    ┆ … ┆ Combustib ┆ 6.7       ┆ 113283.0  ┆ /pyCk5Jgt │\n",
              "│         ┆            ┆           ┆           ┆   ┆ le Edison ┆           ┆           ┆ RZwRxnXwf │\n",
              "│         ┆            ┆           ┆           ┆   ┆           ┆           ┆           ┆ rvyzukaKu │\n",
              "│         ┆            ┆           ┆           ┆   ┆           ┆           ┆           ┆ e.j…      │\n",
              "│ 6       ┆ Judgment   ┆ 6.5       ┆ 333.0     ┆ … ┆ Alan      ┆ 6.6       ┆ 19556.0   ┆ /3rvvpS9Y │\n",
              "│         ┆ Night      ┆           ┆           ┆   ┆ Silvestri ┆           ┆           ┆ PM5HB2f4H │\n",
              "│         ┆            ┆           ┆           ┆   ┆           ┆           ┆           ┆ YiNiJVtda │\n",
              "│         ┆            ┆           ┆           ┆   ┆           ┆           ┆           ┆ m.j…      │\n",
              "│ 8       ┆ Life in    ┆ 7.5       ┆ 27.0      ┆ … ┆           ┆ 8.2       ┆ 284.0     ┆ /7ln81BRn │\n",
              "│         ┆ Loops (A   ┆           ┆           ┆   ┆           ┆           ┆           ┆ PR2wqxuIT │\n",
              "│         ┆ Megacities ┆           ┆           ┆   ┆           ┆           ┆           ┆ ZxEciCe1l │\n",
              "│         ┆ RM…        ┆           ┆           ┆   ┆           ┆           ┆           ┆ c.j…      │\n",
              "│ …       ┆ …          ┆ …         ┆ …         ┆ … ┆ …         ┆ …         ┆ …         ┆ …         │\n",
              "│ 1424425 ┆ All or     ┆ 0.0       ┆ 0.0       ┆ … ┆           ┆ null      ┆ null      ┆ /xVC0DpiB │\n",
              "│         ┆ Nothing    ┆           ┆           ┆   ┆           ┆           ┆           ┆ uyTNzVD56 │\n",
              "│         ┆            ┆           ┆           ┆   ┆           ┆           ┆           ┆ IXCvxuany │\n",
              "│         ┆            ┆           ┆           ┆   ┆           ┆           ┆           ┆ C.j…      │\n",
              "│ 1424426 ┆ Ring       ┆ 0.0       ┆ 0.0       ┆ … ┆           ┆ null      ┆ null      ┆ /lMkolCsW │\n",
              "│         ┆ Around The ┆           ┆           ┆   ┆           ┆           ┆           ┆ tkMlaLw8C │\n",
              "│         ┆ New Year   ┆           ┆           ┆   ┆           ┆           ┆           ┆ LKxEKFZc9 │\n",
              "│         ┆            ┆           ┆           ┆   ┆           ┆           ┆           ┆ A.j…      │\n",
              "│ 1424428 ┆ Narvas     ┆ 0.0       ┆ 0.0       ┆ … ┆           ┆ null      ┆ null      ┆ /qgE4GjD4 │\n",
              "│         ┆ kinni      ┆           ┆           ┆   ┆           ┆           ┆           ┆ ILI6hAEla │\n",
              "│         ┆            ┆           ┆           ┆   ┆           ┆           ┆           ┆ yJDlFvx25 │\n",
              "│         ┆            ┆           ┆           ┆   ┆           ┆           ┆           ┆ X.j…      │\n",
              "│ 1424431 ┆ Bestiari,  ┆ 0.0       ┆ 0.0       ┆ … ┆           ┆ null      ┆ null      ┆           │\n",
              "│         ┆ Erbari,    ┆           ┆           ┆   ┆           ┆           ┆           ┆           │\n",
              "│         ┆ Lapidari / ┆           ┆           ┆   ┆           ┆           ┆           ┆           │\n",
              "│         ┆ D…         ┆           ┆           ┆   ┆           ┆           ┆           ┆           │\n",
              "│ 1424476 ┆ What’s In  ┆ 0.0       ┆ 0.0       ┆ … ┆           ┆ null      ┆ null      ┆           │\n",
              "│         ┆ Store?     ┆           ┆           ┆   ┆           ┆           ┆           ┆           │\n",
              "└─────────┴────────────┴───────────┴───────────┴───┴───────────┴───────────┴───────────┴───────────┘"
            ],
            "text/html": [
              "<div><style>\n",
              ".dataframe > thead > tr,\n",
              ".dataframe > tbody > tr {\n",
              "  text-align: right;\n",
              "  white-space: pre-wrap;\n",
              "}\n",
              "</style>\n",
              "<small>shape: (732_041, 23)</small><table border=\"1\" class=\"dataframe\"><thead><tr><th>id</th><th>title</th><th>vote_average</th><th>vote_count</th><th>release_date</th><th>runtime</th><th>imdb_id</th><th>original_language</th><th>original_title</th><th>popularity</th><th>tagline</th><th>genres</th><th>production_countries</th><th>spoken_languages</th><th>cast</th><th>director</th><th>director_of_photography</th><th>writers</th><th>producers</th><th>music_composer</th><th>imdb_rating</th><th>imdb_votes</th><th>poster_path</th></tr><tr><td>i64</td><td>str</td><td>f64</td><td>f64</td><td>str</td><td>f64</td><td>str</td><td>str</td><td>str</td><td>f64</td><td>str</td><td>str</td><td>str</td><td>str</td><td>str</td><td>str</td><td>str</td><td>str</td><td>str</td><td>str</td><td>f64</td><td>f64</td><td>str</td></tr></thead><tbody><tr><td>2</td><td>&quot;Ariel&quot;</td><td>7.1</td><td>339.0</td><td>&quot;1988-10-21&quot;</td><td>73.0</td><td>&quot;tt0094675&quot;</td><td>&quot;fi&quot;</td><td>&quot;Ariel&quot;</td><td>10.454</td><td>&quot;&quot;</td><td>&quot;Comedy, Drama, Romance, Crime&quot;</td><td>&quot;Finland&quot;</td><td>&quot;suomi&quot;</td><td>&quot;Jyrki Olsonen, Pentti Auer, Es…</td><td>&quot;Aki Kaurismäki&quot;</td><td>&quot;Timo Salminen&quot;</td><td>&quot;Aki Kaurismäki&quot;</td><td>&quot;Aki Kaurismäki&quot;</td><td>&quot;&quot;</td><td>7.4</td><td>8924.0</td><td>&quot;/ojDg0PGvs6R9xYFodRct2kdI6wC.j…</td></tr><tr><td>3</td><td>&quot;Shadows in Paradise&quot;</td><td>7.3</td><td>402.0</td><td>&quot;1986-10-17&quot;</td><td>74.0</td><td>&quot;tt0092149&quot;</td><td>&quot;fi&quot;</td><td>&quot;Varjoja paratiisissa&quot;</td><td>16.411</td><td>&quot;&quot;</td><td>&quot;Comedy, Drama, Romance&quot;</td><td>&quot;Finland&quot;</td><td>&quot;suomi, English, svenska&quot;</td><td>&quot;Sirkka Silin, Helmeri Pellonpä…</td><td>&quot;Aki Kaurismäki&quot;</td><td>&quot;Timo Salminen&quot;</td><td>&quot;Aki Kaurismäki&quot;</td><td>&quot;Mika Kaurismäki&quot;</td><td>&quot;&quot;</td><td>7.5</td><td>7704.0</td><td>&quot;/nj01hspawPof0mJmlgfjuLyJuRN.j…</td></tr><tr><td>5</td><td>&quot;Four Rooms&quot;</td><td>5.9</td><td>2656.0</td><td>&quot;1995-12-09&quot;</td><td>98.0</td><td>&quot;tt0113101&quot;</td><td>&quot;en&quot;</td><td>&quot;Four Rooms&quot;</td><td>18.777</td><td>&quot;Twelve outrageous guests. Four…</td><td>&quot;Comedy&quot;</td><td>&quot;United States of America&quot;</td><td>&quot;English&quot;</td><td>&quot;Salma Hayek Pinault, Unruly Ju…</td><td>&quot;Quentin Tarantino, Robert Rodr…</td><td>&quot;Andrzej Sekula, Phil Parmet, G…</td><td>&quot;Quentin Tarantino, Robert Rodr…</td><td>&quot;Quentin Tarantino, Alexandre R…</td><td>&quot;Combustible Edison&quot;</td><td>6.7</td><td>113283.0</td><td>&quot;/pyCk5JgtRZwRxnXwfrvyzukaKue.j…</td></tr><tr><td>6</td><td>&quot;Judgment Night&quot;</td><td>6.5</td><td>333.0</td><td>&quot;1993-10-15&quot;</td><td>109.0</td><td>&quot;tt0107286&quot;</td><td>&quot;en&quot;</td><td>&quot;Judgment Night&quot;</td><td>12.11</td><td>&quot;Don&#x27;t move. Don&#x27;t whisper. Don…</td><td>&quot;Action, Crime, Thriller&quot;</td><td>&quot;United States of America&quot;</td><td>&quot;English&quot;</td><td>&quot;Stephen Dorff, Everlast, Will …</td><td>&quot;Stephen Hopkins&quot;</td><td>&quot;Peter Levy&quot;</td><td>&quot;Jere Cunningham, Lewis Colick&quot;</td><td>&quot;Gene Levy, Marilyn Vance, Lloy…</td><td>&quot;Alan Silvestri&quot;</td><td>6.6</td><td>19556.0</td><td>&quot;/3rvvpS9YPM5HB2f4HYiNiJVtdam.j…</td></tr><tr><td>8</td><td>&quot;Life in Loops (A Megacities RM…</td><td>7.5</td><td>27.0</td><td>&quot;2006-01-01&quot;</td><td>80.0</td><td>&quot;tt0825671&quot;</td><td>&quot;en&quot;</td><td>&quot;Life in Loops (A Megacities RM…</td><td>3.203</td><td>&quot;A Megacities remix.&quot;</td><td>&quot;Documentary&quot;</td><td>&quot;Austria&quot;</td><td>&quot;English, हिन्दी, 日本語, Pусский,…</td><td>&quot;&quot;</td><td>&quot;Timo Novotny&quot;</td><td>&quot;Wolfgang Thaler&quot;</td><td>&quot;Michael Glawogger, Timo Novotn…</td><td>&quot;Ulrich Gehmacher, Timo Novotny&quot;</td><td>&quot;&quot;</td><td>8.2</td><td>284.0</td><td>&quot;/7ln81BRnPR2wqxuITZxEciCe1lc.j…</td></tr><tr><td>&hellip;</td><td>&hellip;</td><td>&hellip;</td><td>&hellip;</td><td>&hellip;</td><td>&hellip;</td><td>&hellip;</td><td>&hellip;</td><td>&hellip;</td><td>&hellip;</td><td>&hellip;</td><td>&hellip;</td><td>&hellip;</td><td>&hellip;</td><td>&hellip;</td><td>&hellip;</td><td>&hellip;</td><td>&hellip;</td><td>&hellip;</td><td>&hellip;</td><td>&hellip;</td><td>&hellip;</td><td>&hellip;</td></tr><tr><td>1424425</td><td>&quot;All or Nothing&quot;</td><td>0.0</td><td>0.0</td><td>&quot;2023-09-02&quot;</td><td>9.0</td><td>&quot;tt29324641&quot;</td><td>&quot;en&quot;</td><td>&quot;All or Nothing&quot;</td><td>0.0</td><td>&quot;&quot;</td><td>&quot;Drama, Romance&quot;</td><td>&quot;&quot;</td><td>&quot;&quot;</td><td>&quot;Kayla Lynette Miller, La-Teish…</td><td>&quot;Alex R. Wagner&quot;</td><td>&quot;&quot;</td><td>&quot;Alex R. Wagner&quot;</td><td>&quot;Chelsea Roach, Alex R. Wagner&quot;</td><td>&quot;&quot;</td><td>null</td><td>null</td><td>&quot;/xVC0DpiBuyTNzVD56IXCvxuanyC.j…</td></tr><tr><td>1424426</td><td>&quot;Ring Around The New Year&quot;</td><td>0.0</td><td>0.0</td><td>&quot;2024-03-16&quot;</td><td>9.0</td><td>&quot;tt31949124&quot;</td><td>&quot;en&quot;</td><td>&quot;Ring Around The New Year&quot;</td><td>0.0</td><td>&quot;&quot;</td><td>&quot;Comedy&quot;</td><td>&quot;&quot;</td><td>&quot;&quot;</td><td>&quot;&quot;</td><td>&quot;&quot;</td><td>&quot;&quot;</td><td>&quot;&quot;</td><td>&quot;&quot;</td><td>&quot;&quot;</td><td>null</td><td>null</td><td>&quot;/lMkolCsWtkMlaLw8CLKxEKFZc9A.j…</td></tr><tr><td>1424428</td><td>&quot;Narvas kinni&quot;</td><td>0.0</td><td>0.0</td><td>&quot;2025-01-26&quot;</td><td>27.0</td><td>&quot;tt35292535&quot;</td><td>&quot;et&quot;</td><td>&quot;Narvas kinni&quot;</td><td>0.0</td><td>&quot;&quot;</td><td>&quot;Documentary&quot;</td><td>&quot;Estonia&quot;</td><td>&quot;Eesti, Pусский&quot;</td><td>&quot;&quot;</td><td>&quot;&quot;</td><td>&quot;&quot;</td><td>&quot;&quot;</td><td>&quot;&quot;</td><td>&quot;&quot;</td><td>null</td><td>null</td><td>&quot;/qgE4GjD4ILI6hAElayJDlFvx25X.j…</td></tr><tr><td>1424431</td><td>&quot;Bestiari, Erbari, Lapidari / D…</td><td>0.0</td><td>0.0</td><td>&quot;2025-01-27&quot;</td><td>81.0</td><td>&quot;&quot;</td><td>&quot;it&quot;</td><td>&quot;Bestiari, Erbari, Lapidari / D…</td><td>0.0</td><td>&quot;&quot;</td><td>&quot;Documentary&quot;</td><td>&quot;&quot;</td><td>&quot;Italiano&quot;</td><td>&quot;&quot;</td><td>&quot;&quot;</td><td>&quot;&quot;</td><td>&quot;&quot;</td><td>&quot;&quot;</td><td>&quot;&quot;</td><td>null</td><td>null</td><td>&quot;&quot;</td></tr><tr><td>1424476</td><td>&quot;What’s In Store?&quot;</td><td>0.0</td><td>0.0</td><td>&quot;&quot;</td><td>23.0</td><td>&quot;&quot;</td><td>&quot;en&quot;</td><td>&quot;What’s In Store?&quot;</td><td>0.0</td><td>&quot;&quot;</td><td>&quot;Documentary&quot;</td><td>&quot;&quot;</td><td>&quot;English&quot;</td><td>&quot;&quot;</td><td>&quot;&quot;</td><td>&quot;&quot;</td><td>&quot;&quot;</td><td>&quot;&quot;</td><td>&quot;&quot;</td><td>null</td><td>null</td><td>&quot;&quot;</td></tr></tbody></table></div>"
            ]
          },
          "metadata": {},
          "execution_count": 59
        }
      ]
    },
    {
      "cell_type": "code",
      "source": [
        "unique_genres = (\n",
        "    df.select(pl.col(\"genres\").str.split(\",\"))\n",
        "    .explode(\"genres\")\n",
        "    .unique()\n",
        ")\n",
        "unique_genres"
      ],
      "metadata": {
        "colab": {
          "base_uri": "https://localhost:8080/",
          "height": 443
        },
        "id": "QtGmH3cf9Ic5",
        "outputId": "c2444ed0-4e36-4420-aabd-bfac1e10bc7c"
      },
      "execution_count": 60,
      "outputs": [
        {
          "output_type": "execute_result",
          "data": {
            "text/plain": [
              "shape: (38, 1)\n",
              "┌─────────────┐\n",
              "│ genres      │\n",
              "│ ---         │\n",
              "│ str         │\n",
              "╞═════════════╡\n",
              "│ Romance     │\n",
              "│  Horror     │\n",
              "│  TV Movie   │\n",
              "│  Western    │\n",
              "│ Thriller    │\n",
              "│ …           │\n",
              "│ Documentary │\n",
              "│  Drama      │\n",
              "│ Crime       │\n",
              "│ Comedy      │\n",
              "│  Comedy     │\n",
              "└─────────────┘"
            ],
            "text/html": [
              "<div><style>\n",
              ".dataframe > thead > tr,\n",
              ".dataframe > tbody > tr {\n",
              "  text-align: right;\n",
              "  white-space: pre-wrap;\n",
              "}\n",
              "</style>\n",
              "<small>shape: (38, 1)</small><table border=\"1\" class=\"dataframe\"><thead><tr><th>genres</th></tr><tr><td>str</td></tr></thead><tbody><tr><td>&quot;Romance&quot;</td></tr><tr><td>&quot; Horror&quot;</td></tr><tr><td>&quot; TV Movie&quot;</td></tr><tr><td>&quot; Western&quot;</td></tr><tr><td>&quot;Thriller&quot;</td></tr><tr><td>&hellip;</td></tr><tr><td>&quot;Documentary&quot;</td></tr><tr><td>&quot; Drama&quot;</td></tr><tr><td>&quot;Crime&quot;</td></tr><tr><td>&quot;Comedy&quot;</td></tr><tr><td>&quot; Comedy&quot;</td></tr></tbody></table></div>"
            ]
          },
          "metadata": {},
          "execution_count": 60
        }
      ]
    },
    {
      "cell_type": "code",
      "source": [
        "unique_genres_list = unique_genres['genres'].to_list()\n",
        "unique_genres_list = [ genre.strip() for genre in unique_genres_list]\n",
        "print(\"Unique Genres:\", unique_genres_list)"
      ],
      "metadata": {
        "colab": {
          "base_uri": "https://localhost:8080/"
        },
        "id": "jCjYeNyu_I2i",
        "outputId": "dcff4788-024a-4ce9-808b-1dd0ea516909"
      },
      "execution_count": 61,
      "outputs": [
        {
          "output_type": "stream",
          "name": "stdout",
          "text": [
            "Unique Genres: ['Romance', 'Horror', 'TV Movie', 'Western', 'Thriller', 'Action', 'Romance', 'Science Fiction', 'Music', 'Adventure', 'History', 'Drama', 'Horror', 'Mystery', 'Action', 'Crime', 'Western', 'Documentary', 'Thriller', 'War', 'Family', 'History', 'TV Movie', 'Science Fiction', 'Animation', 'Mystery', 'Fantasy', 'Family', 'Music', 'Animation', 'Fantasy', 'Adventure', 'War', 'Documentary', 'Drama', 'Crime', 'Comedy', 'Comedy']\n"
          ]
        }
      ]
    },
    {
      "cell_type": "code",
      "source": [
        "genre_df = pl.DataFrame({\"Genre\": unique_genres_list})"
      ],
      "metadata": {
        "id": "FMw5PoyooQbA"
      },
      "execution_count": 62,
      "outputs": []
    },
    {
      "cell_type": "code",
      "source": [
        "genre_df.write_csv(\"genre_df.csv\")"
      ],
      "metadata": {
        "id": "HGndTqtGpEU0"
      },
      "execution_count": 63,
      "outputs": []
    },
    {
      "cell_type": "code",
      "source": [
        "unique_genres = (\n",
        "    df.select(pl.col(\"spoken_languages\").str.split(\",\"))\n",
        "    .explode(\"spoken_languages\")\n",
        "    .unique()\n",
        ")\n",
        "unique_genres.write_csv(\"spoken_language.csv\")"
      ],
      "metadata": {
        "id": "N6QDimObSqZc"
      },
      "execution_count": 64,
      "outputs": []
    },
    {
      "cell_type": "code",
      "source": [
        "unique_genres"
      ],
      "metadata": {
        "colab": {
          "base_uri": "https://localhost:8080/",
          "height": 443
        },
        "id": "K9MADLI_TP2u",
        "outputId": "9bdfd3ca-27af-45a5-d541-54524a3f2f03"
      },
      "execution_count": 65,
      "outputs": [
        {
          "output_type": "execute_result",
          "data": {
            "text/plain": [
              "shape: (159, 1)\n",
              "┌──────────────────┐\n",
              "│ spoken_languages │\n",
              "│ ---              │\n",
              "│ str              │\n",
              "╞══════════════════╡\n",
              "│ ?????            │\n",
              "│  ελληνικά        │\n",
              "│ 广州话 / 廣州話  │\n",
              "│  Afrikaans       │\n",
              "│  shqip           │\n",
              "│ …                │\n",
              "│ Nederlands       │\n",
              "│  Latin           │\n",
              "│  Srpski          │\n",
              "│  No Language     │\n",
              "│  Malti           │\n",
              "└──────────────────┘"
            ],
            "text/html": [
              "<div><style>\n",
              ".dataframe > thead > tr,\n",
              ".dataframe > tbody > tr {\n",
              "  text-align: right;\n",
              "  white-space: pre-wrap;\n",
              "}\n",
              "</style>\n",
              "<small>shape: (159, 1)</small><table border=\"1\" class=\"dataframe\"><thead><tr><th>spoken_languages</th></tr><tr><td>str</td></tr></thead><tbody><tr><td>&quot;?????&quot;</td></tr><tr><td>&quot; ελληνικά&quot;</td></tr><tr><td>&quot;广州话 / 廣州話&quot;</td></tr><tr><td>&quot; Afrikaans&quot;</td></tr><tr><td>&quot; shqip&quot;</td></tr><tr><td>&hellip;</td></tr><tr><td>&quot;Nederlands&quot;</td></tr><tr><td>&quot; Latin&quot;</td></tr><tr><td>&quot; Srpski&quot;</td></tr><tr><td>&quot; No Language&quot;</td></tr><tr><td>&quot; Malti&quot;</td></tr></tbody></table></div>"
            ]
          },
          "metadata": {},
          "execution_count": 65
        }
      ]
    },
    {
      "cell_type": "code",
      "source": [
        "\n",
        "unique_production_countries = (\n",
        "    df.select(pl.col(\"production_countries\").str.split(\",\"))\n",
        "    .explode(\"production_countries\")\n",
        "    .unique()\n",
        ")\n",
        "unique_production_countries.write_csv(\"spoken_production_countries.csv\")"
      ],
      "metadata": {
        "id": "7zAn_LMBTdCc"
      },
      "execution_count": 66,
      "outputs": []
    },
    {
      "cell_type": "code",
      "source": [
        "unique_production_countries"
      ],
      "metadata": {
        "id": "-V2vh4M7Tsud",
        "outputId": "e99b3f16-480c-4510-9076-f876b5edc014",
        "colab": {
          "base_uri": "https://localhost:8080/",
          "height": 443
        }
      },
      "execution_count": 67,
      "outputs": [
        {
          "output_type": "execute_result",
          "data": {
            "text/plain": [
              "shape: (475, 1)\n",
              "┌───────────────────────┐\n",
              "│ production_countries  │\n",
              "│ ---                   │\n",
              "│ str                   │\n",
              "╞═══════════════════════╡\n",
              "│  Australia            │\n",
              "│ Costa Rica            │\n",
              "│ Kuwait                │\n",
              "│ Greenland             │\n",
              "│  Algeria              │\n",
              "│ …                     │\n",
              "│  Yemen                │\n",
              "│  Austria              │\n",
              "│ Cote D'Ivoire         │\n",
              "│  Syrian Arab Republic │\n",
              "│  Paraguay             │\n",
              "└───────────────────────┘"
            ],
            "text/html": [
              "<div><style>\n",
              ".dataframe > thead > tr,\n",
              ".dataframe > tbody > tr {\n",
              "  text-align: right;\n",
              "  white-space: pre-wrap;\n",
              "}\n",
              "</style>\n",
              "<small>shape: (475, 1)</small><table border=\"1\" class=\"dataframe\"><thead><tr><th>production_countries</th></tr><tr><td>str</td></tr></thead><tbody><tr><td>&quot; Australia&quot;</td></tr><tr><td>&quot;Costa Rica&quot;</td></tr><tr><td>&quot;Kuwait&quot;</td></tr><tr><td>&quot;Greenland&quot;</td></tr><tr><td>&quot; Algeria&quot;</td></tr><tr><td>&hellip;</td></tr><tr><td>&quot; Yemen&quot;</td></tr><tr><td>&quot; Austria&quot;</td></tr><tr><td>&quot;Cote D&#x27;Ivoire&quot;</td></tr><tr><td>&quot; Syrian Arab Republic&quot;</td></tr><tr><td>&quot; Paraguay&quot;</td></tr></tbody></table></div>"
            ]
          },
          "metadata": {},
          "execution_count": 67
        }
      ]
    },
    {
      "cell_type": "code",
      "source": [
        "def contains_in_column(df:pl.DataFrame, column:str, value:str):\n",
        "  return df.filter(pl.col(column).str.contains(value))"
      ],
      "metadata": {
        "id": "jZPACNHetkv8"
      },
      "execution_count": 117,
      "outputs": []
    },
    {
      "cell_type": "code",
      "source": [
        "def serach_movie_name(df:pl.DataFrame, title:str,year:int=None, genre:str=None, director:str=None):\n",
        "  if title:\n",
        "    df = df.filter(pl.col(\"title\").str.contains(title))\n",
        "  if year:\n",
        "    df = df.filter(pl.col(\"release_date\").is_not_null())\n",
        "    df = df.filter(pl.col(\"release_date\") != \"\")\n",
        "    df = df.filter(pl.col(\"release_date\").str.slice(0,4).cast(pl.Int32) == year)\n",
        "  if genre:\n",
        "    df = df.filter(pl.col(\"genres\").str.contains(genre))\n",
        "  if director:\n",
        "    df = contains_in_column(df, \"director\", director)\n",
        "  return df"
      ],
      "metadata": {
        "id": "H2VaWkCAp6Xd"
      },
      "execution_count": 115,
      "outputs": []
    },
    {
      "cell_type": "code",
      "source": [
        "movie_name = \"Predestination\"\n",
        "# released_yeaer = 2017\n",
        "# genre = \"Romance\"\n",
        "# director = \"Christopher Nolan\"\n",
        "released_yeaer = None\n",
        "director = ''\n",
        "genre = ''\n",
        "serach_movie_name(df,movie_name,released_yeaer, genre,director=director)"
      ],
      "metadata": {
        "colab": {
          "base_uri": "https://localhost:8080/",
          "height": 451
        },
        "id": "NeSn1bU8o8KM",
        "outputId": "13dcf04c-115f-4ed1-d7e5-ce797e868444"
      },
      "execution_count": 112,
      "outputs": [
        {
          "output_type": "execute_result",
          "data": {
            "text/plain": [
              "shape: (4, 23)\n",
              "┌────────┬────────────┬────────────┬───────────┬───┬───────────┬───────────┬───────────┬───────────┐\n",
              "│ id     ┆ title      ┆ vote_avera ┆ vote_coun ┆ … ┆ music_com ┆ imdb_rati ┆ imdb_vote ┆ poster_pa │\n",
              "│ ---    ┆ ---        ┆ ge         ┆ t         ┆   ┆ poser     ┆ ng        ┆ s         ┆ th        │\n",
              "│ i64    ┆ str        ┆ ---        ┆ ---       ┆   ┆ ---       ┆ ---       ┆ ---       ┆ ---       │\n",
              "│        ┆            ┆ f64        ┆ f64       ┆   ┆ str       ┆ f64       ┆ f64       ┆ str       │\n",
              "╞════════╪════════════╪════════════╪═══════════╪═══╪═══════════╪═══════════╪═══════════╪═══════════╡\n",
              "│ 206487 ┆ Predestina ┆ 7.432      ┆ 6496.0    ┆ … ┆ Peter     ┆ 7.4       ┆ 318032.0  ┆ /38Xr1JnV │\n",
              "│        ┆ tion       ┆            ┆           ┆   ┆ Spierig   ┆           ┆           ┆ 1ZcLQ55zm │\n",
              "│        ┆            ┆            ┆           ┆   ┆           ┆           ┆           ┆ dSp6n475c │\n",
              "│        ┆            ┆            ┆           ┆   ┆           ┆           ┆           ┆ Z.j…      │\n",
              "│ 316782 ┆ Predestina ┆ 7.2        ┆ 7.0       ┆ … ┆           ┆ 6.4       ┆ 63.0      ┆           │\n",
              "│        ┆ tion       ┆            ┆           ┆   ┆           ┆           ┆           ┆           │\n",
              "│ 449432 ┆ All You    ┆ 7.0        ┆ 2.0       ┆ … ┆           ┆ 6.4       ┆ 13.0      ┆ /uD2S0EPf │\n",
              "│        ┆ Zombies:   ┆            ┆           ┆   ┆           ┆           ┆           ┆ oQFjdUr6I │\n",
              "│        ┆ Bringing   ┆            ┆           ┆   ┆           ┆           ┆           ┆ jAamEURsP │\n",
              "│        ┆ 'Pre…      ┆            ┆           ┆   ┆           ┆           ┆           ┆ J.j…      │\n",
              "│ 843242 ┆ Predestina ┆ 0.0        ┆ 0.0       ┆ … ┆           ┆ null      ┆ null      ┆ /yO0wyv7F │\n",
              "│        ┆ tion       ┆            ┆           ┆   ┆           ┆           ┆           ┆ ltDUkqrJy │\n",
              "│        ┆            ┆            ┆           ┆   ┆           ┆           ┆           ┆ nGystiJ2G │\n",
              "│        ┆            ┆            ┆           ┆   ┆           ┆           ┆           ┆ Y.j…      │\n",
              "└────────┴────────────┴────────────┴───────────┴───┴───────────┴───────────┴───────────┴───────────┘"
            ],
            "text/html": [
              "<div><style>\n",
              ".dataframe > thead > tr,\n",
              ".dataframe > tbody > tr {\n",
              "  text-align: right;\n",
              "  white-space: pre-wrap;\n",
              "}\n",
              "</style>\n",
              "<small>shape: (4, 23)</small><table border=\"1\" class=\"dataframe\"><thead><tr><th>id</th><th>title</th><th>vote_average</th><th>vote_count</th><th>release_date</th><th>runtime</th><th>imdb_id</th><th>original_language</th><th>original_title</th><th>popularity</th><th>tagline</th><th>genres</th><th>production_countries</th><th>spoken_languages</th><th>cast</th><th>director</th><th>director_of_photography</th><th>writers</th><th>producers</th><th>music_composer</th><th>imdb_rating</th><th>imdb_votes</th><th>poster_path</th></tr><tr><td>i64</td><td>str</td><td>f64</td><td>f64</td><td>str</td><td>f64</td><td>str</td><td>str</td><td>str</td><td>f64</td><td>str</td><td>str</td><td>str</td><td>str</td><td>str</td><td>str</td><td>str</td><td>str</td><td>str</td><td>str</td><td>f64</td><td>f64</td><td>str</td></tr></thead><tbody><tr><td>206487</td><td>&quot;Predestination&quot;</td><td>7.432</td><td>6496.0</td><td>&quot;2014-08-28&quot;</td><td>97.0</td><td>&quot;tt2397535&quot;</td><td>&quot;en&quot;</td><td>&quot;Predestination&quot;</td><td>58.701</td><td>&quot;To save the future he must res…</td><td>&quot;Science Fiction, Thriller&quot;</td><td>&quot;Australia&quot;</td><td>&quot;English&quot;</td><td>&quot;Emily Coupe, Scott Norman, Kri…</td><td>&quot;Peter Spierig, Michael Spierig&quot;</td><td>&quot;Ben Nott&quot;</td><td>&quot;Peter Spierig, Michael Spierig…</td><td>&quot;Matt Kennedy, Paddy McDonald, …</td><td>&quot;Peter Spierig&quot;</td><td>7.4</td><td>318032.0</td><td>&quot;/38Xr1JnV1ZcLQ55zmdSp6n475cZ.j…</td></tr><tr><td>316782</td><td>&quot;Predestination&quot;</td><td>7.2</td><td>7.0</td><td>&quot;2013-10-13&quot;</td><td>7.0</td><td>&quot;tt2829516&quot;</td><td>&quot;en&quot;</td><td>&quot;Predestination&quot;</td><td>0.804</td><td>&quot;&quot;</td><td>&quot;Drama&quot;</td><td>&quot;United States of America, Braz…</td><td>&quot;English&quot;</td><td>&quot;&quot;</td><td>&quot;Daniel Bean&quot;</td><td>&quot;&quot;</td><td>&quot;Daniel Bean&quot;</td><td>&quot;&quot;</td><td>&quot;&quot;</td><td>6.4</td><td>63.0</td><td>&quot;&quot;</td></tr><tr><td>449432</td><td>&quot;All You Zombies: Bringing &#x27;Pre…</td><td>7.0</td><td>2.0</td><td>&quot;2015-02-10&quot;</td><td>76.0</td><td>&quot;tt5360200&quot;</td><td>&quot;en&quot;</td><td>&quot;All You Zombies: Bringing &#x27;Pre…</td><td>2.696</td><td>&quot;&quot;</td><td>&quot;Documentary&quot;</td><td>&quot;&quot;</td><td>&quot;English&quot;</td><td>&quot;Sarah Snook, Steven Boyle, Wen…</td><td>&quot;&quot;</td><td>&quot;&quot;</td><td>&quot;&quot;</td><td>&quot;&quot;</td><td>&quot;&quot;</td><td>6.4</td><td>13.0</td><td>&quot;/uD2S0EPfoQFjdUr6IjAamEURsPJ.j…</td></tr><tr><td>843242</td><td>&quot;Predestination&quot;</td><td>0.0</td><td>0.0</td><td>&quot;2021-06-15&quot;</td><td>8.0</td><td>&quot;tt14880696&quot;</td><td>&quot;he&quot;</td><td>&quot;Predestination&quot;</td><td>0.6</td><td>&quot;&quot;</td><td>&quot;Science Fiction, Drama, Romanc…</td><td>&quot;&quot;</td><td>&quot;&quot;</td><td>&quot;Constantin Sosman, Gabriel Szt…</td><td>&quot;Gabriel Sztabinski&quot;</td><td>&quot;Constantin Sosman&quot;</td><td>&quot;&quot;</td><td>&quot;Alexandra Kudian&quot;</td><td>&quot;&quot;</td><td>null</td><td>null</td><td>&quot;/yO0wyv7FltDUkqrJynGystiJ2GY.j…</td></tr></tbody></table></div>"
            ]
          },
          "metadata": {},
          "execution_count": 112
        }
      ]
    },
    {
      "cell_type": "code",
      "source": [
        "def get_user_liked_movies(df, movies_info_dict:list[dict], ):\n",
        "    user_like_movie_ids = []\n",
        "    for movie in movies_info_dict:\n",
        "        title= movie.get(\"title\", None)\n",
        "        release_year = movie.get(\"release_year\", None)\n",
        "        genre = movie.get(\"genre\", None)\n",
        "        director = movie.get( \"director\", None)\n",
        "        new_df = serach_movie_name(df, title=title, year=released_yeaer, genre=genre, director=director)\n",
        "        if not new_df.is_empty():\n",
        "            user_like_movie_ids.append(new_df.get_column(\"id\").to_list()[0])\n",
        "    return user_like_movie_ids\n",
        ""
      ],
      "metadata": {
        "id": "9rPEuhLG2Cmv"
      },
      "execution_count": 127,
      "outputs": []
    },
    {
      "cell_type": "code",
      "source": [
        "USER_1_FOVORITE_GENRE = [\n",
        "    \"Romance\", \"Thriller\", \"Science Fiction\", \"Mystery\"\n",
        "]\n",
        "\n",
        "USER_1_FAVORITE_MOVIES = [\n",
        "    {\n",
        "        \"title\": \"Titanic\",\n",
        "        \"release_year\": 1997,\n",
        "        \"director\": \"James Cameron\"\n",
        "    },\n",
        "    {\n",
        "        \"title\": \"Avatar\",\n",
        "        \"release_year\": 2009,\n",
        "        \"director\": \"James Cameron\"\n",
        "    },\n",
        "    {\n",
        "        \"title\": \"The Dark Knight\",\n",
        "        \"release_year\": 2008,\n",
        "        \"director\": \"Christopher Nolan\"\n",
        "    },\n",
        "    {\n",
        "        \"title\": \"The Invisible Guest\",\n",
        "        \"release_year\": 2017,\n",
        "        \"director\": \"Oriol Paulo\"\n",
        "    },\n",
        "    {\n",
        "        \"title\": \"Predestination\",\n",
        "        \"release_year\": 2014,\n",
        "        \"director\": \"Michael Spierig\"\n",
        "    }\n",
        "]\n",
        "\n",
        "USER_1_LIKED_MOVIES = get_user_liked_movies(df,USER_1_FAVORITE_MOVIES)\n",
        "USER_1_LIKED_MOVIES"
      ],
      "metadata": {
        "colab": {
          "base_uri": "https://localhost:8080/"
        },
        "id": "OqVbEHepwACE",
        "outputId": "7454632e-bf64-4337-9e26-00f934ae5aae"
      },
      "execution_count": 129,
      "outputs": [
        {
          "output_type": "execute_result",
          "data": {
            "text/plain": [
              "[597, 19995, 155, 411088, 206487]"
            ]
          },
          "metadata": {},
          "execution_count": 129
        }
      ]
    }
  ]
}