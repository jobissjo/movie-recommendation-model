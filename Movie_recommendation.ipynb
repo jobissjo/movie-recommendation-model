{
  "nbformat": 4,
  "nbformat_minor": 0,
  "metadata": {
    "colab": {
      "provenance": [],
      "authorship_tag": "ABX9TyPa8XspVLSnfK1czfxk8jbJ",
      "include_colab_link": true
    },
    "kernelspec": {
      "name": "python3",
      "display_name": "Python 3"
    },
    "language_info": {
      "name": "python"
    }
  },
  "cells": [
    {
      "cell_type": "markdown",
      "metadata": {
        "id": "view-in-github",
        "colab_type": "text"
      },
      "source": [
        "<a href=\"https://colab.research.google.com/github/jobissjo/movie-recommendation-model/blob/main/Movie_recommendation.ipynb\" target=\"_parent\"><img src=\"https://colab.research.google.com/assets/colab-badge.svg\" alt=\"Open In Colab\"/></a>"
      ]
    },
    {
      "cell_type": "markdown",
      "source": [
        "# Movie Recommendation"
      ],
      "metadata": {
        "id": "3VKl8hlojtlS"
      }
    },
    {
      "cell_type": "markdown",
      "source": [
        "# Mount a Drive"
      ],
      "metadata": {
        "id": "WgMsFRmQFNCP"
      }
    },
    {
      "cell_type": "code",
      "source": [
        "from google.colab import drive\n",
        "drive.mount('/content/drive')"
      ],
      "metadata": {
        "colab": {
          "base_uri": "https://localhost:8080/"
        },
        "id": "vLJolt_AklG_",
        "outputId": "85cd3813-e4c4-4140-ac46-28439c922cdd"
      },
      "execution_count": 2,
      "outputs": [
        {
          "output_type": "stream",
          "name": "stdout",
          "text": [
            "Mounted at /content/drive\n"
          ]
        }
      ]
    },
    {
      "cell_type": "code",
      "source": [
        "import polars as pl\n",
        "import cupy as cp\n",
        "import plotly.express as px\n",
        "import plotly.graph_objects as go"
      ],
      "metadata": {
        "id": "sq-tEWpd4mp0"
      },
      "execution_count": 4,
      "outputs": []
    },
    {
      "cell_type": "code",
      "source": [
        "dataset_path = \"/content/drive/MyDrive/Datasets/TMDB_all_movies.csv\""
      ],
      "metadata": {
        "id": "w00ZVJEI4ok4"
      },
      "execution_count": 5,
      "outputs": []
    },
    {
      "cell_type": "code",
      "source": [
        "df = pl.read_csv(dataset_path)"
      ],
      "metadata": {
        "id": "DyPY4xqq41SF"
      },
      "execution_count": 6,
      "outputs": []
    },
    {
      "cell_type": "code",
      "source": [
        "df"
      ],
      "metadata": {
        "colab": {
          "base_uri": "https://localhost:8080/",
          "height": 983
        },
        "id": "l0HMTCxu4-t1",
        "outputId": "cd8a4733-e595-4825-96d0-ffcc6b9a7bd4"
      },
      "execution_count": 7,
      "outputs": [
        {
          "output_type": "execute_result",
          "data": {
            "text/plain": [
              "shape: (1_047_578, 28)\n",
              "┌─────────┬────────────┬───────────┬───────────┬───┬───────────┬───────────┬───────────┬───────────┐\n",
              "│ id      ┆ title      ┆ vote_aver ┆ vote_coun ┆ … ┆ music_com ┆ imdb_rati ┆ imdb_vote ┆ poster_pa │\n",
              "│ ---     ┆ ---        ┆ age       ┆ t         ┆   ┆ poser     ┆ ng        ┆ s         ┆ th        │\n",
              "│ i64     ┆ str        ┆ ---       ┆ ---       ┆   ┆ ---       ┆ ---       ┆ ---       ┆ ---       │\n",
              "│         ┆            ┆ f64       ┆ f64       ┆   ┆ str       ┆ f64       ┆ f64       ┆ str       │\n",
              "╞═════════╪════════════╪═══════════╪═══════════╪═══╪═══════════╪═══════════╪═══════════╪═══════════╡\n",
              "│ 2       ┆ Ariel      ┆ 7.1       ┆ 339.0     ┆ … ┆           ┆ 7.4       ┆ 8924.0    ┆ /ojDg0PGv │\n",
              "│         ┆            ┆           ┆           ┆   ┆           ┆           ┆           ┆ s6R9xYFod │\n",
              "│         ┆            ┆           ┆           ┆   ┆           ┆           ┆           ┆ Rct2kdI6w │\n",
              "│         ┆            ┆           ┆           ┆   ┆           ┆           ┆           ┆ C.j…      │\n",
              "│ 3       ┆ Shadows in ┆ 7.3       ┆ 402.0     ┆ … ┆           ┆ 7.5       ┆ 7704.0    ┆ /nj01hspa │\n",
              "│         ┆ Paradise   ┆           ┆           ┆   ┆           ┆           ┆           ┆ wPof0mJml │\n",
              "│         ┆            ┆           ┆           ┆   ┆           ┆           ┆           ┆ gfjuLyJuR │\n",
              "│         ┆            ┆           ┆           ┆   ┆           ┆           ┆           ┆ N.j…      │\n",
              "│ 5       ┆ Four Rooms ┆ 5.9       ┆ 2656.0    ┆ … ┆ Combustib ┆ 6.7       ┆ 113283.0  ┆ /pyCk5Jgt │\n",
              "│         ┆            ┆           ┆           ┆   ┆ le Edison ┆           ┆           ┆ RZwRxnXwf │\n",
              "│         ┆            ┆           ┆           ┆   ┆           ┆           ┆           ┆ rvyzukaKu │\n",
              "│         ┆            ┆           ┆           ┆   ┆           ┆           ┆           ┆ e.j…      │\n",
              "│ 6       ┆ Judgment   ┆ 6.5       ┆ 333.0     ┆ … ┆ Alan      ┆ 6.6       ┆ 19556.0   ┆ /3rvvpS9Y │\n",
              "│         ┆ Night      ┆           ┆           ┆   ┆ Silvestri ┆           ┆           ┆ PM5HB2f4H │\n",
              "│         ┆            ┆           ┆           ┆   ┆           ┆           ┆           ┆ YiNiJVtda │\n",
              "│         ┆            ┆           ┆           ┆   ┆           ┆           ┆           ┆ m.j…      │\n",
              "│ 8       ┆ Life in    ┆ 7.5       ┆ 27.0      ┆ … ┆           ┆ 8.2       ┆ 284.0     ┆ /7ln81BRn │\n",
              "│         ┆ Loops (A   ┆           ┆           ┆   ┆           ┆           ┆           ┆ PR2wqxuIT │\n",
              "│         ┆ Megacities ┆           ┆           ┆   ┆           ┆           ┆           ┆ ZxEciCe1l │\n",
              "│         ┆ RM…        ┆           ┆           ┆   ┆           ┆           ┆           ┆ c.j…      │\n",
              "│ …       ┆ …          ┆ …         ┆ …         ┆ … ┆ …         ┆ …         ┆ …         ┆ …         │\n",
              "│ 1424495 ┆ Sven       ┆ 0.0       ┆ 0.0       ┆ … ┆           ┆ null      ┆ null      ┆           │\n",
              "│ 1424496 ┆ Un fil à   ┆ 0.0       ┆ 0.0       ┆ … ┆           ┆ null      ┆ null      ┆           │\n",
              "│         ┆ la patte   ┆           ┆           ┆   ┆           ┆           ┆           ┆           │\n",
              "│ 1424497 ┆ Keine Spur ┆ 0.0       ┆ 0.0       ┆ … ┆           ┆ null      ┆ null      ┆           │\n",
              "│         ┆ von        ┆           ┆           ┆   ┆           ┆           ┆           ┆           │\n",
              "│         ┆ jemandem,  ┆           ┆           ┆   ┆           ┆           ┆           ┆           │\n",
              "│         ┆ der f…     ┆           ┆           ┆   ┆           ┆           ┆           ┆           │\n",
              "│ 2662126 ┆            ┆ null      ┆ null      ┆ … ┆           ┆ null      ┆ null      ┆           │\n",
              "│ 5180730 ┆            ┆ null      ┆ null      ┆ … ┆ Dario Mar ┆ null      ┆ null      ┆           │\n",
              "│         ┆            ┆           ┆           ┆   ┆ ianelli   ┆           ┆           ┆           │\n",
              "└─────────┴────────────┴───────────┴───────────┴───┴───────────┴───────────┴───────────┴───────────┘"
            ],
            "text/html": [
              "<div><style>\n",
              ".dataframe > thead > tr,\n",
              ".dataframe > tbody > tr {\n",
              "  text-align: right;\n",
              "  white-space: pre-wrap;\n",
              "}\n",
              "</style>\n",
              "<small>shape: (1_047_578, 28)</small><table border=\"1\" class=\"dataframe\"><thead><tr><th>id</th><th>title</th><th>vote_average</th><th>vote_count</th><th>status</th><th>release_date</th><th>revenue</th><th>runtime</th><th>budget</th><th>imdb_id</th><th>original_language</th><th>original_title</th><th>overview</th><th>popularity</th><th>tagline</th><th>genres</th><th>production_companies</th><th>production_countries</th><th>spoken_languages</th><th>cast</th><th>director</th><th>director_of_photography</th><th>writers</th><th>producers</th><th>music_composer</th><th>imdb_rating</th><th>imdb_votes</th><th>poster_path</th></tr><tr><td>i64</td><td>str</td><td>f64</td><td>f64</td><td>str</td><td>str</td><td>f64</td><td>f64</td><td>f64</td><td>str</td><td>str</td><td>str</td><td>str</td><td>f64</td><td>str</td><td>str</td><td>str</td><td>str</td><td>str</td><td>str</td><td>str</td><td>str</td><td>str</td><td>str</td><td>str</td><td>f64</td><td>f64</td><td>str</td></tr></thead><tbody><tr><td>2</td><td>&quot;Ariel&quot;</td><td>7.1</td><td>339.0</td><td>&quot;Released&quot;</td><td>&quot;1988-10-21&quot;</td><td>0.0</td><td>73.0</td><td>0.0</td><td>&quot;tt0094675&quot;</td><td>&quot;fi&quot;</td><td>&quot;Ariel&quot;</td><td>&quot;A Finnish man goes to the city…</td><td>10.454</td><td>&quot;&quot;</td><td>&quot;Comedy, Drama, Romance, Crime&quot;</td><td>&quot;Villealfa Filmproductions&quot;</td><td>&quot;Finland&quot;</td><td>&quot;suomi&quot;</td><td>&quot;Jyrki Olsonen, Pentti Auer, Es…</td><td>&quot;Aki Kaurismäki&quot;</td><td>&quot;Timo Salminen&quot;</td><td>&quot;Aki Kaurismäki&quot;</td><td>&quot;Aki Kaurismäki&quot;</td><td>&quot;&quot;</td><td>7.4</td><td>8924.0</td><td>&quot;/ojDg0PGvs6R9xYFodRct2kdI6wC.j…</td></tr><tr><td>3</td><td>&quot;Shadows in Paradise&quot;</td><td>7.3</td><td>402.0</td><td>&quot;Released&quot;</td><td>&quot;1986-10-17&quot;</td><td>0.0</td><td>74.0</td><td>0.0</td><td>&quot;tt0092149&quot;</td><td>&quot;fi&quot;</td><td>&quot;Varjoja paratiisissa&quot;</td><td>&quot;Nikander, a rubbish collector …</td><td>16.411</td><td>&quot;&quot;</td><td>&quot;Comedy, Drama, Romance&quot;</td><td>&quot;Villealfa Filmproductions&quot;</td><td>&quot;Finland&quot;</td><td>&quot;suomi, English, svenska&quot;</td><td>&quot;Sirkka Silin, Helmeri Pellonpä…</td><td>&quot;Aki Kaurismäki&quot;</td><td>&quot;Timo Salminen&quot;</td><td>&quot;Aki Kaurismäki&quot;</td><td>&quot;Mika Kaurismäki&quot;</td><td>&quot;&quot;</td><td>7.5</td><td>7704.0</td><td>&quot;/nj01hspawPof0mJmlgfjuLyJuRN.j…</td></tr><tr><td>5</td><td>&quot;Four Rooms&quot;</td><td>5.9</td><td>2656.0</td><td>&quot;Released&quot;</td><td>&quot;1995-12-09&quot;</td><td>4.257354e6</td><td>98.0</td><td>4e6</td><td>&quot;tt0113101&quot;</td><td>&quot;en&quot;</td><td>&quot;Four Rooms&quot;</td><td>&quot;It&#x27;s Ted the Bellhop&#x27;s first n…</td><td>18.777</td><td>&quot;Twelve outrageous guests. Four…</td><td>&quot;Comedy&quot;</td><td>&quot;Miramax, A Band Apart&quot;</td><td>&quot;United States of America&quot;</td><td>&quot;English&quot;</td><td>&quot;Salma Hayek Pinault, Unruly Ju…</td><td>&quot;Quentin Tarantino, Robert Rodr…</td><td>&quot;Andrzej Sekula, Phil Parmet, G…</td><td>&quot;Quentin Tarantino, Robert Rodr…</td><td>&quot;Quentin Tarantino, Alexandre R…</td><td>&quot;Combustible Edison&quot;</td><td>6.7</td><td>113283.0</td><td>&quot;/pyCk5JgtRZwRxnXwfrvyzukaKue.j…</td></tr><tr><td>6</td><td>&quot;Judgment Night&quot;</td><td>6.5</td><td>333.0</td><td>&quot;Released&quot;</td><td>&quot;1993-10-15&quot;</td><td>1.2136938e7</td><td>109.0</td><td>2.1e7</td><td>&quot;tt0107286&quot;</td><td>&quot;en&quot;</td><td>&quot;Judgment Night&quot;</td><td>&quot;Four young friends, while taki…</td><td>12.11</td><td>&quot;Don&#x27;t move. Don&#x27;t whisper. Don…</td><td>&quot;Action, Crime, Thriller&quot;</td><td>&quot;Largo Entertainment, JVC, Univ…</td><td>&quot;United States of America&quot;</td><td>&quot;English&quot;</td><td>&quot;Stephen Dorff, Everlast, Will …</td><td>&quot;Stephen Hopkins&quot;</td><td>&quot;Peter Levy&quot;</td><td>&quot;Jere Cunningham, Lewis Colick&quot;</td><td>&quot;Gene Levy, Marilyn Vance, Lloy…</td><td>&quot;Alan Silvestri&quot;</td><td>6.6</td><td>19556.0</td><td>&quot;/3rvvpS9YPM5HB2f4HYiNiJVtdam.j…</td></tr><tr><td>8</td><td>&quot;Life in Loops (A Megacities RM…</td><td>7.5</td><td>27.0</td><td>&quot;Released&quot;</td><td>&quot;2006-01-01&quot;</td><td>0.0</td><td>80.0</td><td>42000.0</td><td>&quot;tt0825671&quot;</td><td>&quot;en&quot;</td><td>&quot;Life in Loops (A Megacities RM…</td><td>&quot;Timo Novotny labels his new pr…</td><td>3.203</td><td>&quot;A Megacities remix.&quot;</td><td>&quot;Documentary&quot;</td><td>&quot;inLoops&quot;</td><td>&quot;Austria&quot;</td><td>&quot;English, हिन्दी, 日本語, Pусский,…</td><td>&quot;&quot;</td><td>&quot;Timo Novotny&quot;</td><td>&quot;Wolfgang Thaler&quot;</td><td>&quot;Michael Glawogger, Timo Novotn…</td><td>&quot;Ulrich Gehmacher, Timo Novotny&quot;</td><td>&quot;&quot;</td><td>8.2</td><td>284.0</td><td>&quot;/7ln81BRnPR2wqxuITZxEciCe1lc.j…</td></tr><tr><td>&hellip;</td><td>&hellip;</td><td>&hellip;</td><td>&hellip;</td><td>&hellip;</td><td>&hellip;</td><td>&hellip;</td><td>&hellip;</td><td>&hellip;</td><td>&hellip;</td><td>&hellip;</td><td>&hellip;</td><td>&hellip;</td><td>&hellip;</td><td>&hellip;</td><td>&hellip;</td><td>&hellip;</td><td>&hellip;</td><td>&hellip;</td><td>&hellip;</td><td>&hellip;</td><td>&hellip;</td><td>&hellip;</td><td>&hellip;</td><td>&hellip;</td><td>&hellip;</td><td>&hellip;</td><td>&hellip;</td></tr><tr><td>1424495</td><td>&quot;Sven&quot;</td><td>0.0</td><td>0.0</td><td>&quot;Released&quot;</td><td>&quot;&quot;</td><td>0.0</td><td>16.0</td><td>0.0</td><td>&quot;&quot;</td><td>&quot;en&quot;</td><td>&quot;Sven&quot;</td><td>&quot;Sven is just a simple, small t…</td><td>0.0</td><td>&quot;A story about a simple, small …</td><td>&quot;&quot;</td><td>&quot;&quot;</td><td>&quot;&quot;</td><td>&quot;&quot;</td><td>&quot;&quot;</td><td>&quot;&quot;</td><td>&quot;&quot;</td><td>&quot;&quot;</td><td>&quot;&quot;</td><td>&quot;&quot;</td><td>null</td><td>null</td><td>&quot;&quot;</td></tr><tr><td>1424496</td><td>&quot;Un fil à la patte&quot;</td><td>0.0</td><td>0.0</td><td>&quot;Released&quot;</td><td>&quot;&quot;</td><td>0.0</td><td>0.0</td><td>0.0</td><td>&quot;tt0207808&quot;</td><td>&quot;pl&quot;</td><td>&quot;Un fil à la patte&quot;</td><td>&quot;&quot;</td><td>0.0</td><td>&quot;&quot;</td><td>&quot;&quot;</td><td>&quot;&quot;</td><td>&quot;&quot;</td><td>&quot;&quot;</td><td>&quot;&quot;</td><td>&quot;&quot;</td><td>&quot;&quot;</td><td>&quot;&quot;</td><td>&quot;&quot;</td><td>&quot;&quot;</td><td>null</td><td>null</td><td>&quot;&quot;</td></tr><tr><td>1424497</td><td>&quot;Keine Spur von jemandem, der f…</td><td>0.0</td><td>0.0</td><td>&quot;Released&quot;</td><td>&quot;&quot;</td><td>0.0</td><td>0.0</td><td>0.0</td><td>&quot;tt35198826&quot;</td><td>&quot;de&quot;</td><td>&quot;Keine Spur von jemandem, der f…</td><td>&quot;&quot;</td><td>0.0</td><td>&quot;&quot;</td><td>&quot;&quot;</td><td>&quot;&quot;</td><td>&quot;&quot;</td><td>&quot;&quot;</td><td>&quot;&quot;</td><td>&quot;&quot;</td><td>&quot;&quot;</td><td>&quot;&quot;</td><td>&quot;&quot;</td><td>&quot;&quot;</td><td>null</td><td>null</td><td>&quot;&quot;</td></tr><tr><td>2662126</td><td>&quot;&quot;</td><td>null</td><td>null</td><td>&quot;&quot;</td><td>&quot;&quot;</td><td>null</td><td>null</td><td>null</td><td>&quot;&quot;</td><td>&quot;&quot;</td><td>&quot;&quot;</td><td>&quot;&quot;</td><td>null</td><td>&quot;&quot;</td><td>&quot;&quot;</td><td>&quot;&quot;</td><td>&quot;&quot;</td><td>&quot;&quot;</td><td>&quot;Johannes Allmayer, Jules Warin…</td><td>&quot;Florian Gallenberger&quot;</td><td>&quot;Kolja Brandt&quot;</td><td>&quot;Florian Gallenberger, Torsten …</td><td>&quot;Nicolas Steil, Benjamin Herrma…</td><td>&quot;&quot;</td><td>null</td><td>null</td><td>&quot;&quot;</td></tr><tr><td>5180730</td><td>&quot;&quot;</td><td>null</td><td>null</td><td>&quot;&quot;</td><td>&quot;&quot;</td><td>null</td><td>null</td><td>null</td><td>&quot;&quot;</td><td>&quot;&quot;</td><td>&quot;&quot;</td><td>&quot;&quot;</td><td>null</td><td>&quot;&quot;</td><td>&quot;&quot;</td><td>&quot;&quot;</td><td>&quot;&quot;</td><td>&quot;&quot;</td><td>&quot;Hailee Steinfeld, Tim Martin G…</td><td>&quot;Travis Knight&quot;</td><td>&quot;Enrique Chediak&quot;</td><td>&quot;Christina Hodson, Shoji Kawamo…</td><td>&quot;Chris Brigham, Stephen Davis, …</td><td>&quot;Dario Marianelli&quot;</td><td>null</td><td>null</td><td>&quot;&quot;</td></tr></tbody></table></div>"
            ]
          },
          "metadata": {},
          "execution_count": 7
        }
      ]
    },
    {
      "cell_type": "code",
      "source": [
        "df.columns"
      ],
      "metadata": {
        "colab": {
          "base_uri": "https://localhost:8080/"
        },
        "id": "whST43nh5A9l",
        "outputId": "e963286d-ff12-45b7-f708-73c5a5441f06"
      },
      "execution_count": 8,
      "outputs": [
        {
          "output_type": "execute_result",
          "data": {
            "text/plain": [
              "['id',\n",
              " 'title',\n",
              " 'vote_average',\n",
              " 'vote_count',\n",
              " 'status',\n",
              " 'release_date',\n",
              " 'revenue',\n",
              " 'runtime',\n",
              " 'budget',\n",
              " 'imdb_id',\n",
              " 'original_language',\n",
              " 'original_title',\n",
              " 'overview',\n",
              " 'popularity',\n",
              " 'tagline',\n",
              " 'genres',\n",
              " 'production_companies',\n",
              " 'production_countries',\n",
              " 'spoken_languages',\n",
              " 'cast',\n",
              " 'director',\n",
              " 'director_of_photography',\n",
              " 'writers',\n",
              " 'producers',\n",
              " 'music_composer',\n",
              " 'imdb_rating',\n",
              " 'imdb_votes',\n",
              " 'poster_path']"
            ]
          },
          "metadata": {},
          "execution_count": 8
        }
      ]
    },
    {
      "cell_type": "code",
      "source": [
        "# not required fields -- production_companies, budget, revenue, overview"
      ],
      "metadata": {
        "id": "BRZp9l1M5R6R"
      },
      "execution_count": 9,
      "outputs": []
    },
    {
      "cell_type": "code",
      "source": [
        "df = df.drop([\"production_companies\", \"budget\", \"revenue\", \"overview\"])"
      ],
      "metadata": {
        "id": "YqA0VEgc6H_1"
      },
      "execution_count": 10,
      "outputs": []
    },
    {
      "cell_type": "code",
      "source": [
        "# For recommendation only need released movies\n",
        "df = df.filter(pl.col(\"status\") == \"Released\")"
      ],
      "metadata": {
        "id": "VOXUjgCq6KVe"
      },
      "execution_count": 11,
      "outputs": []
    },
    {
      "cell_type": "code",
      "source": [
        "df = df.drop(\"status\")"
      ],
      "metadata": {
        "id": "1l52cWAj6uR5"
      },
      "execution_count": 12,
      "outputs": []
    },
    {
      "cell_type": "code",
      "source": [
        "# I Mostly Rely on genre based movie recommendation system, so no needed movie if do no have a genres\n",
        "df = df.drop_nulls(\"genres\")\n",
        "df = df.filter(pl.col(\"genres\") != \"\")\n",
        "df"
      ],
      "metadata": {
        "colab": {
          "base_uri": "https://localhost:8080/",
          "height": 931
        },
        "id": "jMnt_FrP6djL",
        "outputId": "dec2d7b4-bb99-49ea-9b4a-3e805fb97111"
      },
      "execution_count": 13,
      "outputs": [
        {
          "output_type": "execute_result",
          "data": {
            "text/plain": [
              "shape: (1_029_875, 23)\n",
              "┌─────────┬────────────┬───────────┬───────────┬───┬───────────┬───────────┬───────────┬───────────┐\n",
              "│ id      ┆ title      ┆ vote_aver ┆ vote_coun ┆ … ┆ music_com ┆ imdb_rati ┆ imdb_vote ┆ poster_pa │\n",
              "│ ---     ┆ ---        ┆ age       ┆ t         ┆   ┆ poser     ┆ ng        ┆ s         ┆ th        │\n",
              "│ i64     ┆ str        ┆ ---       ┆ ---       ┆   ┆ ---       ┆ ---       ┆ ---       ┆ ---       │\n",
              "│         ┆            ┆ f64       ┆ f64       ┆   ┆ str       ┆ f64       ┆ f64       ┆ str       │\n",
              "╞═════════╪════════════╪═══════════╪═══════════╪═══╪═══════════╪═══════════╪═══════════╪═══════════╡\n",
              "│ 2       ┆ Ariel      ┆ 7.1       ┆ 339.0     ┆ … ┆           ┆ 7.4       ┆ 8924.0    ┆ /ojDg0PGv │\n",
              "│         ┆            ┆           ┆           ┆   ┆           ┆           ┆           ┆ s6R9xYFod │\n",
              "│         ┆            ┆           ┆           ┆   ┆           ┆           ┆           ┆ Rct2kdI6w │\n",
              "│         ┆            ┆           ┆           ┆   ┆           ┆           ┆           ┆ C.j…      │\n",
              "│ 3       ┆ Shadows in ┆ 7.3       ┆ 402.0     ┆ … ┆           ┆ 7.5       ┆ 7704.0    ┆ /nj01hspa │\n",
              "│         ┆ Paradise   ┆           ┆           ┆   ┆           ┆           ┆           ┆ wPof0mJml │\n",
              "│         ┆            ┆           ┆           ┆   ┆           ┆           ┆           ┆ gfjuLyJuR │\n",
              "│         ┆            ┆           ┆           ┆   ┆           ┆           ┆           ┆ N.j…      │\n",
              "│ 5       ┆ Four Rooms ┆ 5.9       ┆ 2656.0    ┆ … ┆ Combustib ┆ 6.7       ┆ 113283.0  ┆ /pyCk5Jgt │\n",
              "│         ┆            ┆           ┆           ┆   ┆ le Edison ┆           ┆           ┆ RZwRxnXwf │\n",
              "│         ┆            ┆           ┆           ┆   ┆           ┆           ┆           ┆ rvyzukaKu │\n",
              "│         ┆            ┆           ┆           ┆   ┆           ┆           ┆           ┆ e.j…      │\n",
              "│ 6       ┆ Judgment   ┆ 6.5       ┆ 333.0     ┆ … ┆ Alan      ┆ 6.6       ┆ 19556.0   ┆ /3rvvpS9Y │\n",
              "│         ┆ Night      ┆           ┆           ┆   ┆ Silvestri ┆           ┆           ┆ PM5HB2f4H │\n",
              "│         ┆            ┆           ┆           ┆   ┆           ┆           ┆           ┆ YiNiJVtda │\n",
              "│         ┆            ┆           ┆           ┆   ┆           ┆           ┆           ┆ m.j…      │\n",
              "│ 8       ┆ Life in    ┆ 7.5       ┆ 27.0      ┆ … ┆           ┆ 8.2       ┆ 284.0     ┆ /7ln81BRn │\n",
              "│         ┆ Loops (A   ┆           ┆           ┆   ┆           ┆           ┆           ┆ PR2wqxuIT │\n",
              "│         ┆ Megacities ┆           ┆           ┆   ┆           ┆           ┆           ┆ ZxEciCe1l │\n",
              "│         ┆ RM…        ┆           ┆           ┆   ┆           ┆           ┆           ┆ c.j…      │\n",
              "│ …       ┆ …          ┆ …         ┆ …         ┆ … ┆ …         ┆ …         ┆ …         ┆ …         │\n",
              "│ 1424492 ┆ NERDESIN   ┆ 0.0       ┆ 0.0       ┆ … ┆           ┆ null      ┆ null      ┆           │\n",
              "│         ┆ PEDRO      ┆           ┆           ┆   ┆           ┆           ┆           ┆           │\n",
              "│         ┆ PASCAL     ┆           ┆           ┆   ┆           ┆           ┆           ┆           │\n",
              "│ 1424493 ┆ First Day  ┆ 0.0       ┆ 0.0       ┆ … ┆           ┆ null      ┆ null      ┆           │\n",
              "│         ┆ of School  ┆           ┆           ┆   ┆           ┆           ┆           ┆           │\n",
              "│ 1424495 ┆ Sven       ┆ 0.0       ┆ 0.0       ┆ … ┆           ┆ null      ┆ null      ┆           │\n",
              "│ 1424496 ┆ Un fil à   ┆ 0.0       ┆ 0.0       ┆ … ┆           ┆ null      ┆ null      ┆           │\n",
              "│         ┆ la patte   ┆           ┆           ┆   ┆           ┆           ┆           ┆           │\n",
              "│ 1424497 ┆ Keine Spur ┆ 0.0       ┆ 0.0       ┆ … ┆           ┆ null      ┆ null      ┆           │\n",
              "│         ┆ von        ┆           ┆           ┆   ┆           ┆           ┆           ┆           │\n",
              "│         ┆ jemandem,  ┆           ┆           ┆   ┆           ┆           ┆           ┆           │\n",
              "│         ┆ der f…     ┆           ┆           ┆   ┆           ┆           ┆           ┆           │\n",
              "└─────────┴────────────┴───────────┴───────────┴───┴───────────┴───────────┴───────────┴───────────┘"
            ],
            "text/html": [
              "<div><style>\n",
              ".dataframe > thead > tr,\n",
              ".dataframe > tbody > tr {\n",
              "  text-align: right;\n",
              "  white-space: pre-wrap;\n",
              "}\n",
              "</style>\n",
              "<small>shape: (1_029_875, 23)</small><table border=\"1\" class=\"dataframe\"><thead><tr><th>id</th><th>title</th><th>vote_average</th><th>vote_count</th><th>release_date</th><th>runtime</th><th>imdb_id</th><th>original_language</th><th>original_title</th><th>popularity</th><th>tagline</th><th>genres</th><th>production_countries</th><th>spoken_languages</th><th>cast</th><th>director</th><th>director_of_photography</th><th>writers</th><th>producers</th><th>music_composer</th><th>imdb_rating</th><th>imdb_votes</th><th>poster_path</th></tr><tr><td>i64</td><td>str</td><td>f64</td><td>f64</td><td>str</td><td>f64</td><td>str</td><td>str</td><td>str</td><td>f64</td><td>str</td><td>str</td><td>str</td><td>str</td><td>str</td><td>str</td><td>str</td><td>str</td><td>str</td><td>str</td><td>f64</td><td>f64</td><td>str</td></tr></thead><tbody><tr><td>2</td><td>&quot;Ariel&quot;</td><td>7.1</td><td>339.0</td><td>&quot;1988-10-21&quot;</td><td>73.0</td><td>&quot;tt0094675&quot;</td><td>&quot;fi&quot;</td><td>&quot;Ariel&quot;</td><td>10.454</td><td>&quot;&quot;</td><td>&quot;Comedy, Drama, Romance, Crime&quot;</td><td>&quot;Finland&quot;</td><td>&quot;suomi&quot;</td><td>&quot;Jyrki Olsonen, Pentti Auer, Es…</td><td>&quot;Aki Kaurismäki&quot;</td><td>&quot;Timo Salminen&quot;</td><td>&quot;Aki Kaurismäki&quot;</td><td>&quot;Aki Kaurismäki&quot;</td><td>&quot;&quot;</td><td>7.4</td><td>8924.0</td><td>&quot;/ojDg0PGvs6R9xYFodRct2kdI6wC.j…</td></tr><tr><td>3</td><td>&quot;Shadows in Paradise&quot;</td><td>7.3</td><td>402.0</td><td>&quot;1986-10-17&quot;</td><td>74.0</td><td>&quot;tt0092149&quot;</td><td>&quot;fi&quot;</td><td>&quot;Varjoja paratiisissa&quot;</td><td>16.411</td><td>&quot;&quot;</td><td>&quot;Comedy, Drama, Romance&quot;</td><td>&quot;Finland&quot;</td><td>&quot;suomi, English, svenska&quot;</td><td>&quot;Sirkka Silin, Helmeri Pellonpä…</td><td>&quot;Aki Kaurismäki&quot;</td><td>&quot;Timo Salminen&quot;</td><td>&quot;Aki Kaurismäki&quot;</td><td>&quot;Mika Kaurismäki&quot;</td><td>&quot;&quot;</td><td>7.5</td><td>7704.0</td><td>&quot;/nj01hspawPof0mJmlgfjuLyJuRN.j…</td></tr><tr><td>5</td><td>&quot;Four Rooms&quot;</td><td>5.9</td><td>2656.0</td><td>&quot;1995-12-09&quot;</td><td>98.0</td><td>&quot;tt0113101&quot;</td><td>&quot;en&quot;</td><td>&quot;Four Rooms&quot;</td><td>18.777</td><td>&quot;Twelve outrageous guests. Four…</td><td>&quot;Comedy&quot;</td><td>&quot;United States of America&quot;</td><td>&quot;English&quot;</td><td>&quot;Salma Hayek Pinault, Unruly Ju…</td><td>&quot;Quentin Tarantino, Robert Rodr…</td><td>&quot;Andrzej Sekula, Phil Parmet, G…</td><td>&quot;Quentin Tarantino, Robert Rodr…</td><td>&quot;Quentin Tarantino, Alexandre R…</td><td>&quot;Combustible Edison&quot;</td><td>6.7</td><td>113283.0</td><td>&quot;/pyCk5JgtRZwRxnXwfrvyzukaKue.j…</td></tr><tr><td>6</td><td>&quot;Judgment Night&quot;</td><td>6.5</td><td>333.0</td><td>&quot;1993-10-15&quot;</td><td>109.0</td><td>&quot;tt0107286&quot;</td><td>&quot;en&quot;</td><td>&quot;Judgment Night&quot;</td><td>12.11</td><td>&quot;Don&#x27;t move. Don&#x27;t whisper. Don…</td><td>&quot;Action, Crime, Thriller&quot;</td><td>&quot;United States of America&quot;</td><td>&quot;English&quot;</td><td>&quot;Stephen Dorff, Everlast, Will …</td><td>&quot;Stephen Hopkins&quot;</td><td>&quot;Peter Levy&quot;</td><td>&quot;Jere Cunningham, Lewis Colick&quot;</td><td>&quot;Gene Levy, Marilyn Vance, Lloy…</td><td>&quot;Alan Silvestri&quot;</td><td>6.6</td><td>19556.0</td><td>&quot;/3rvvpS9YPM5HB2f4HYiNiJVtdam.j…</td></tr><tr><td>8</td><td>&quot;Life in Loops (A Megacities RM…</td><td>7.5</td><td>27.0</td><td>&quot;2006-01-01&quot;</td><td>80.0</td><td>&quot;tt0825671&quot;</td><td>&quot;en&quot;</td><td>&quot;Life in Loops (A Megacities RM…</td><td>3.203</td><td>&quot;A Megacities remix.&quot;</td><td>&quot;Documentary&quot;</td><td>&quot;Austria&quot;</td><td>&quot;English, हिन्दी, 日本語, Pусский,…</td><td>&quot;&quot;</td><td>&quot;Timo Novotny&quot;</td><td>&quot;Wolfgang Thaler&quot;</td><td>&quot;Michael Glawogger, Timo Novotn…</td><td>&quot;Ulrich Gehmacher, Timo Novotny&quot;</td><td>&quot;&quot;</td><td>8.2</td><td>284.0</td><td>&quot;/7ln81BRnPR2wqxuITZxEciCe1lc.j…</td></tr><tr><td>&hellip;</td><td>&hellip;</td><td>&hellip;</td><td>&hellip;</td><td>&hellip;</td><td>&hellip;</td><td>&hellip;</td><td>&hellip;</td><td>&hellip;</td><td>&hellip;</td><td>&hellip;</td><td>&hellip;</td><td>&hellip;</td><td>&hellip;</td><td>&hellip;</td><td>&hellip;</td><td>&hellip;</td><td>&hellip;</td><td>&hellip;</td><td>&hellip;</td><td>&hellip;</td><td>&hellip;</td><td>&hellip;</td></tr><tr><td>1424492</td><td>&quot;NERDESIN PEDRO PASCAL&quot;</td><td>0.0</td><td>0.0</td><td>&quot;&quot;</td><td>0.0</td><td>&quot;&quot;</td><td>&quot;tr&quot;</td><td>&quot;NERDESIN PEDRO PASCAL&quot;</td><td>0.0</td><td>&quot;&quot;</td><td>&quot;&quot;</td><td>&quot;&quot;</td><td>&quot;&quot;</td><td>&quot;&quot;</td><td>&quot;&quot;</td><td>&quot;&quot;</td><td>&quot;&quot;</td><td>&quot;&quot;</td><td>&quot;&quot;</td><td>null</td><td>null</td><td>&quot;&quot;</td></tr><tr><td>1424493</td><td>&quot;First Day of School&quot;</td><td>0.0</td><td>0.0</td><td>&quot;&quot;</td><td>14.0</td><td>&quot;&quot;</td><td>&quot;en&quot;</td><td>&quot;First Day of School&quot;</td><td>0.0</td><td>&quot;&quot;</td><td>&quot;&quot;</td><td>&quot;&quot;</td><td>&quot;&quot;</td><td>&quot;&quot;</td><td>&quot;&quot;</td><td>&quot;&quot;</td><td>&quot;&quot;</td><td>&quot;&quot;</td><td>&quot;&quot;</td><td>null</td><td>null</td><td>&quot;&quot;</td></tr><tr><td>1424495</td><td>&quot;Sven&quot;</td><td>0.0</td><td>0.0</td><td>&quot;&quot;</td><td>16.0</td><td>&quot;&quot;</td><td>&quot;en&quot;</td><td>&quot;Sven&quot;</td><td>0.0</td><td>&quot;A story about a simple, small …</td><td>&quot;&quot;</td><td>&quot;&quot;</td><td>&quot;&quot;</td><td>&quot;&quot;</td><td>&quot;&quot;</td><td>&quot;&quot;</td><td>&quot;&quot;</td><td>&quot;&quot;</td><td>&quot;&quot;</td><td>null</td><td>null</td><td>&quot;&quot;</td></tr><tr><td>1424496</td><td>&quot;Un fil à la patte&quot;</td><td>0.0</td><td>0.0</td><td>&quot;&quot;</td><td>0.0</td><td>&quot;tt0207808&quot;</td><td>&quot;pl&quot;</td><td>&quot;Un fil à la patte&quot;</td><td>0.0</td><td>&quot;&quot;</td><td>&quot;&quot;</td><td>&quot;&quot;</td><td>&quot;&quot;</td><td>&quot;&quot;</td><td>&quot;&quot;</td><td>&quot;&quot;</td><td>&quot;&quot;</td><td>&quot;&quot;</td><td>&quot;&quot;</td><td>null</td><td>null</td><td>&quot;&quot;</td></tr><tr><td>1424497</td><td>&quot;Keine Spur von jemandem, der f…</td><td>0.0</td><td>0.0</td><td>&quot;&quot;</td><td>0.0</td><td>&quot;tt35198826&quot;</td><td>&quot;de&quot;</td><td>&quot;Keine Spur von jemandem, der f…</td><td>0.0</td><td>&quot;&quot;</td><td>&quot;&quot;</td><td>&quot;&quot;</td><td>&quot;&quot;</td><td>&quot;&quot;</td><td>&quot;&quot;</td><td>&quot;&quot;</td><td>&quot;&quot;</td><td>&quot;&quot;</td><td>&quot;&quot;</td><td>null</td><td>null</td><td>&quot;&quot;</td></tr></tbody></table></div>"
            ]
          },
          "metadata": {},
          "execution_count": 13
        }
      ]
    },
    {
      "cell_type": "code",
      "source": [
        "unique_genres = (\n",
        "    df.select(pl.col(\"genres\").str.split(\",\"))\n",
        "    .explode(\"genres\")\n",
        "    .unique()\n",
        ")\n",
        "unique_genres"
      ],
      "metadata": {
        "colab": {
          "base_uri": "https://localhost:8080/",
          "height": 443
        },
        "id": "QtGmH3cf9Ic5",
        "outputId": "de3af673-f6fe-4c5a-fd9d-fad005464d92"
      },
      "execution_count": 34,
      "outputs": [
        {
          "output_type": "execute_result",
          "data": {
            "text/plain": [
              "shape: (38, 1)\n",
              "┌──────────────┐\n",
              "│ genres       │\n",
              "│ ---          │\n",
              "│ str          │\n",
              "╞══════════════╡\n",
              "│ Comedy       │\n",
              "│  Comedy      │\n",
              "│ Adventure    │\n",
              "│  Crime       │\n",
              "│  Action      │\n",
              "│ …            │\n",
              "│ Action       │\n",
              "│ Western      │\n",
              "│ Thriller     │\n",
              "│  Documentary │\n",
              "│  Horror      │\n",
              "└──────────────┘"
            ],
            "text/html": [
              "<div><style>\n",
              ".dataframe > thead > tr,\n",
              ".dataframe > tbody > tr {\n",
              "  text-align: right;\n",
              "  white-space: pre-wrap;\n",
              "}\n",
              "</style>\n",
              "<small>shape: (38, 1)</small><table border=\"1\" class=\"dataframe\"><thead><tr><th>genres</th></tr><tr><td>str</td></tr></thead><tbody><tr><td>&quot;Comedy&quot;</td></tr><tr><td>&quot; Comedy&quot;</td></tr><tr><td>&quot;Adventure&quot;</td></tr><tr><td>&quot; Crime&quot;</td></tr><tr><td>&quot; Action&quot;</td></tr><tr><td>&hellip;</td></tr><tr><td>&quot;Action&quot;</td></tr><tr><td>&quot;Western&quot;</td></tr><tr><td>&quot;Thriller&quot;</td></tr><tr><td>&quot; Documentary&quot;</td></tr><tr><td>&quot; Horror&quot;</td></tr></tbody></table></div>"
            ]
          },
          "metadata": {},
          "execution_count": 34
        }
      ]
    },
    {
      "cell_type": "code",
      "source": [
        "unique_genres.write_csv(\"unique_genre_df.csv\")"
      ],
      "metadata": {
        "id": "lq8IxRV5Fv-p"
      },
      "execution_count": 35,
      "outputs": []
    },
    {
      "cell_type": "code",
      "source": [
        "unique_genres = (\n",
        "    df.select(pl.col(\"spoken_languages\").str.split(\",\"))\n",
        "    .explode(\"spoken_languages\")\n",
        "    .unique()\n",
        ")\n",
        "unique_genres.write_csv(\"spoken_language.csv\")"
      ],
      "metadata": {
        "id": "N6QDimObSqZc"
      },
      "execution_count": 19,
      "outputs": []
    },
    {
      "cell_type": "code",
      "source": [
        "unique_genres"
      ],
      "metadata": {
        "colab": {
          "base_uri": "https://localhost:8080/",
          "height": 443
        },
        "id": "K9MADLI_TP2u",
        "outputId": "a63a075c-aa7e-42c5-852f-fd18f71cb242"
      },
      "execution_count": 20,
      "outputs": [
        {
          "output_type": "execute_result",
          "data": {
            "text/plain": [
              "shape: (159, 1)\n",
              "┌──────────────────┐\n",
              "│ spoken_languages │\n",
              "│ ---              │\n",
              "│ str              │\n",
              "╞══════════════════╡\n",
              "│  Slovenščina     │\n",
              "│ עִבְרִית            │\n",
              "│  Norsk           │\n",
              "│  isiZulu         │\n",
              "│  日本語          │\n",
              "│ …                │\n",
              "│ Slovenščina      │\n",
              "│  Wolof           │\n",
              "│ Bokmål           │\n",
              "│ हिन्दी            │\n",
              "│ Èdè Yorùbá       │\n",
              "└──────────────────┘"
            ],
            "text/html": [
              "<div><style>\n",
              ".dataframe > thead > tr,\n",
              ".dataframe > tbody > tr {\n",
              "  text-align: right;\n",
              "  white-space: pre-wrap;\n",
              "}\n",
              "</style>\n",
              "<small>shape: (159, 1)</small><table border=\"1\" class=\"dataframe\"><thead><tr><th>spoken_languages</th></tr><tr><td>str</td></tr></thead><tbody><tr><td>&quot; Slovenščina&quot;</td></tr><tr><td>&quot;עִבְרִית&quot;</td></tr><tr><td>&quot; Norsk&quot;</td></tr><tr><td>&quot; isiZulu&quot;</td></tr><tr><td>&quot; 日本語&quot;</td></tr><tr><td>&hellip;</td></tr><tr><td>&quot;Slovenščina&quot;</td></tr><tr><td>&quot; Wolof&quot;</td></tr><tr><td>&quot;Bokmål&quot;</td></tr><tr><td>&quot;हिन्दी&quot;</td></tr><tr><td>&quot;Èdè Yorùbá&quot;</td></tr></tbody></table></div>"
            ]
          },
          "metadata": {},
          "execution_count": 20
        }
      ]
    },
    {
      "cell_type": "code",
      "source": [
        "\n",
        "unique_production_countries = (\n",
        "    df.select(pl.col(\"production_countries\").str.split(\",\"))\n",
        "    .explode(\"production_countries\")\n",
        "    .unique()\n",
        ")\n",
        "unique_production_countries.write_csv(\"spoken_production_countries.csv\")"
      ],
      "metadata": {
        "id": "7zAn_LMBTdCc"
      },
      "execution_count": 21,
      "outputs": []
    },
    {
      "cell_type": "code",
      "source": [
        "unique_production_countries"
      ],
      "metadata": {
        "id": "-V2vh4M7Tsud",
        "outputId": "18cfebe0-f963-49fa-d89b-df566af86f27",
        "colab": {
          "base_uri": "https://localhost:8080/",
          "height": 443
        }
      },
      "execution_count": 22,
      "outputs": [
        {
          "output_type": "execute_result",
          "data": {
            "text/plain": [
              "shape: (475, 1)\n",
              "┌──────────────────────┐\n",
              "│ production_countries │\n",
              "│ ---                  │\n",
              "│ str                  │\n",
              "╞══════════════════════╡\n",
              "│ Burkina Faso         │\n",
              "│  Trinidad and Tobago │\n",
              "│  Antarctica          │\n",
              "│ Cayman Islands       │\n",
              "│  Belarus             │\n",
              "│ …                    │\n",
              "│  Nauru               │\n",
              "│  Moldova             │\n",
              "│ Cyprus               │\n",
              "│  South Africa        │\n",
              "│  Antigua and Barbuda │\n",
              "└──────────────────────┘"
            ],
            "text/html": [
              "<div><style>\n",
              ".dataframe > thead > tr,\n",
              ".dataframe > tbody > tr {\n",
              "  text-align: right;\n",
              "  white-space: pre-wrap;\n",
              "}\n",
              "</style>\n",
              "<small>shape: (475, 1)</small><table border=\"1\" class=\"dataframe\"><thead><tr><th>production_countries</th></tr><tr><td>str</td></tr></thead><tbody><tr><td>&quot;Burkina Faso&quot;</td></tr><tr><td>&quot; Trinidad and Tobago&quot;</td></tr><tr><td>&quot; Antarctica&quot;</td></tr><tr><td>&quot;Cayman Islands&quot;</td></tr><tr><td>&quot; Belarus&quot;</td></tr><tr><td>&hellip;</td></tr><tr><td>&quot; Nauru&quot;</td></tr><tr><td>&quot; Moldova&quot;</td></tr><tr><td>&quot;Cyprus&quot;</td></tr><tr><td>&quot; South Africa&quot;</td></tr><tr><td>&quot; Antigua and Barbuda&quot;</td></tr></tbody></table></div>"
            ]
          },
          "metadata": {},
          "execution_count": 22
        }
      ]
    },
    {
      "cell_type": "code",
      "source": [
        "def contains_in_column(df:pl.DataFrame, column:str, value:str):\n",
        "  return df.filter(pl.col(column).str.contains(value))"
      ],
      "metadata": {
        "id": "jZPACNHetkv8"
      },
      "execution_count": 23,
      "outputs": []
    },
    {
      "cell_type": "code",
      "source": [
        "def serach_movie_name(df:pl.DataFrame, title:str,year:int=None, genre:str=None, director:str=None):\n",
        "  if title:\n",
        "    df = df.filter(pl.col(\"title\").str.contains(title))\n",
        "  if year:\n",
        "    df = df.filter(pl.col(\"release_date\").is_not_null())\n",
        "    df = df.filter(pl.col(\"release_date\") != \"\")\n",
        "    df = df.filter(pl.col(\"release_date\").str.slice(0,4).cast(pl.Int32) == year)\n",
        "  if genre:\n",
        "    df = df.filter(pl.col(\"genres\").str.contains(genre))\n",
        "  if director:\n",
        "    df = contains_in_column(df, \"director\", director)\n",
        "  return df"
      ],
      "metadata": {
        "id": "H2VaWkCAp6Xd"
      },
      "execution_count": 24,
      "outputs": []
    },
    {
      "cell_type": "code",
      "source": [
        "movie_name = \"Predestination\"\n",
        "# released_yeaer = 2017\n",
        "# genre = \"Romance\"\n",
        "# director = \"Christopher Nolan\"\n",
        "released_yeaer = None\n",
        "director = ''\n",
        "genre = ''\n",
        "serach_movie_name(df,movie_name,released_yeaer, genre,director=director)"
      ],
      "metadata": {
        "colab": {
          "base_uri": "https://localhost:8080/",
          "height": 451
        },
        "id": "NeSn1bU8o8KM",
        "outputId": "475e5d1e-f881-4360-d1a4-df32a27dfaca"
      },
      "execution_count": 25,
      "outputs": [
        {
          "output_type": "execute_result",
          "data": {
            "text/plain": [
              "shape: (4, 23)\n",
              "┌────────┬────────────┬────────────┬───────────┬───┬───────────┬───────────┬───────────┬───────────┐\n",
              "│ id     ┆ title      ┆ vote_avera ┆ vote_coun ┆ … ┆ music_com ┆ imdb_rati ┆ imdb_vote ┆ poster_pa │\n",
              "│ ---    ┆ ---        ┆ ge         ┆ t         ┆   ┆ poser     ┆ ng        ┆ s         ┆ th        │\n",
              "│ i64    ┆ str        ┆ ---        ┆ ---       ┆   ┆ ---       ┆ ---       ┆ ---       ┆ ---       │\n",
              "│        ┆            ┆ f64        ┆ f64       ┆   ┆ str       ┆ f64       ┆ f64       ┆ str       │\n",
              "╞════════╪════════════╪════════════╪═══════════╪═══╪═══════════╪═══════════╪═══════════╪═══════════╡\n",
              "│ 206487 ┆ Predestina ┆ 7.432      ┆ 6496.0    ┆ … ┆ Peter     ┆ 7.4       ┆ 318032.0  ┆ /38Xr1JnV │\n",
              "│        ┆ tion       ┆            ┆           ┆   ┆ Spierig   ┆           ┆           ┆ 1ZcLQ55zm │\n",
              "│        ┆            ┆            ┆           ┆   ┆           ┆           ┆           ┆ dSp6n475c │\n",
              "│        ┆            ┆            ┆           ┆   ┆           ┆           ┆           ┆ Z.j…      │\n",
              "│ 316782 ┆ Predestina ┆ 7.2        ┆ 7.0       ┆ … ┆           ┆ 6.4       ┆ 63.0      ┆           │\n",
              "│        ┆ tion       ┆            ┆           ┆   ┆           ┆           ┆           ┆           │\n",
              "│ 449432 ┆ All You    ┆ 7.0        ┆ 2.0       ┆ … ┆           ┆ 6.4       ┆ 13.0      ┆ /uD2S0EPf │\n",
              "│        ┆ Zombies:   ┆            ┆           ┆   ┆           ┆           ┆           ┆ oQFjdUr6I │\n",
              "│        ┆ Bringing   ┆            ┆           ┆   ┆           ┆           ┆           ┆ jAamEURsP │\n",
              "│        ┆ 'Pre…      ┆            ┆           ┆   ┆           ┆           ┆           ┆ J.j…      │\n",
              "│ 843242 ┆ Predestina ┆ 0.0        ┆ 0.0       ┆ … ┆           ┆ null      ┆ null      ┆ /yO0wyv7F │\n",
              "│        ┆ tion       ┆            ┆           ┆   ┆           ┆           ┆           ┆ ltDUkqrJy │\n",
              "│        ┆            ┆            ┆           ┆   ┆           ┆           ┆           ┆ nGystiJ2G │\n",
              "│        ┆            ┆            ┆           ┆   ┆           ┆           ┆           ┆ Y.j…      │\n",
              "└────────┴────────────┴────────────┴───────────┴───┴───────────┴───────────┴───────────┴───────────┘"
            ],
            "text/html": [
              "<div><style>\n",
              ".dataframe > thead > tr,\n",
              ".dataframe > tbody > tr {\n",
              "  text-align: right;\n",
              "  white-space: pre-wrap;\n",
              "}\n",
              "</style>\n",
              "<small>shape: (4, 23)</small><table border=\"1\" class=\"dataframe\"><thead><tr><th>id</th><th>title</th><th>vote_average</th><th>vote_count</th><th>release_date</th><th>runtime</th><th>imdb_id</th><th>original_language</th><th>original_title</th><th>popularity</th><th>tagline</th><th>genres</th><th>production_countries</th><th>spoken_languages</th><th>cast</th><th>director</th><th>director_of_photography</th><th>writers</th><th>producers</th><th>music_composer</th><th>imdb_rating</th><th>imdb_votes</th><th>poster_path</th></tr><tr><td>i64</td><td>str</td><td>f64</td><td>f64</td><td>str</td><td>f64</td><td>str</td><td>str</td><td>str</td><td>f64</td><td>str</td><td>str</td><td>str</td><td>str</td><td>str</td><td>str</td><td>str</td><td>str</td><td>str</td><td>str</td><td>f64</td><td>f64</td><td>str</td></tr></thead><tbody><tr><td>206487</td><td>&quot;Predestination&quot;</td><td>7.432</td><td>6496.0</td><td>&quot;2014-08-28&quot;</td><td>97.0</td><td>&quot;tt2397535&quot;</td><td>&quot;en&quot;</td><td>&quot;Predestination&quot;</td><td>58.701</td><td>&quot;To save the future he must res…</td><td>&quot;Science Fiction, Thriller&quot;</td><td>&quot;Australia&quot;</td><td>&quot;English&quot;</td><td>&quot;Emily Coupe, Scott Norman, Kri…</td><td>&quot;Peter Spierig, Michael Spierig&quot;</td><td>&quot;Ben Nott&quot;</td><td>&quot;Peter Spierig, Michael Spierig…</td><td>&quot;Matt Kennedy, Paddy McDonald, …</td><td>&quot;Peter Spierig&quot;</td><td>7.4</td><td>318032.0</td><td>&quot;/38Xr1JnV1ZcLQ55zmdSp6n475cZ.j…</td></tr><tr><td>316782</td><td>&quot;Predestination&quot;</td><td>7.2</td><td>7.0</td><td>&quot;2013-10-13&quot;</td><td>7.0</td><td>&quot;tt2829516&quot;</td><td>&quot;en&quot;</td><td>&quot;Predestination&quot;</td><td>0.804</td><td>&quot;&quot;</td><td>&quot;Drama&quot;</td><td>&quot;United States of America, Braz…</td><td>&quot;English&quot;</td><td>&quot;&quot;</td><td>&quot;Daniel Bean&quot;</td><td>&quot;&quot;</td><td>&quot;Daniel Bean&quot;</td><td>&quot;&quot;</td><td>&quot;&quot;</td><td>6.4</td><td>63.0</td><td>&quot;&quot;</td></tr><tr><td>449432</td><td>&quot;All You Zombies: Bringing &#x27;Pre…</td><td>7.0</td><td>2.0</td><td>&quot;2015-02-10&quot;</td><td>76.0</td><td>&quot;tt5360200&quot;</td><td>&quot;en&quot;</td><td>&quot;All You Zombies: Bringing &#x27;Pre…</td><td>2.696</td><td>&quot;&quot;</td><td>&quot;Documentary&quot;</td><td>&quot;&quot;</td><td>&quot;English&quot;</td><td>&quot;Sarah Snook, Steven Boyle, Wen…</td><td>&quot;&quot;</td><td>&quot;&quot;</td><td>&quot;&quot;</td><td>&quot;&quot;</td><td>&quot;&quot;</td><td>6.4</td><td>13.0</td><td>&quot;/uD2S0EPfoQFjdUr6IjAamEURsPJ.j…</td></tr><tr><td>843242</td><td>&quot;Predestination&quot;</td><td>0.0</td><td>0.0</td><td>&quot;2021-06-15&quot;</td><td>8.0</td><td>&quot;tt14880696&quot;</td><td>&quot;he&quot;</td><td>&quot;Predestination&quot;</td><td>0.6</td><td>&quot;&quot;</td><td>&quot;Science Fiction, Drama, Romanc…</td><td>&quot;&quot;</td><td>&quot;&quot;</td><td>&quot;Constantin Sosman, Gabriel Szt…</td><td>&quot;Gabriel Sztabinski&quot;</td><td>&quot;Constantin Sosman&quot;</td><td>&quot;&quot;</td><td>&quot;Alexandra Kudian&quot;</td><td>&quot;&quot;</td><td>null</td><td>null</td><td>&quot;/yO0wyv7FltDUkqrJynGystiJ2GY.j…</td></tr></tbody></table></div>"
            ]
          },
          "metadata": {},
          "execution_count": 25
        }
      ]
    },
    {
      "cell_type": "code",
      "source": [
        "def get_user_liked_movies(df, movies_info_dict:list[dict], ):\n",
        "    user_like_movie_ids = []\n",
        "    for movie in movies_info_dict:\n",
        "        title= movie.get(\"title\", None)\n",
        "        release_year = movie.get(\"release_year\", None)\n",
        "        genre = movie.get(\"genre\", None)\n",
        "        director = movie.get( \"director\", None)\n",
        "        new_df = serach_movie_name(df, title=title, year=released_yeaer, genre=genre, director=director)\n",
        "        if not new_df.is_empty():\n",
        "            user_like_movie_ids.append(new_df.get_column(\"id\").to_list()[0])\n",
        "    return user_like_movie_ids\n"
      ],
      "metadata": {
        "id": "9rPEuhLG2Cmv"
      },
      "execution_count": 26,
      "outputs": []
    },
    {
      "cell_type": "code",
      "source": [
        "USER_1_FOVORITE_GENRE = [\n",
        "    \"Romance\", \"Thriller\", \"Science Fiction\", \"Mystery\"\n",
        "]\n",
        "\n",
        "USER_1_FAVORITE_MOVIES = [\n",
        "    {\n",
        "        \"title\": \"Titanic\",\n",
        "        \"release_year\": 1997,\n",
        "        \"director\": \"James Cameron\"\n",
        "    },\n",
        "    {\n",
        "        \"title\": \"Avatar\",\n",
        "        \"release_year\": 2009,\n",
        "        \"director\": \"James Cameron\"\n",
        "    },\n",
        "    {\n",
        "        \"title\": \"The Dark Knight\",\n",
        "        \"release_year\": 2008,\n",
        "        \"director\": \"Christopher Nolan\"\n",
        "    },\n",
        "    {\n",
        "        \"title\": \"The Invisible Guest\",\n",
        "        \"release_year\": 2017,\n",
        "        \"director\": \"Oriol Paulo\"\n",
        "    },\n",
        "    {\n",
        "        \"title\": \"Predestination\",\n",
        "        \"release_year\": 2014,\n",
        "        \"director\": \"Michael Spierig\"\n",
        "    }\n",
        "]\n",
        "\n",
        "USER_1_LIKED_MOVIES = get_user_liked_movies(df,USER_1_FAVORITE_MOVIES)\n",
        "USER_1_LIKED_MOVIES"
      ],
      "metadata": {
        "colab": {
          "base_uri": "https://localhost:8080/"
        },
        "id": "OqVbEHepwACE",
        "outputId": "9af0e57e-f8a0-42ab-d943-8d830df9899d"
      },
      "execution_count": 27,
      "outputs": [
        {
          "output_type": "execute_result",
          "data": {
            "text/plain": [
              "[597, 19995, 155, 411088, 206487]"
            ]
          },
          "metadata": {},
          "execution_count": 27
        }
      ]
    },
    {
      "cell_type": "markdown",
      "source": [
        "# Preprocessing Data"
      ],
      "metadata": {
        "id": "T-GBWrYpoBjv"
      }
    },
    {
      "cell_type": "markdown",
      "source": [
        "# One Hot Encoding"
      ],
      "metadata": {
        "id": "CbjVCMV8uyne"
      }
    },
    {
      "cell_type": "code",
      "source": [
        "df_exploded = df.with_columns(df['genres'].str.split(\", \").alias(\"genres\")).explode(\"genres\")"
      ],
      "metadata": {
        "id": "hSAiSlCroGjA"
      },
      "execution_count": 28,
      "outputs": []
    },
    {
      "cell_type": "code",
      "source": [
        "unique_genres = df_exploded[\"genres\"].unique().to_list()\n"
      ],
      "metadata": {
        "id": "TL9yDFuWqAvi"
      },
      "execution_count": 29,
      "outputs": []
    },
    {
      "cell_type": "code",
      "source": [
        "df_one_hot = df_exploded.with_columns(\n",
        "    [\n",
        "      pl.col(\"genres\").eq(genre).cast(pl.Int8()).alias(genre)\n",
        "      for genre in unique_genres\n",
        "    ]\n",
        ").drop(\"genres\")"
      ],
      "metadata": {
        "id": "TmhwAxEWpFbx"
      },
      "execution_count": 30,
      "outputs": []
    },
    {
      "cell_type": "code",
      "source": [
        "df_one_hot = df_one_hot.group_by(\"title\").agg(\n",
        "    [pl.max(genre).alias(genre) for genre in unique_genres]\n",
        ")"
      ],
      "metadata": {
        "id": "InmgFbX2qKo7"
      },
      "execution_count": 31,
      "outputs": []
    },
    {
      "cell_type": "code",
      "source": [
        "df_one_hot"
      ],
      "metadata": {
        "colab": {
          "base_uri": "https://localhost:8080/",
          "height": 636
        },
        "id": "aBKgkodAqNT2",
        "outputId": "a04e08a5-793a-4ea8-c769-30421ba8656c"
      },
      "execution_count": 32,
      "outputs": [
        {
          "output_type": "execute_result",
          "data": {
            "text/plain": [
              "shape: (628_750, 20)\n",
              "┌─────────────────┬────────┬───────────┬───────────┬───┬──────────┬────────┬─────────┬─────────────┐\n",
              "│ title           ┆ Action ┆ Animation ┆ Adventure ┆ … ┆ TV Movie ┆ Horror ┆ Fantasy ┆ Documentary │\n",
              "│ ---             ┆ ---    ┆ ---       ┆ ---       ┆   ┆ ---      ┆ ---    ┆ ---     ┆ ---         │\n",
              "│ str             ┆ i8     ┆ i8        ┆ i8        ┆   ┆ i8       ┆ i8     ┆ i8      ┆ i8          │\n",
              "╞═════════════════╪════════╪═══════════╪═══════════╪═══╪══════════╪════════╪═════════╪═════════════╡\n",
              "│ Eine schwere    ┆ 0      ┆ 0         ┆ 0         ┆ … ┆ 0        ┆ 0      ┆ 0       ┆ 0           │\n",
              "│ Entscheidung    ┆        ┆           ┆           ┆   ┆          ┆        ┆         ┆             │\n",
              "│ Björn Gidstam - ┆ 0      ┆ 0         ┆ 0         ┆ … ┆ 0        ┆ 0      ┆ 0       ┆ 1           │\n",
              "│ En känd doldis  ┆        ┆           ┆           ┆   ┆          ┆        ┆         ┆             │\n",
              "│ For the Love of ┆ 0      ┆ 0         ┆ 0         ┆ … ┆ 0        ┆ 0      ┆ 0       ┆ 1           │\n",
              "│ Spock           ┆        ┆           ┆           ┆   ┆          ┆        ┆         ┆             │\n",
              "│ The Vivid Wilds ┆ 0      ┆ 0         ┆ 0         ┆ … ┆ 0        ┆ 0      ┆ 0       ┆ 0           │\n",
              "│ La canción de   ┆ 1      ┆ 0         ┆ 1         ┆ … ┆ 0        ┆ 0      ┆ 0       ┆ 0           │\n",
              "│ Roldán          ┆        ┆           ┆           ┆   ┆          ┆        ┆         ┆             │\n",
              "│ …               ┆ …      ┆ …         ┆ …         ┆ … ┆ …        ┆ …      ┆ …       ┆ …           │\n",
              "│ Baboon on the   ┆ 0      ┆ 1         ┆ 0         ┆ … ┆ 0        ┆ 0      ┆ 0       ┆ 0           │\n",
              "│ Moon            ┆        ┆           ┆           ┆   ┆          ┆        ┆         ┆             │\n",
              "│ Tool: Salival   ┆ 0      ┆ 0         ┆ 0         ┆ … ┆ 0        ┆ 0      ┆ 0       ┆ 0           │\n",
              "│ Marriage with   ┆ 0      ┆ 0         ┆ 0         ┆ … ┆ 0        ┆ 0      ┆ 0       ┆ 0           │\n",
              "│ Days off        ┆        ┆           ┆           ┆   ┆          ┆        ┆         ┆             │\n",
              "│ The Raping      ┆ 0      ┆ 0         ┆ 0         ┆ … ┆ 0        ┆ 0      ┆ 0       ┆ 0           │\n",
              "│ Murderer        ┆        ┆           ┆           ┆   ┆          ┆        ┆         ┆             │\n",
              "│ Gasbags         ┆ 0      ┆ 0         ┆ 1         ┆ … ┆ 0        ┆ 0      ┆ 0       ┆ 0           │\n",
              "└─────────────────┴────────┴───────────┴───────────┴───┴──────────┴────────┴─────────┴─────────────┘"
            ],
            "text/html": [
              "<div><style>\n",
              ".dataframe > thead > tr,\n",
              ".dataframe > tbody > tr {\n",
              "  text-align: right;\n",
              "  white-space: pre-wrap;\n",
              "}\n",
              "</style>\n",
              "<small>shape: (628_750, 20)</small><table border=\"1\" class=\"dataframe\"><thead><tr><th>title</th><th>Action</th><th>Animation</th><th>Adventure</th><th>Mystery</th><th>Science Fiction</th><th>Drama</th><th>Crime</th><th>Family</th><th>Comedy</th><th>Thriller</th><th>History</th><th>Romance</th><th>Western</th><th>War</th><th>Music</th><th>TV Movie</th><th>Horror</th><th>Fantasy</th><th>Documentary</th></tr><tr><td>str</td><td>i8</td><td>i8</td><td>i8</td><td>i8</td><td>i8</td><td>i8</td><td>i8</td><td>i8</td><td>i8</td><td>i8</td><td>i8</td><td>i8</td><td>i8</td><td>i8</td><td>i8</td><td>i8</td><td>i8</td><td>i8</td><td>i8</td></tr></thead><tbody><tr><td>&quot;Eine schwere Entscheidung&quot;</td><td>0</td><td>0</td><td>0</td><td>0</td><td>0</td><td>1</td><td>0</td><td>0</td><td>0</td><td>0</td><td>0</td><td>0</td><td>0</td><td>0</td><td>0</td><td>0</td><td>0</td><td>0</td><td>0</td></tr><tr><td>&quot;Björn Gidstam - En känd doldis&quot;</td><td>0</td><td>0</td><td>0</td><td>0</td><td>0</td><td>0</td><td>0</td><td>0</td><td>0</td><td>0</td><td>0</td><td>0</td><td>0</td><td>0</td><td>0</td><td>0</td><td>0</td><td>0</td><td>1</td></tr><tr><td>&quot;For the Love of Spock&quot;</td><td>0</td><td>0</td><td>0</td><td>0</td><td>0</td><td>0</td><td>0</td><td>0</td><td>0</td><td>0</td><td>0</td><td>0</td><td>0</td><td>0</td><td>0</td><td>0</td><td>0</td><td>0</td><td>1</td></tr><tr><td>&quot;The Vivid Wilds&quot;</td><td>0</td><td>0</td><td>0</td><td>0</td><td>0</td><td>1</td><td>1</td><td>0</td><td>0</td><td>1</td><td>0</td><td>0</td><td>0</td><td>0</td><td>0</td><td>0</td><td>0</td><td>0</td><td>0</td></tr><tr><td>&quot;La canción de Roldán&quot;</td><td>1</td><td>0</td><td>1</td><td>0</td><td>0</td><td>0</td><td>0</td><td>0</td><td>0</td><td>0</td><td>0</td><td>0</td><td>0</td><td>1</td><td>0</td><td>0</td><td>0</td><td>0</td><td>0</td></tr><tr><td>&hellip;</td><td>&hellip;</td><td>&hellip;</td><td>&hellip;</td><td>&hellip;</td><td>&hellip;</td><td>&hellip;</td><td>&hellip;</td><td>&hellip;</td><td>&hellip;</td><td>&hellip;</td><td>&hellip;</td><td>&hellip;</td><td>&hellip;</td><td>&hellip;</td><td>&hellip;</td><td>&hellip;</td><td>&hellip;</td><td>&hellip;</td><td>&hellip;</td></tr><tr><td>&quot;Baboon on the Moon&quot;</td><td>0</td><td>1</td><td>0</td><td>0</td><td>0</td><td>0</td><td>0</td><td>0</td><td>0</td><td>0</td><td>0</td><td>0</td><td>0</td><td>0</td><td>0</td><td>0</td><td>0</td><td>0</td><td>0</td></tr><tr><td>&quot;Tool: Salival&quot;</td><td>0</td><td>0</td><td>0</td><td>0</td><td>0</td><td>0</td><td>0</td><td>0</td><td>0</td><td>0</td><td>0</td><td>0</td><td>0</td><td>0</td><td>1</td><td>0</td><td>0</td><td>0</td><td>0</td></tr><tr><td>&quot;Marriage with Days off&quot;</td><td>0</td><td>0</td><td>0</td><td>0</td><td>0</td><td>0</td><td>0</td><td>0</td><td>1</td><td>0</td><td>0</td><td>0</td><td>0</td><td>0</td><td>0</td><td>0</td><td>0</td><td>0</td><td>0</td></tr><tr><td>&quot;The Raping Murderer&quot;</td><td>0</td><td>0</td><td>0</td><td>0</td><td>0</td><td>1</td><td>1</td><td>0</td><td>0</td><td>1</td><td>0</td><td>0</td><td>0</td><td>0</td><td>0</td><td>0</td><td>0</td><td>0</td><td>0</td></tr><tr><td>&quot;Gasbags&quot;</td><td>0</td><td>0</td><td>1</td><td>0</td><td>0</td><td>0</td><td>0</td><td>0</td><td>1</td><td>0</td><td>0</td><td>0</td><td>0</td><td>1</td><td>0</td><td>0</td><td>0</td><td>0</td><td>0</td></tr></tbody></table></div>"
            ]
          },
          "metadata": {},
          "execution_count": 32
        }
      ]
    },
    {
      "cell_type": "markdown",
      "source": [
        "# Normalize numerical column"
      ],
      "metadata": {
        "id": "djQh-zqDvLuA"
      }
    },
    {
      "cell_type": "code",
      "source": [
        "df = df.with_columns(\n",
        "    [\n",
        "    ((df[col] - df[col].min()) / (df[col].max() - df[col].min())).alias(f\"{col}_scaled\")\n",
        "    for col in [\"vote_average\", \"vote_count\", \"popularity\"]\n",
        "  ]\n",
        ")\n",
        "df"
      ],
      "metadata": {
        "colab": {
          "base_uri": "https://localhost:8080/",
          "height": 949
        },
        "id": "cfvMDKm2uBqp",
        "outputId": "61df9d30-6ef7-472f-e4f6-c8b531fe59eb"
      },
      "execution_count": 33,
      "outputs": [
        {
          "output_type": "execute_result",
          "data": {
            "text/plain": [
              "shape: (732_041, 26)\n",
              "┌─────────┬────────────┬───────────┬───────────┬───┬───────────┬───────────┬───────────┬───────────┐\n",
              "│ id      ┆ title      ┆ vote_aver ┆ vote_coun ┆ … ┆ poster_pa ┆ vote_aver ┆ vote_coun ┆ popularit │\n",
              "│ ---     ┆ ---        ┆ age       ┆ t         ┆   ┆ th        ┆ age_scale ┆ t_scaled  ┆ y_scaled  │\n",
              "│ i64     ┆ str        ┆ ---       ┆ ---       ┆   ┆ ---       ┆ d         ┆ ---       ┆ ---       │\n",
              "│         ┆            ┆ f64       ┆ f64       ┆   ┆ str       ┆ ---       ┆ f64       ┆ f64       │\n",
              "│         ┆            ┆           ┆           ┆   ┆           ┆ f64       ┆           ┆           │\n",
              "╞═════════╪════════════╪═══════════╪═══════════╪═══╪═══════════╪═══════════╪═══════════╪═══════════╡\n",
              "│ 2       ┆ Ariel      ┆ 7.1       ┆ 339.0     ┆ … ┆ /ojDg0PGv ┆ 0.71      ┆ 0.00919   ┆ 0.001387  │\n",
              "│         ┆            ┆           ┆           ┆   ┆ s6R9xYFod ┆           ┆           ┆           │\n",
              "│         ┆            ┆           ┆           ┆   ┆ Rct2kdI6w ┆           ┆           ┆           │\n",
              "│         ┆            ┆           ┆           ┆   ┆ C.j…      ┆           ┆           ┆           │\n",
              "│ 3       ┆ Shadows in ┆ 7.3       ┆ 402.0     ┆ … ┆ /nj01hspa ┆ 0.73      ┆ 0.010898  ┆ 0.002178  │\n",
              "│         ┆ Paradise   ┆           ┆           ┆   ┆ wPof0mJml ┆           ┆           ┆           │\n",
              "│         ┆            ┆           ┆           ┆   ┆ gfjuLyJuR ┆           ┆           ┆           │\n",
              "│         ┆            ┆           ┆           ┆   ┆ N.j…      ┆           ┆           ┆           │\n",
              "│ 5       ┆ Four Rooms ┆ 5.9       ┆ 2656.0    ┆ … ┆ /pyCk5Jgt ┆ 0.59      ┆ 0.072004  ┆ 0.002492  │\n",
              "│         ┆            ┆           ┆           ┆   ┆ RZwRxnXwf ┆           ┆           ┆           │\n",
              "│         ┆            ┆           ┆           ┆   ┆ rvyzukaKu ┆           ┆           ┆           │\n",
              "│         ┆            ┆           ┆           ┆   ┆ e.j…      ┆           ┆           ┆           │\n",
              "│ 6       ┆ Judgment   ┆ 6.5       ┆ 333.0     ┆ … ┆ /3rvvpS9Y ┆ 0.65      ┆ 0.009028  ┆ 0.001607  │\n",
              "│         ┆ Night      ┆           ┆           ┆   ┆ PM5HB2f4H ┆           ┆           ┆           │\n",
              "│         ┆            ┆           ┆           ┆   ┆ YiNiJVtda ┆           ┆           ┆           │\n",
              "│         ┆            ┆           ┆           ┆   ┆ m.j…      ┆           ┆           ┆           │\n",
              "│ 8       ┆ Life in    ┆ 7.5       ┆ 27.0      ┆ … ┆ /7ln81BRn ┆ 0.75      ┆ 0.000732  ┆ 0.000425  │\n",
              "│         ┆ Loops (A   ┆           ┆           ┆   ┆ PR2wqxuIT ┆           ┆           ┆           │\n",
              "│         ┆ Megacities ┆           ┆           ┆   ┆ ZxEciCe1l ┆           ┆           ┆           │\n",
              "│         ┆ RM…        ┆           ┆           ┆   ┆ c.j…      ┆           ┆           ┆           │\n",
              "│ …       ┆ …          ┆ …         ┆ …         ┆ … ┆ …         ┆ …         ┆ …         ┆ …         │\n",
              "│ 1424425 ┆ All or     ┆ 0.0       ┆ 0.0       ┆ … ┆ /xVC0DpiB ┆ 0.0       ┆ 0.0       ┆ 0.0       │\n",
              "│         ┆ Nothing    ┆           ┆           ┆   ┆ uyTNzVD56 ┆           ┆           ┆           │\n",
              "│         ┆            ┆           ┆           ┆   ┆ IXCvxuany ┆           ┆           ┆           │\n",
              "│         ┆            ┆           ┆           ┆   ┆ C.j…      ┆           ┆           ┆           │\n",
              "│ 1424426 ┆ Ring       ┆ 0.0       ┆ 0.0       ┆ … ┆ /lMkolCsW ┆ 0.0       ┆ 0.0       ┆ 0.0       │\n",
              "│         ┆ Around The ┆           ┆           ┆   ┆ tkMlaLw8C ┆           ┆           ┆           │\n",
              "│         ┆ New Year   ┆           ┆           ┆   ┆ LKxEKFZc9 ┆           ┆           ┆           │\n",
              "│         ┆            ┆           ┆           ┆   ┆ A.j…      ┆           ┆           ┆           │\n",
              "│ 1424428 ┆ Narvas     ┆ 0.0       ┆ 0.0       ┆ … ┆ /qgE4GjD4 ┆ 0.0       ┆ 0.0       ┆ 0.0       │\n",
              "│         ┆ kinni      ┆           ┆           ┆   ┆ ILI6hAEla ┆           ┆           ┆           │\n",
              "│         ┆            ┆           ┆           ┆   ┆ yJDlFvx25 ┆           ┆           ┆           │\n",
              "│         ┆            ┆           ┆           ┆   ┆ X.j…      ┆           ┆           ┆           │\n",
              "│ 1424431 ┆ Bestiari,  ┆ 0.0       ┆ 0.0       ┆ … ┆           ┆ 0.0       ┆ 0.0       ┆ 0.0       │\n",
              "│         ┆ Erbari,    ┆           ┆           ┆   ┆           ┆           ┆           ┆           │\n",
              "│         ┆ Lapidari / ┆           ┆           ┆   ┆           ┆           ┆           ┆           │\n",
              "│         ┆ D…         ┆           ┆           ┆   ┆           ┆           ┆           ┆           │\n",
              "│ 1424476 ┆ What’s In  ┆ 0.0       ┆ 0.0       ┆ … ┆           ┆ 0.0       ┆ 0.0       ┆ 0.0       │\n",
              "│         ┆ Store?     ┆           ┆           ┆   ┆           ┆           ┆           ┆           │\n",
              "└─────────┴────────────┴───────────┴───────────┴───┴───────────┴───────────┴───────────┴───────────┘"
            ],
            "text/html": [
              "<div><style>\n",
              ".dataframe > thead > tr,\n",
              ".dataframe > tbody > tr {\n",
              "  text-align: right;\n",
              "  white-space: pre-wrap;\n",
              "}\n",
              "</style>\n",
              "<small>shape: (732_041, 26)</small><table border=\"1\" class=\"dataframe\"><thead><tr><th>id</th><th>title</th><th>vote_average</th><th>vote_count</th><th>release_date</th><th>runtime</th><th>imdb_id</th><th>original_language</th><th>original_title</th><th>popularity</th><th>tagline</th><th>genres</th><th>production_countries</th><th>spoken_languages</th><th>cast</th><th>director</th><th>director_of_photography</th><th>writers</th><th>producers</th><th>music_composer</th><th>imdb_rating</th><th>imdb_votes</th><th>poster_path</th><th>vote_average_scaled</th><th>vote_count_scaled</th><th>popularity_scaled</th></tr><tr><td>i64</td><td>str</td><td>f64</td><td>f64</td><td>str</td><td>f64</td><td>str</td><td>str</td><td>str</td><td>f64</td><td>str</td><td>str</td><td>str</td><td>str</td><td>str</td><td>str</td><td>str</td><td>str</td><td>str</td><td>str</td><td>f64</td><td>f64</td><td>str</td><td>f64</td><td>f64</td><td>f64</td></tr></thead><tbody><tr><td>2</td><td>&quot;Ariel&quot;</td><td>7.1</td><td>339.0</td><td>&quot;1988-10-21&quot;</td><td>73.0</td><td>&quot;tt0094675&quot;</td><td>&quot;fi&quot;</td><td>&quot;Ariel&quot;</td><td>10.454</td><td>&quot;&quot;</td><td>&quot;Comedy, Drama, Romance, Crime&quot;</td><td>&quot;Finland&quot;</td><td>&quot;suomi&quot;</td><td>&quot;Jyrki Olsonen, Pentti Auer, Es…</td><td>&quot;Aki Kaurismäki&quot;</td><td>&quot;Timo Salminen&quot;</td><td>&quot;Aki Kaurismäki&quot;</td><td>&quot;Aki Kaurismäki&quot;</td><td>&quot;&quot;</td><td>7.4</td><td>8924.0</td><td>&quot;/ojDg0PGvs6R9xYFodRct2kdI6wC.j…</td><td>0.71</td><td>0.00919</td><td>0.001387</td></tr><tr><td>3</td><td>&quot;Shadows in Paradise&quot;</td><td>7.3</td><td>402.0</td><td>&quot;1986-10-17&quot;</td><td>74.0</td><td>&quot;tt0092149&quot;</td><td>&quot;fi&quot;</td><td>&quot;Varjoja paratiisissa&quot;</td><td>16.411</td><td>&quot;&quot;</td><td>&quot;Comedy, Drama, Romance&quot;</td><td>&quot;Finland&quot;</td><td>&quot;suomi, English, svenska&quot;</td><td>&quot;Sirkka Silin, Helmeri Pellonpä…</td><td>&quot;Aki Kaurismäki&quot;</td><td>&quot;Timo Salminen&quot;</td><td>&quot;Aki Kaurismäki&quot;</td><td>&quot;Mika Kaurismäki&quot;</td><td>&quot;&quot;</td><td>7.5</td><td>7704.0</td><td>&quot;/nj01hspawPof0mJmlgfjuLyJuRN.j…</td><td>0.73</td><td>0.010898</td><td>0.002178</td></tr><tr><td>5</td><td>&quot;Four Rooms&quot;</td><td>5.9</td><td>2656.0</td><td>&quot;1995-12-09&quot;</td><td>98.0</td><td>&quot;tt0113101&quot;</td><td>&quot;en&quot;</td><td>&quot;Four Rooms&quot;</td><td>18.777</td><td>&quot;Twelve outrageous guests. Four…</td><td>&quot;Comedy&quot;</td><td>&quot;United States of America&quot;</td><td>&quot;English&quot;</td><td>&quot;Salma Hayek Pinault, Unruly Ju…</td><td>&quot;Quentin Tarantino, Robert Rodr…</td><td>&quot;Andrzej Sekula, Phil Parmet, G…</td><td>&quot;Quentin Tarantino, Robert Rodr…</td><td>&quot;Quentin Tarantino, Alexandre R…</td><td>&quot;Combustible Edison&quot;</td><td>6.7</td><td>113283.0</td><td>&quot;/pyCk5JgtRZwRxnXwfrvyzukaKue.j…</td><td>0.59</td><td>0.072004</td><td>0.002492</td></tr><tr><td>6</td><td>&quot;Judgment Night&quot;</td><td>6.5</td><td>333.0</td><td>&quot;1993-10-15&quot;</td><td>109.0</td><td>&quot;tt0107286&quot;</td><td>&quot;en&quot;</td><td>&quot;Judgment Night&quot;</td><td>12.11</td><td>&quot;Don&#x27;t move. Don&#x27;t whisper. Don…</td><td>&quot;Action, Crime, Thriller&quot;</td><td>&quot;United States of America&quot;</td><td>&quot;English&quot;</td><td>&quot;Stephen Dorff, Everlast, Will …</td><td>&quot;Stephen Hopkins&quot;</td><td>&quot;Peter Levy&quot;</td><td>&quot;Jere Cunningham, Lewis Colick&quot;</td><td>&quot;Gene Levy, Marilyn Vance, Lloy…</td><td>&quot;Alan Silvestri&quot;</td><td>6.6</td><td>19556.0</td><td>&quot;/3rvvpS9YPM5HB2f4HYiNiJVtdam.j…</td><td>0.65</td><td>0.009028</td><td>0.001607</td></tr><tr><td>8</td><td>&quot;Life in Loops (A Megacities RM…</td><td>7.5</td><td>27.0</td><td>&quot;2006-01-01&quot;</td><td>80.0</td><td>&quot;tt0825671&quot;</td><td>&quot;en&quot;</td><td>&quot;Life in Loops (A Megacities RM…</td><td>3.203</td><td>&quot;A Megacities remix.&quot;</td><td>&quot;Documentary&quot;</td><td>&quot;Austria&quot;</td><td>&quot;English, हिन्दी, 日本語, Pусский,…</td><td>&quot;&quot;</td><td>&quot;Timo Novotny&quot;</td><td>&quot;Wolfgang Thaler&quot;</td><td>&quot;Michael Glawogger, Timo Novotn…</td><td>&quot;Ulrich Gehmacher, Timo Novotny&quot;</td><td>&quot;&quot;</td><td>8.2</td><td>284.0</td><td>&quot;/7ln81BRnPR2wqxuITZxEciCe1lc.j…</td><td>0.75</td><td>0.000732</td><td>0.000425</td></tr><tr><td>&hellip;</td><td>&hellip;</td><td>&hellip;</td><td>&hellip;</td><td>&hellip;</td><td>&hellip;</td><td>&hellip;</td><td>&hellip;</td><td>&hellip;</td><td>&hellip;</td><td>&hellip;</td><td>&hellip;</td><td>&hellip;</td><td>&hellip;</td><td>&hellip;</td><td>&hellip;</td><td>&hellip;</td><td>&hellip;</td><td>&hellip;</td><td>&hellip;</td><td>&hellip;</td><td>&hellip;</td><td>&hellip;</td><td>&hellip;</td><td>&hellip;</td><td>&hellip;</td></tr><tr><td>1424425</td><td>&quot;All or Nothing&quot;</td><td>0.0</td><td>0.0</td><td>&quot;2023-09-02&quot;</td><td>9.0</td><td>&quot;tt29324641&quot;</td><td>&quot;en&quot;</td><td>&quot;All or Nothing&quot;</td><td>0.0</td><td>&quot;&quot;</td><td>&quot;Drama, Romance&quot;</td><td>&quot;&quot;</td><td>&quot;&quot;</td><td>&quot;Kayla Lynette Miller, La-Teish…</td><td>&quot;Alex R. Wagner&quot;</td><td>&quot;&quot;</td><td>&quot;Alex R. Wagner&quot;</td><td>&quot;Chelsea Roach, Alex R. Wagner&quot;</td><td>&quot;&quot;</td><td>null</td><td>null</td><td>&quot;/xVC0DpiBuyTNzVD56IXCvxuanyC.j…</td><td>0.0</td><td>0.0</td><td>0.0</td></tr><tr><td>1424426</td><td>&quot;Ring Around The New Year&quot;</td><td>0.0</td><td>0.0</td><td>&quot;2024-03-16&quot;</td><td>9.0</td><td>&quot;tt31949124&quot;</td><td>&quot;en&quot;</td><td>&quot;Ring Around The New Year&quot;</td><td>0.0</td><td>&quot;&quot;</td><td>&quot;Comedy&quot;</td><td>&quot;&quot;</td><td>&quot;&quot;</td><td>&quot;&quot;</td><td>&quot;&quot;</td><td>&quot;&quot;</td><td>&quot;&quot;</td><td>&quot;&quot;</td><td>&quot;&quot;</td><td>null</td><td>null</td><td>&quot;/lMkolCsWtkMlaLw8CLKxEKFZc9A.j…</td><td>0.0</td><td>0.0</td><td>0.0</td></tr><tr><td>1424428</td><td>&quot;Narvas kinni&quot;</td><td>0.0</td><td>0.0</td><td>&quot;2025-01-26&quot;</td><td>27.0</td><td>&quot;tt35292535&quot;</td><td>&quot;et&quot;</td><td>&quot;Narvas kinni&quot;</td><td>0.0</td><td>&quot;&quot;</td><td>&quot;Documentary&quot;</td><td>&quot;Estonia&quot;</td><td>&quot;Eesti, Pусский&quot;</td><td>&quot;&quot;</td><td>&quot;&quot;</td><td>&quot;&quot;</td><td>&quot;&quot;</td><td>&quot;&quot;</td><td>&quot;&quot;</td><td>null</td><td>null</td><td>&quot;/qgE4GjD4ILI6hAElayJDlFvx25X.j…</td><td>0.0</td><td>0.0</td><td>0.0</td></tr><tr><td>1424431</td><td>&quot;Bestiari, Erbari, Lapidari / D…</td><td>0.0</td><td>0.0</td><td>&quot;2025-01-27&quot;</td><td>81.0</td><td>&quot;&quot;</td><td>&quot;it&quot;</td><td>&quot;Bestiari, Erbari, Lapidari / D…</td><td>0.0</td><td>&quot;&quot;</td><td>&quot;Documentary&quot;</td><td>&quot;&quot;</td><td>&quot;Italiano&quot;</td><td>&quot;&quot;</td><td>&quot;&quot;</td><td>&quot;&quot;</td><td>&quot;&quot;</td><td>&quot;&quot;</td><td>&quot;&quot;</td><td>null</td><td>null</td><td>&quot;&quot;</td><td>0.0</td><td>0.0</td><td>0.0</td></tr><tr><td>1424476</td><td>&quot;What’s In Store?&quot;</td><td>0.0</td><td>0.0</td><td>&quot;&quot;</td><td>23.0</td><td>&quot;&quot;</td><td>&quot;en&quot;</td><td>&quot;What’s In Store?&quot;</td><td>0.0</td><td>&quot;&quot;</td><td>&quot;Documentary&quot;</td><td>&quot;&quot;</td><td>&quot;English&quot;</td><td>&quot;&quot;</td><td>&quot;&quot;</td><td>&quot;&quot;</td><td>&quot;&quot;</td><td>&quot;&quot;</td><td>&quot;&quot;</td><td>null</td><td>null</td><td>&quot;&quot;</td><td>0.0</td><td>0.0</td><td>0.0</td></tr></tbody></table></div>"
            ]
          },
          "metadata": {},
          "execution_count": 33
        }
      ]
    }
  ]
}